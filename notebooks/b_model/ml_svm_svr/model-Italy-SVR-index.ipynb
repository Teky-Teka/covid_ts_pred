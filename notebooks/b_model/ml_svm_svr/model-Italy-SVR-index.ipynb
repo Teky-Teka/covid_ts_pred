{
 "cells": [
  {
   "cell_type": "markdown",
   "metadata": {},
   "source": [
    "# COVID-19 Mortality Prediction with Support Vector Regression Model"
   ]
  },
  {
   "cell_type": "markdown",
   "metadata": {},
   "source": [
    "### Dependencies importing"
   ]
  },
  {
   "cell_type": "code",
   "execution_count": 1,
   "metadata": {},
   "outputs": [
    {
     "name": "stdout",
     "output_type": "stream",
     "text": [
      "project env_path /Users/tekyteka/code/Teky-Teka/covid_ts_pred/.env\n",
      "project env_path /Users/tekyteka/code/Teky-Teka/covid_ts_pred/covid_ts_pred/.env\n"
     ]
    }
   ],
   "source": [
    "# Auto reload imported module every time a jupyter cell is executed\n",
    "%load_ext autoreload\n",
    "%autoreload 2\n",
    "### TBE -> To Be Engineering...\n",
    "# covid_ts_pred package\n",
    "from covid_ts_pred.c_eng.engineering import *"
   ]
  },
  {
   "cell_type": "code",
   "execution_count": 2,
   "metadata": {},
   "outputs": [],
   "source": [
    "import pandas as pd\n",
    "import numpy as np\n",
    "import itertools\n",
    "import matplotlib.pyplot as plt\n",
    "%matplotlib inline\n",
    "import plotly.express as px\n",
    "import seaborn as sns \n",
    "from statsmodels.graphics.tsaplots import plot_acf, plot_pacf\n",
    "import plotly.graph_objects as go\n",
    "from plotly.subplots import make_subplots"
   ]
  },
  {
   "cell_type": "code",
   "execution_count": 3,
   "metadata": {},
   "outputs": [],
   "source": [
    " #sklearn preproc\n",
    "\n",
    "from sklearn.preprocessing import MinMaxScaler, StandardScaler\n",
    "from sklearn.pipeline import Pipeline, make_pipeline\n",
    "from sklearn.compose import ColumnTransformer, make_column_transformer, make_column_selector\n",
    "from sklearn.impute import SimpleImputer, KNNImputer\n",
    "from sklearn.preprocessing import RobustScaler, OneHotEncoder, OrdinalEncoder\n",
    "from sklearn.metrics import make_scorer\n",
    "from sklearn.model_selection import RandomizedSearchCV\n",
    "from sklearn.svm import SVR\n",
    "from sklearn.model_selection import GridSearchCV, RandomizedSearchCV\n",
    "from sklearn.metrics import mean_absolute_percentage_error\n",
    "\n",
    "import pickle"
   ]
  },
  {
   "cell_type": "code",
   "execution_count": 4,
   "metadata": {},
   "outputs": [],
   "source": [
    "### TBE done!\n",
    "country='Italy'"
   ]
  },
  {
   "cell_type": "code",
   "execution_count": 5,
   "metadata": {},
   "outputs": [],
   "source": [
    "### TBE done!\n",
    "data_index = pd.read_csv(get_csv_out_path(f'index_{country}.csv'))"
   ]
  },
  {
   "cell_type": "code",
   "execution_count": 6,
   "metadata": {},
   "outputs": [
    {
     "data": {
      "text/html": [
       "<div>\n",
       "<style scoped>\n",
       "    .dataframe tbody tr th:only-of-type {\n",
       "        vertical-align: middle;\n",
       "    }\n",
       "\n",
       "    .dataframe tbody tr th {\n",
       "        vertical-align: top;\n",
       "    }\n",
       "\n",
       "    .dataframe thead th {\n",
       "        text-align: right;\n",
       "    }\n",
       "</style>\n",
       "<table border=\"1\" class=\"dataframe\">\n",
       "  <thead>\n",
       "    <tr style=\"text-align: right;\">\n",
       "      <th></th>\n",
       "      <th>date</th>\n",
       "      <th>containment_and_health</th>\n",
       "      <th>stringency</th>\n",
       "      <th>economics_sup</th>\n",
       "      <th>total_cases</th>\n",
       "      <th>new_cases</th>\n",
       "      <th>total_deaths</th>\n",
       "      <th>new_deaths</th>\n",
       "      <th>gov_response</th>\n",
       "      <th>total_vaccinations</th>\n",
       "      <th>people_vaccinated</th>\n",
       "      <th>people_fully_vaccinated</th>\n",
       "      <th>total_boosters</th>\n",
       "    </tr>\n",
       "  </thead>\n",
       "  <tbody>\n",
       "    <tr>\n",
       "      <th>0</th>\n",
       "      <td>2020-02-21</td>\n",
       "      <td>0.043473</td>\n",
       "      <td>0.050420</td>\n",
       "      <td>0.0</td>\n",
       "      <td>20.0</td>\n",
       "      <td>17.0</td>\n",
       "      <td>1.0</td>\n",
       "      <td>1.0</td>\n",
       "      <td>0.038026</td>\n",
       "      <td>0.0</td>\n",
       "      <td>0.0</td>\n",
       "      <td>0.0</td>\n",
       "      <td>0.0</td>\n",
       "    </tr>\n",
       "    <tr>\n",
       "      <th>1</th>\n",
       "      <td>2020-02-22</td>\n",
       "      <td>0.052921</td>\n",
       "      <td>0.067227</td>\n",
       "      <td>0.0</td>\n",
       "      <td>62.0</td>\n",
       "      <td>42.0</td>\n",
       "      <td>2.0</td>\n",
       "      <td>1.0</td>\n",
       "      <td>0.046294</td>\n",
       "      <td>0.0</td>\n",
       "      <td>0.0</td>\n",
       "      <td>0.0</td>\n",
       "      <td>0.0</td>\n",
       "    </tr>\n",
       "    <tr>\n",
       "      <th>2</th>\n",
       "      <td>2020-02-23</td>\n",
       "      <td>0.090265</td>\n",
       "      <td>0.116794</td>\n",
       "      <td>0.0</td>\n",
       "      <td>155.0</td>\n",
       "      <td>93.0</td>\n",
       "      <td>3.0</td>\n",
       "      <td>1.0</td>\n",
       "      <td>0.078940</td>\n",
       "      <td>0.0</td>\n",
       "      <td>0.0</td>\n",
       "      <td>0.0</td>\n",
       "      <td>0.0</td>\n",
       "    </tr>\n",
       "    <tr>\n",
       "      <th>3</th>\n",
       "      <td>2020-02-24</td>\n",
       "      <td>0.090265</td>\n",
       "      <td>0.116794</td>\n",
       "      <td>0.0</td>\n",
       "      <td>229.0</td>\n",
       "      <td>74.0</td>\n",
       "      <td>7.0</td>\n",
       "      <td>4.0</td>\n",
       "      <td>0.078940</td>\n",
       "      <td>0.0</td>\n",
       "      <td>0.0</td>\n",
       "      <td>0.0</td>\n",
       "      <td>0.0</td>\n",
       "    </tr>\n",
       "    <tr>\n",
       "      <th>4</th>\n",
       "      <td>2020-02-25</td>\n",
       "      <td>0.090265</td>\n",
       "      <td>0.116794</td>\n",
       "      <td>0.0</td>\n",
       "      <td>322.0</td>\n",
       "      <td>93.0</td>\n",
       "      <td>10.0</td>\n",
       "      <td>3.0</td>\n",
       "      <td>0.078940</td>\n",
       "      <td>0.0</td>\n",
       "      <td>0.0</td>\n",
       "      <td>0.0</td>\n",
       "      <td>0.0</td>\n",
       "    </tr>\n",
       "  </tbody>\n",
       "</table>\n",
       "</div>"
      ],
      "text/plain": [
       "         date  containment_and_health  stringency  economics_sup  total_cases  \\\n",
       "0  2020-02-21                0.043473    0.050420            0.0         20.0   \n",
       "1  2020-02-22                0.052921    0.067227            0.0         62.0   \n",
       "2  2020-02-23                0.090265    0.116794            0.0        155.0   \n",
       "3  2020-02-24                0.090265    0.116794            0.0        229.0   \n",
       "4  2020-02-25                0.090265    0.116794            0.0        322.0   \n",
       "\n",
       "   new_cases  total_deaths  new_deaths  gov_response  total_vaccinations  \\\n",
       "0       17.0           1.0         1.0      0.038026                 0.0   \n",
       "1       42.0           2.0         1.0      0.046294                 0.0   \n",
       "2       93.0           3.0         1.0      0.078940                 0.0   \n",
       "3       74.0           7.0         4.0      0.078940                 0.0   \n",
       "4       93.0          10.0         3.0      0.078940                 0.0   \n",
       "\n",
       "   people_vaccinated  people_fully_vaccinated  total_boosters  \n",
       "0                0.0                      0.0             0.0  \n",
       "1                0.0                      0.0             0.0  \n",
       "2                0.0                      0.0             0.0  \n",
       "3                0.0                      0.0             0.0  \n",
       "4                0.0                      0.0             0.0  "
      ]
     },
     "execution_count": 6,
     "metadata": {},
     "output_type": "execute_result"
    }
   ],
   "source": [
    "data_index.head()"
   ]
  },
  {
   "cell_type": "code",
   "execution_count": 7,
   "metadata": {},
   "outputs": [],
   "source": [
    "data_index=data_index.set_index('date')"
   ]
  },
  {
   "cell_type": "code",
   "execution_count": 8,
   "metadata": {},
   "outputs": [
    {
     "data": {
      "text/html": [
       "<div>\n",
       "<style scoped>\n",
       "    .dataframe tbody tr th:only-of-type {\n",
       "        vertical-align: middle;\n",
       "    }\n",
       "\n",
       "    .dataframe tbody tr th {\n",
       "        vertical-align: top;\n",
       "    }\n",
       "\n",
       "    .dataframe thead th {\n",
       "        text-align: right;\n",
       "    }\n",
       "</style>\n",
       "<table border=\"1\" class=\"dataframe\">\n",
       "  <thead>\n",
       "    <tr style=\"text-align: right;\">\n",
       "      <th></th>\n",
       "      <th>containment_and_health</th>\n",
       "      <th>stringency</th>\n",
       "      <th>economics_sup</th>\n",
       "      <th>total_cases</th>\n",
       "      <th>new_cases</th>\n",
       "      <th>total_deaths</th>\n",
       "      <th>new_deaths</th>\n",
       "      <th>gov_response</th>\n",
       "      <th>total_vaccinations</th>\n",
       "      <th>people_vaccinated</th>\n",
       "      <th>...</th>\n",
       "      <th>day-1</th>\n",
       "      <th>day-2</th>\n",
       "      <th>day-3</th>\n",
       "      <th>day-4</th>\n",
       "      <th>day-5</th>\n",
       "      <th>day-6</th>\n",
       "      <th>day-7</th>\n",
       "      <th>day-8</th>\n",
       "      <th>day-9</th>\n",
       "      <th>day-10</th>\n",
       "    </tr>\n",
       "    <tr>\n",
       "      <th>date</th>\n",
       "      <th></th>\n",
       "      <th></th>\n",
       "      <th></th>\n",
       "      <th></th>\n",
       "      <th></th>\n",
       "      <th></th>\n",
       "      <th></th>\n",
       "      <th></th>\n",
       "      <th></th>\n",
       "      <th></th>\n",
       "      <th></th>\n",
       "      <th></th>\n",
       "      <th></th>\n",
       "      <th></th>\n",
       "      <th></th>\n",
       "      <th></th>\n",
       "      <th></th>\n",
       "      <th></th>\n",
       "      <th></th>\n",
       "      <th></th>\n",
       "      <th></th>\n",
       "    </tr>\n",
       "  </thead>\n",
       "  <tbody>\n",
       "    <tr>\n",
       "      <th>2020-03-02</th>\n",
       "      <td>0.099713</td>\n",
       "      <td>0.126885</td>\n",
       "      <td>0.0</td>\n",
       "      <td>2036.0</td>\n",
       "      <td>342.0</td>\n",
       "      <td>52.0</td>\n",
       "      <td>18.0</td>\n",
       "      <td>0.087209</td>\n",
       "      <td>0.0</td>\n",
       "      <td>0.0</td>\n",
       "      <td>...</td>\n",
       "      <td>34.0</td>\n",
       "      <td>29.0</td>\n",
       "      <td>21.0</td>\n",
       "      <td>17.0</td>\n",
       "      <td>12.0</td>\n",
       "      <td>10.0</td>\n",
       "      <td>7.0</td>\n",
       "      <td>3.0</td>\n",
       "      <td>2.0</td>\n",
       "      <td>1.0</td>\n",
       "    </tr>\n",
       "    <tr>\n",
       "      <th>2020-03-03</th>\n",
       "      <td>0.099713</td>\n",
       "      <td>0.126885</td>\n",
       "      <td>0.0</td>\n",
       "      <td>2502.0</td>\n",
       "      <td>466.0</td>\n",
       "      <td>79.0</td>\n",
       "      <td>27.0</td>\n",
       "      <td>0.087209</td>\n",
       "      <td>0.0</td>\n",
       "      <td>0.0</td>\n",
       "      <td>...</td>\n",
       "      <td>52.0</td>\n",
       "      <td>34.0</td>\n",
       "      <td>29.0</td>\n",
       "      <td>21.0</td>\n",
       "      <td>17.0</td>\n",
       "      <td>12.0</td>\n",
       "      <td>10.0</td>\n",
       "      <td>7.0</td>\n",
       "      <td>3.0</td>\n",
       "      <td>2.0</td>\n",
       "    </tr>\n",
       "    <tr>\n",
       "      <th>2020-03-04</th>\n",
       "      <td>0.102539</td>\n",
       "      <td>0.131931</td>\n",
       "      <td>0.0</td>\n",
       "      <td>3089.0</td>\n",
       "      <td>587.0</td>\n",
       "      <td>107.0</td>\n",
       "      <td>28.0</td>\n",
       "      <td>0.089685</td>\n",
       "      <td>0.0</td>\n",
       "      <td>0.0</td>\n",
       "      <td>...</td>\n",
       "      <td>79.0</td>\n",
       "      <td>52.0</td>\n",
       "      <td>34.0</td>\n",
       "      <td>29.0</td>\n",
       "      <td>21.0</td>\n",
       "      <td>17.0</td>\n",
       "      <td>12.0</td>\n",
       "      <td>10.0</td>\n",
       "      <td>7.0</td>\n",
       "      <td>3.0</td>\n",
       "    </tr>\n",
       "    <tr>\n",
       "      <th>2020-03-05</th>\n",
       "      <td>0.104428</td>\n",
       "      <td>0.135288</td>\n",
       "      <td>0.0</td>\n",
       "      <td>3858.0</td>\n",
       "      <td>769.0</td>\n",
       "      <td>148.0</td>\n",
       "      <td>41.0</td>\n",
       "      <td>0.091335</td>\n",
       "      <td>0.0</td>\n",
       "      <td>0.0</td>\n",
       "      <td>...</td>\n",
       "      <td>107.0</td>\n",
       "      <td>79.0</td>\n",
       "      <td>52.0</td>\n",
       "      <td>34.0</td>\n",
       "      <td>29.0</td>\n",
       "      <td>21.0</td>\n",
       "      <td>17.0</td>\n",
       "      <td>12.0</td>\n",
       "      <td>10.0</td>\n",
       "      <td>7.0</td>\n",
       "    </tr>\n",
       "    <tr>\n",
       "      <th>2020-03-06</th>\n",
       "      <td>0.104428</td>\n",
       "      <td>0.135288</td>\n",
       "      <td>0.0</td>\n",
       "      <td>4636.0</td>\n",
       "      <td>778.0</td>\n",
       "      <td>197.0</td>\n",
       "      <td>49.0</td>\n",
       "      <td>0.091335</td>\n",
       "      <td>0.0</td>\n",
       "      <td>0.0</td>\n",
       "      <td>...</td>\n",
       "      <td>148.0</td>\n",
       "      <td>107.0</td>\n",
       "      <td>79.0</td>\n",
       "      <td>52.0</td>\n",
       "      <td>34.0</td>\n",
       "      <td>29.0</td>\n",
       "      <td>21.0</td>\n",
       "      <td>17.0</td>\n",
       "      <td>12.0</td>\n",
       "      <td>10.0</td>\n",
       "    </tr>\n",
       "  </tbody>\n",
       "</table>\n",
       "<p>5 rows × 22 columns</p>\n",
       "</div>"
      ],
      "text/plain": [
       "            containment_and_health  stringency  economics_sup  total_cases  \\\n",
       "date                                                                         \n",
       "2020-03-02                0.099713    0.126885            0.0       2036.0   \n",
       "2020-03-03                0.099713    0.126885            0.0       2502.0   \n",
       "2020-03-04                0.102539    0.131931            0.0       3089.0   \n",
       "2020-03-05                0.104428    0.135288            0.0       3858.0   \n",
       "2020-03-06                0.104428    0.135288            0.0       4636.0   \n",
       "\n",
       "            new_cases  total_deaths  new_deaths  gov_response  \\\n",
       "date                                                            \n",
       "2020-03-02      342.0          52.0        18.0      0.087209   \n",
       "2020-03-03      466.0          79.0        27.0      0.087209   \n",
       "2020-03-04      587.0         107.0        28.0      0.089685   \n",
       "2020-03-05      769.0         148.0        41.0      0.091335   \n",
       "2020-03-06      778.0         197.0        49.0      0.091335   \n",
       "\n",
       "            total_vaccinations  people_vaccinated  ...  day-1  day-2  day-3  \\\n",
       "date                                               ...                        \n",
       "2020-03-02                 0.0                0.0  ...   34.0   29.0   21.0   \n",
       "2020-03-03                 0.0                0.0  ...   52.0   34.0   29.0   \n",
       "2020-03-04                 0.0                0.0  ...   79.0   52.0   34.0   \n",
       "2020-03-05                 0.0                0.0  ...  107.0   79.0   52.0   \n",
       "2020-03-06                 0.0                0.0  ...  148.0  107.0   79.0   \n",
       "\n",
       "            day-4  day-5  day-6  day-7  day-8  day-9  day-10  \n",
       "date                                                          \n",
       "2020-03-02   17.0   12.0   10.0    7.0    3.0    2.0     1.0  \n",
       "2020-03-03   21.0   17.0   12.0   10.0    7.0    3.0     2.0  \n",
       "2020-03-04   29.0   21.0   17.0   12.0   10.0    7.0     3.0  \n",
       "2020-03-05   34.0   29.0   21.0   17.0   12.0   10.0     7.0  \n",
       "2020-03-06   52.0   34.0   29.0   21.0   17.0   12.0    10.0  \n",
       "\n",
       "[5 rows x 22 columns]"
      ]
     },
     "execution_count": 8,
     "metadata": {},
     "output_type": "execute_result"
    }
   ],
   "source": [
    "data_index['day-1']=data_index['total_deaths'].shift(periods=1)\n",
    "data_index['day-2']=data_index['total_deaths'].shift(periods=2)\n",
    "data_index['day-3']=data_index['total_deaths'].shift(periods=3)\n",
    "data_index['day-4']=data_index['total_deaths'].shift(periods=4)\n",
    "data_index['day-5']=data_index['total_deaths'].shift(periods=5)\n",
    "data_index['day-6']=data_index['total_deaths'].shift(periods=6)\n",
    "data_index['day-7']=data_index['total_deaths'].shift(periods=7)\n",
    "data_index['day-8']=data_index['total_deaths'].shift(periods=8)\n",
    "data_index['day-9']=data_index['total_deaths'].shift(periods=9)\n",
    "data_index['day-10']=data_index['total_deaths'].shift(periods=10)\n",
    "data_index = data_index.iloc[10: , :]\n",
    "data_index.head()"
   ]
  },
  {
   "cell_type": "code",
   "execution_count": 9,
   "metadata": {},
   "outputs": [],
   "source": [
    "data_index=data_index.fillna(0)"
   ]
  },
  {
   "cell_type": "code",
   "execution_count": 10,
   "metadata": {},
   "outputs": [
    {
     "data": {
      "text/html": [
       "<div>\n",
       "<style scoped>\n",
       "    .dataframe tbody tr th:only-of-type {\n",
       "        vertical-align: middle;\n",
       "    }\n",
       "\n",
       "    .dataframe tbody tr th {\n",
       "        vertical-align: top;\n",
       "    }\n",
       "\n",
       "    .dataframe thead th {\n",
       "        text-align: right;\n",
       "    }\n",
       "</style>\n",
       "<table border=\"1\" class=\"dataframe\">\n",
       "  <thead>\n",
       "    <tr style=\"text-align: right;\">\n",
       "      <th></th>\n",
       "      <th>containment_and_health</th>\n",
       "      <th>stringency</th>\n",
       "      <th>economics_sup</th>\n",
       "      <th>total_cases</th>\n",
       "      <th>new_cases</th>\n",
       "      <th>total_deaths</th>\n",
       "      <th>new_deaths</th>\n",
       "      <th>gov_response</th>\n",
       "      <th>total_vaccinations</th>\n",
       "      <th>people_vaccinated</th>\n",
       "      <th>...</th>\n",
       "      <th>day-1</th>\n",
       "      <th>day-2</th>\n",
       "      <th>day-3</th>\n",
       "      <th>day-4</th>\n",
       "      <th>day-5</th>\n",
       "      <th>day-6</th>\n",
       "      <th>day-7</th>\n",
       "      <th>day-8</th>\n",
       "      <th>day-9</th>\n",
       "      <th>day-10</th>\n",
       "    </tr>\n",
       "    <tr>\n",
       "      <th>date</th>\n",
       "      <th></th>\n",
       "      <th></th>\n",
       "      <th></th>\n",
       "      <th></th>\n",
       "      <th></th>\n",
       "      <th></th>\n",
       "      <th></th>\n",
       "      <th></th>\n",
       "      <th></th>\n",
       "      <th></th>\n",
       "      <th></th>\n",
       "      <th></th>\n",
       "      <th></th>\n",
       "      <th></th>\n",
       "      <th></th>\n",
       "      <th></th>\n",
       "      <th></th>\n",
       "      <th></th>\n",
       "      <th></th>\n",
       "      <th></th>\n",
       "      <th></th>\n",
       "    </tr>\n",
       "  </thead>\n",
       "  <tbody>\n",
       "    <tr>\n",
       "      <th>2020-03-02</th>\n",
       "      <td>0.099713</td>\n",
       "      <td>0.126885</td>\n",
       "      <td>0.0</td>\n",
       "      <td>2036.0</td>\n",
       "      <td>342.0</td>\n",
       "      <td>52.0</td>\n",
       "      <td>18.0</td>\n",
       "      <td>0.087209</td>\n",
       "      <td>0.0</td>\n",
       "      <td>0.0</td>\n",
       "      <td>...</td>\n",
       "      <td>34.0</td>\n",
       "      <td>29.0</td>\n",
       "      <td>21.0</td>\n",
       "      <td>17.0</td>\n",
       "      <td>12.0</td>\n",
       "      <td>10.0</td>\n",
       "      <td>7.0</td>\n",
       "      <td>3.0</td>\n",
       "      <td>2.0</td>\n",
       "      <td>1.0</td>\n",
       "    </tr>\n",
       "    <tr>\n",
       "      <th>2020-03-03</th>\n",
       "      <td>0.099713</td>\n",
       "      <td>0.126885</td>\n",
       "      <td>0.0</td>\n",
       "      <td>2502.0</td>\n",
       "      <td>466.0</td>\n",
       "      <td>79.0</td>\n",
       "      <td>27.0</td>\n",
       "      <td>0.087209</td>\n",
       "      <td>0.0</td>\n",
       "      <td>0.0</td>\n",
       "      <td>...</td>\n",
       "      <td>52.0</td>\n",
       "      <td>34.0</td>\n",
       "      <td>29.0</td>\n",
       "      <td>21.0</td>\n",
       "      <td>17.0</td>\n",
       "      <td>12.0</td>\n",
       "      <td>10.0</td>\n",
       "      <td>7.0</td>\n",
       "      <td>3.0</td>\n",
       "      <td>2.0</td>\n",
       "    </tr>\n",
       "    <tr>\n",
       "      <th>2020-03-04</th>\n",
       "      <td>0.102539</td>\n",
       "      <td>0.131931</td>\n",
       "      <td>0.0</td>\n",
       "      <td>3089.0</td>\n",
       "      <td>587.0</td>\n",
       "      <td>107.0</td>\n",
       "      <td>28.0</td>\n",
       "      <td>0.089685</td>\n",
       "      <td>0.0</td>\n",
       "      <td>0.0</td>\n",
       "      <td>...</td>\n",
       "      <td>79.0</td>\n",
       "      <td>52.0</td>\n",
       "      <td>34.0</td>\n",
       "      <td>29.0</td>\n",
       "      <td>21.0</td>\n",
       "      <td>17.0</td>\n",
       "      <td>12.0</td>\n",
       "      <td>10.0</td>\n",
       "      <td>7.0</td>\n",
       "      <td>3.0</td>\n",
       "    </tr>\n",
       "    <tr>\n",
       "      <th>2020-03-05</th>\n",
       "      <td>0.104428</td>\n",
       "      <td>0.135288</td>\n",
       "      <td>0.0</td>\n",
       "      <td>3858.0</td>\n",
       "      <td>769.0</td>\n",
       "      <td>148.0</td>\n",
       "      <td>41.0</td>\n",
       "      <td>0.091335</td>\n",
       "      <td>0.0</td>\n",
       "      <td>0.0</td>\n",
       "      <td>...</td>\n",
       "      <td>107.0</td>\n",
       "      <td>79.0</td>\n",
       "      <td>52.0</td>\n",
       "      <td>34.0</td>\n",
       "      <td>29.0</td>\n",
       "      <td>21.0</td>\n",
       "      <td>17.0</td>\n",
       "      <td>12.0</td>\n",
       "      <td>10.0</td>\n",
       "      <td>7.0</td>\n",
       "    </tr>\n",
       "    <tr>\n",
       "      <th>2020-03-06</th>\n",
       "      <td>0.104428</td>\n",
       "      <td>0.135288</td>\n",
       "      <td>0.0</td>\n",
       "      <td>4636.0</td>\n",
       "      <td>778.0</td>\n",
       "      <td>197.0</td>\n",
       "      <td>49.0</td>\n",
       "      <td>0.091335</td>\n",
       "      <td>0.0</td>\n",
       "      <td>0.0</td>\n",
       "      <td>...</td>\n",
       "      <td>148.0</td>\n",
       "      <td>107.0</td>\n",
       "      <td>79.0</td>\n",
       "      <td>52.0</td>\n",
       "      <td>34.0</td>\n",
       "      <td>29.0</td>\n",
       "      <td>21.0</td>\n",
       "      <td>17.0</td>\n",
       "      <td>12.0</td>\n",
       "      <td>10.0</td>\n",
       "    </tr>\n",
       "  </tbody>\n",
       "</table>\n",
       "<p>5 rows × 22 columns</p>\n",
       "</div>"
      ],
      "text/plain": [
       "            containment_and_health  stringency  economics_sup  total_cases  \\\n",
       "date                                                                         \n",
       "2020-03-02                0.099713    0.126885            0.0       2036.0   \n",
       "2020-03-03                0.099713    0.126885            0.0       2502.0   \n",
       "2020-03-04                0.102539    0.131931            0.0       3089.0   \n",
       "2020-03-05                0.104428    0.135288            0.0       3858.0   \n",
       "2020-03-06                0.104428    0.135288            0.0       4636.0   \n",
       "\n",
       "            new_cases  total_deaths  new_deaths  gov_response  \\\n",
       "date                                                            \n",
       "2020-03-02      342.0          52.0        18.0      0.087209   \n",
       "2020-03-03      466.0          79.0        27.0      0.087209   \n",
       "2020-03-04      587.0         107.0        28.0      0.089685   \n",
       "2020-03-05      769.0         148.0        41.0      0.091335   \n",
       "2020-03-06      778.0         197.0        49.0      0.091335   \n",
       "\n",
       "            total_vaccinations  people_vaccinated  ...  day-1  day-2  day-3  \\\n",
       "date                                               ...                        \n",
       "2020-03-02                 0.0                0.0  ...   34.0   29.0   21.0   \n",
       "2020-03-03                 0.0                0.0  ...   52.0   34.0   29.0   \n",
       "2020-03-04                 0.0                0.0  ...   79.0   52.0   34.0   \n",
       "2020-03-05                 0.0                0.0  ...  107.0   79.0   52.0   \n",
       "2020-03-06                 0.0                0.0  ...  148.0  107.0   79.0   \n",
       "\n",
       "            day-4  day-5  day-6  day-7  day-8  day-9  day-10  \n",
       "date                                                          \n",
       "2020-03-02   17.0   12.0   10.0    7.0    3.0    2.0     1.0  \n",
       "2020-03-03   21.0   17.0   12.0   10.0    7.0    3.0     2.0  \n",
       "2020-03-04   29.0   21.0   17.0   12.0   10.0    7.0     3.0  \n",
       "2020-03-05   34.0   29.0   21.0   17.0   12.0   10.0     7.0  \n",
       "2020-03-06   52.0   34.0   29.0   21.0   17.0   12.0    10.0  \n",
       "\n",
       "[5 rows x 22 columns]"
      ]
     },
     "execution_count": 10,
     "metadata": {},
     "output_type": "execute_result"
    }
   ],
   "source": [
    "data_index.head()"
   ]
  },
  {
   "cell_type": "code",
   "execution_count": 11,
   "metadata": {},
   "outputs": [
    {
     "data": {
      "text/plain": [
       "Text(0.5, 0, 'Date')"
      ]
     },
     "execution_count": 11,
     "metadata": {},
     "output_type": "execute_result"
    },
    {
     "data": {
      "image/png": "[encoded data removed]",
      "text/plain": [
       "<Figure size 1224x504 with 1 Axes>"
      ]
     },
     "metadata": {
      "needs_background": "light"
     },
     "output_type": "display_data"
    }
   ],
   "source": [
    "fig, ax = plt.subplots(1, figsize=(17,7))\n",
    "plt.plot(data_index.index,data_index['new_deaths']);\n",
    "ax.set_title(\"Covid 19 calculation for different countries\", size=10)\n",
    "ax.set_ylabel(\"Number of death cases\", size=10)\n",
    "ax.set_xlabel(\"Date\", size=13)"
   ]
  },
  {
   "cell_type": "code",
   "execution_count": 12,
   "metadata": {},
   "outputs": [
    {
     "data": {
      "text/plain": [
       "Text(0.5, 0, 'Date')"
      ]
     },
     "execution_count": 12,
     "metadata": {},
     "output_type": "execute_result"
    },
    {
     "data": {
      "image/png": "[encoded data removed]",
      "text/plain": [
       "<Figure size 1224x504 with 1 Axes>"
      ]
     },
     "metadata": {
      "needs_background": "light"
     },
     "output_type": "display_data"
    }
   ],
   "source": [
    "fig, ax = plt.subplots(1, figsize=(17,7))\n",
    "plt.plot(data_index.index,np.log(data_index['total_deaths']));\n",
    "ax.set_title(\"Covid 19 calculation for different countries\", size=10)\n",
    "ax.set_ylabel(\"Number of death cases\", size=10)\n",
    "ax.set_xlabel(\"Date\", size=13)"
   ]
  },
  {
   "cell_type": "code",
   "execution_count": 13,
   "metadata": {},
   "outputs": [
    {
     "data": {
      "text/plain": [
       "<AxesSubplot:xlabel='new_deaths', ylabel='Count'>"
      ]
     },
     "execution_count": 13,
     "metadata": {},
     "output_type": "execute_result"
    },
    {
     "data": {
      "image/png": "[encoded data removed]",
      "text/plain": [
       "<Figure size 1080x216 with 1 Axes>"
      ]
     },
     "metadata": {
      "needs_background": "light"
     },
     "output_type": "display_data"
    }
   ],
   "source": [
    "\n",
    "plt.figure(figsize=(15,3))\n",
    "sns.histplot(data_index['new_deaths'])"
   ]
  },
  {
   "cell_type": "markdown",
   "metadata": {},
   "source": [
    "# splitting of data into x and y"
   ]
  },
  {
   "cell_type": "code",
   "execution_count": 14,
   "metadata": {},
   "outputs": [],
   "source": [
    "X=data_index.drop(columns=['total_deaths','new_deaths','new_cases'])\n",
    "y=data_index['total_deaths']"
   ]
  },
  {
   "cell_type": "markdown",
   "metadata": {},
   "source": [
    "## scaling data"
   ]
  },
  {
   "cell_type": "code",
   "execution_count": 15,
   "metadata": {},
   "outputs": [],
   "source": [
    "scaler = MinMaxScaler()\n",
    "scaler.fit(X)\n",
    "X=scaler.transform(X)"
   ]
  },
  {
   "cell_type": "markdown",
   "metadata": {},
   "source": [
    "# splitting data into train and test set"
   ]
  },
  {
   "cell_type": "code",
   "execution_count": 16,
   "metadata": {},
   "outputs": [],
   "source": [
    "n = len(X)\n",
    "X_train = X[0:int(n-50)]\n",
    "X_test=X[int(n-50):]\n",
    "y_train=y[0:int(n-50)]\n",
    "y_test=y[int(n-50):]"
   ]
  },
  {
   "cell_type": "markdown",
   "metadata": {},
   "source": [
    "# Model"
   ]
  },
  {
   "cell_type": "code",
   "execution_count": 17,
   "metadata": {},
   "outputs": [],
   "source": [
    "model =SVR(C=5, coef0=10, epsilon=0.05, kernel='poly')"
   ]
  },
  {
   "cell_type": "code",
   "execution_count": 18,
   "metadata": {},
   "outputs": [
    {
     "name": "stdout",
     "output_type": "stream",
     "text": [
      "Fitting 2 folds for each of 24 candidates, totalling 48 fits\n",
      "[CV] END .............C=5, coef0=0.01, degree=3, kernel=poly; total time=   0.0s\n",
      "[CV] END ..............C=5, coef0=0.5, degree=3, kernel=poly; total time=   0.0s\n",
      "[CV] END ..............C=5, coef0=0.5, degree=3, kernel=poly; total time=   0.0s\n",
      "[CV] END ...............C=5, coef0=0.5, degree=3, kernel=rbf; total time=   0.0s\n",
      "[CV] END ...............C=5, coef0=0.5, degree=3, kernel=rbf; total time=   0.1s\n",
      "[CV] END .............C=5, coef0=0.01, degree=3, kernel=poly; total time=   0.0s\n",
      "[CV] END ..............C=5, coef0=0.5, degree=8, kernel=poly; total time=   0.0s\n",
      "[CV] END ...............C=5, coef0=0.5, degree=8, kernel=rbf; total time=   0.0s\n",
      "[CV] END ..............C=5, coef0=0.01, degree=3, kernel=rbf; total time=   0.1s\n",
      "[CV] END ...............C=5, coef0=0.5, degree=8, kernel=rbf; total time=   0.1s\n",
      "[CV] END .............C=5, coef0=0.01, degree=8, kernel=poly; total time=   0.0s\n",
      "[CV] END ...............C=5, coef0=10, degree=3, kernel=poly; total time=   0.0s\n",
      "[CV] END ...............C=5, coef0=10, degree=3, kernel=poly; total time=   0.0s\n",
      "[CV] END ................C=5, coef0=10, degree=3, kernel=rbf; total time=   0.0s\n",
      "[CV] END ................C=5, coef0=10, degree=3, kernel=rbf; total time=   0.0s\n",
      "[CV] END ..............C=5, coef0=0.01, degree=3, kernel=rbf; total time=   0.1s\n",
      "[CV] END ................C=5, coef0=10, degree=8, kernel=rbf; total time=   0.1s\n",
      "[CV] END ................C=5, coef0=10, degree=8, kernel=rbf; total time=   0.1s\n",
      "[CV] END .............C=6, coef0=0.01, degree=3, kernel=poly; total time=   0.0s\n",
      "[CV] END .............C=6, coef0=0.01, degree=3, kernel=poly; total time=   0.0s\n",
      "[CV] END ..............C=5, coef0=0.01, degree=8, kernel=rbf; total time=   0.0s\n",
      "[CV] END ..............C=6, coef0=0.01, degree=3, kernel=rbf; total time=   0.0s\n",
      "[CV] END ..............C=6, coef0=0.01, degree=3, kernel=rbf; total time=   0.1s\n",
      "[CV] END .............C=6, coef0=0.01, degree=8, kernel=poly; total time=   0.0s\n",
      "[CV] END ..............C=6, coef0=0.01, degree=8, kernel=rbf; total time=   0.1s\n",
      "[CV] END ..............C=6, coef0=0.5, degree=3, kernel=poly; total time=   0.0s\n",
      "[CV] END ..............C=6, coef0=0.01, degree=8, kernel=rbf; total time=   0.1s\n",
      "[CV] END ..............C=6, coef0=0.5, degree=3, kernel=poly; total time=   0.0s\n",
      "[CV] END ...............C=6, coef0=0.5, degree=3, kernel=rbf; total time=   0.1s\n",
      "[CV] END ...............C=6, coef0=0.5, degree=3, kernel=rbf; total time=   0.1s\n",
      "[CV] END ..............C=5, coef0=0.01, degree=8, kernel=rbf; total time=   0.1s\n",
      "[CV] END ..............C=6, coef0=0.5, degree=8, kernel=poly; total time=   0.1s\n",
      "[CV] END ...............C=6, coef0=0.5, degree=8, kernel=rbf; total time=   0.1s\n",
      "[CV] END ...............C=6, coef0=0.5, degree=8, kernel=rbf; total time=   0.1s\n",
      "[CV] END ...............C=6, coef0=10, degree=3, kernel=poly; total time=   0.0s\n",
      "[CV] END ...............C=6, coef0=10, degree=3, kernel=poly; total time=   0.0s\n",
      "[CV] END ................C=6, coef0=10, degree=3, kernel=rbf; total time=   0.0s\n",
      "[CV] END ................C=6, coef0=10, degree=3, kernel=rbf; total time=   0.1s\n",
      "[CV] END ...............C=5, coef0=10, degree=8, kernel=poly; total time=  17.1s\n",
      "[CV] END ................C=6, coef0=10, degree=8, kernel=rbf; total time=   0.1s\n",
      "[CV] END ................C=6, coef0=10, degree=8, kernel=rbf; total time=   0.1s\n",
      "[CV] END ...............C=6, coef0=10, degree=8, kernel=poly; total time=  42.1s\n",
      "[CV] END ...............C=6, coef0=10, degree=8, kernel=poly; total time=  43.2s\n",
      "[CV] END ..............C=6, coef0=0.5, degree=8, kernel=poly; total time=  49.0s\n",
      "[CV] END .............C=6, coef0=0.01, degree=8, kernel=poly; total time=  50.3s\n",
      "[CV] END ..............C=5, coef0=0.5, degree=8, kernel=poly; total time=  55.0s\n",
      "[CV] END ...............C=5, coef0=10, degree=8, kernel=poly; total time=  56.7s\n",
      "[CV] END .............C=5, coef0=0.01, degree=8, kernel=poly; total time= 1.4min\n"
     ]
    }
   ],
   "source": [
    "param={'kernel' : ('poly', 'rbf'),'C' : [5,6],'degree' : [3,8],'coef0' : [0.01,0.5,10]}\n",
    "grid_search = GridSearchCV(model, param_grid = param, \n",
    "                      cv = 2, n_jobs = -1, verbose = 2)\n",
    "grid_search.fit(X_train,y_train)\n",
    "best=grid_search.best_estimator_"
   ]
  },
  {
   "cell_type": "code",
   "execution_count": 19,
   "metadata": {},
   "outputs": [
    {
     "data": {
      "text/plain": [
       "SVR(C=6, coef0=10, epsilon=0.05, kernel='poly')"
      ]
     },
     "execution_count": 19,
     "metadata": {},
     "output_type": "execute_result"
    }
   ],
   "source": [
    "best"
   ]
  },
  {
   "cell_type": "markdown",
   "metadata": {},
   "source": [
    "## fitting the model for train and test set"
   ]
  },
  {
   "cell_type": "code",
   "execution_count": 20,
   "metadata": {},
   "outputs": [
    {
     "data": {
      "text/plain": [
       "SVR(C=6, coef0=10, epsilon=0.05, kernel='poly')"
      ]
     },
     "execution_count": 20,
     "metadata": {},
     "output_type": "execute_result"
    }
   ],
   "source": [
    "model=best\n",
    "best_model=model.fit(X_train,y_train)\n",
    "best_model"
   ]
  },
  {
   "cell_type": "code",
   "execution_count": 21,
   "metadata": {},
   "outputs": [],
   "source": [
    "country='France'"
   ]
  },
  {
   "cell_type": "code",
   "execution_count": 22,
   "metadata": {},
   "outputs": [],
   "source": [
    "path='/home/sumedha/code/covid_time_series_prediction/covid_time_series_prediction/data/models'"
   ]
  },
  {
   "cell_type": "code",
   "execution_count": 23,
   "metadata": {},
   "outputs": [
    {
     "data": {
      "text/plain": [
       "SVR(C=6, coef0=10, epsilon=0.05, kernel='poly')"
      ]
     },
     "execution_count": 23,
     "metadata": {},
     "output_type": "execute_result"
    }
   ],
   "source": [
    "best_model"
   ]
  },
  {
   "cell_type": "code",
   "execution_count": 24,
   "metadata": {},
   "outputs": [
    {
     "data": {
      "text/plain": [
       "'France'"
      ]
     },
     "execution_count": 24,
     "metadata": {},
     "output_type": "execute_result"
    }
   ],
   "source": [
    "country"
   ]
  },
  {
   "cell_type": "code",
   "execution_count": 25,
   "metadata": {},
   "outputs": [
    {
     "ename": "FileNotFoundError",
     "evalue": "[Errno 2] No such file or directory: '/home/sumedha/code/covid_time_series_prediction/covid_time_series_prediction/data/models/model_France.pkl'",
     "output_type": "error",
     "traceback": [
      "\u001b[0;31m---------------------------------------------------------------------------\u001b[0m",
      "\u001b[0;31mFileNotFoundError\u001b[0m                         Traceback (most recent call last)",
      "\u001b[0;32m/var/folders/hz/t9cq46wj2zl48zr3_0lc0rw80000gn/T/ipykernel_17033/1677053742.py\u001b[0m in \u001b[0;36m<module>\u001b[0;34m\u001b[0m\n\u001b[0;32m----> 1\u001b[0;31m \u001b[0;32mwith\u001b[0m \u001b[0mopen\u001b[0m\u001b[0;34m(\u001b[0m\u001b[0;34mf'{path}/model_{country}.pkl'\u001b[0m\u001b[0;34m,\u001b[0m\u001b[0;34m'wb'\u001b[0m\u001b[0;34m)\u001b[0m \u001b[0;32mas\u001b[0m \u001b[0mf\u001b[0m\u001b[0;34m:\u001b[0m\u001b[0;34m\u001b[0m\u001b[0;34m\u001b[0m\u001b[0m\n\u001b[0m\u001b[1;32m      2\u001b[0m     \u001b[0mpickle\u001b[0m\u001b[0;34m.\u001b[0m\u001b[0mdump\u001b[0m\u001b[0;34m(\u001b[0m\u001b[0mbest_model\u001b[0m\u001b[0;34m,\u001b[0m \u001b[0mf\u001b[0m\u001b[0;34m)\u001b[0m\u001b[0;34m\u001b[0m\u001b[0;34m\u001b[0m\u001b[0m\n",
      "\u001b[0;31mFileNotFoundError\u001b[0m: [Errno 2] No such file or directory: '/home/sumedha/code/covid_time_series_prediction/covid_time_series_prediction/data/models/model_France.pkl'"
     ]
    }
   ],
   "source": [
    "with open(f'{path}/model_{country}.pkl','wb') as f:\n",
    "    pickle.dump(best_model, f)"
   ]
  },
  {
   "cell_type": "code",
   "execution_count": null,
   "metadata": {},
   "outputs": [],
   "source": [
    "model_load=pickle.load(open(f'{path}/model_{country}.pkl','rb'))"
   ]
  },
  {
   "cell_type": "code",
   "execution_count": null,
   "metadata": {},
   "outputs": [
    {
     "data": {
      "text/html": [
       "<style>#sk-container-id-3 {color: black;background-color: white;}#sk-container-id-3 pre{padding: 0;}#sk-container-id-3 div.sk-toggleable {background-color: white;}#sk-container-id-3 label.sk-toggleable__label {cursor: pointer;display: block;width: 100%;margin-bottom: 0;padding: 0.3em;box-sizing: border-box;text-align: center;}#sk-container-id-3 label.sk-toggleable__label-arrow:before {content: \"▸\";float: left;margin-right: 0.25em;color: #696969;}#sk-container-id-3 label.sk-toggleable__label-arrow:hover:before {color: black;}#sk-container-id-3 div.sk-estimator:hover label.sk-toggleable__label-arrow:before {color: black;}#sk-container-id-3 div.sk-toggleable__content {max-height: 0;max-width: 0;overflow: hidden;text-align: left;background-color: #f0f8ff;}#sk-container-id-3 div.sk-toggleable__content pre {margin: 0.2em;color: black;border-radius: 0.25em;background-color: #f0f8ff;}#sk-container-id-3 input.sk-toggleable__control:checked~div.sk-toggleable__content {max-height: 200px;max-width: 100%;overflow: auto;}#sk-container-id-3 input.sk-toggleable__control:checked~label.sk-toggleable__label-arrow:before {content: \"▾\";}#sk-container-id-3 div.sk-estimator input.sk-toggleable__control:checked~label.sk-toggleable__label {background-color: #d4ebff;}#sk-container-id-3 div.sk-label input.sk-toggleable__control:checked~label.sk-toggleable__label {background-color: #d4ebff;}#sk-container-id-3 input.sk-hidden--visually {border: 0;clip: rect(1px 1px 1px 1px);clip: rect(1px, 1px, 1px, 1px);height: 1px;margin: -1px;overflow: hidden;padding: 0;position: absolute;width: 1px;}#sk-container-id-3 div.sk-estimator {font-family: monospace;background-color: #f0f8ff;border: 1px dotted black;border-radius: 0.25em;box-sizing: border-box;margin-bottom: 0.5em;}#sk-container-id-3 div.sk-estimator:hover {background-color: #d4ebff;}#sk-container-id-3 div.sk-parallel-item::after {content: \"\";width: 100%;border-bottom: 1px solid gray;flex-grow: 1;}#sk-container-id-3 div.sk-label:hover label.sk-toggleable__label {background-color: #d4ebff;}#sk-container-id-3 div.sk-serial::before {content: \"\";position: absolute;border-left: 1px solid gray;box-sizing: border-box;top: 0;bottom: 0;left: 50%;z-index: 0;}#sk-container-id-3 div.sk-serial {display: flex;flex-direction: column;align-items: center;background-color: white;padding-right: 0.2em;padding-left: 0.2em;position: relative;}#sk-container-id-3 div.sk-item {position: relative;z-index: 1;}#sk-container-id-3 div.sk-parallel {display: flex;align-items: stretch;justify-content: center;background-color: white;position: relative;}#sk-container-id-3 div.sk-item::before, #sk-container-id-3 div.sk-parallel-item::before {content: \"\";position: absolute;border-left: 1px solid gray;box-sizing: border-box;top: 0;bottom: 0;left: 50%;z-index: -1;}#sk-container-id-3 div.sk-parallel-item {display: flex;flex-direction: column;z-index: 1;position: relative;background-color: white;}#sk-container-id-3 div.sk-parallel-item:first-child::after {align-self: flex-end;width: 50%;}#sk-container-id-3 div.sk-parallel-item:last-child::after {align-self: flex-start;width: 50%;}#sk-container-id-3 div.sk-parallel-item:only-child::after {width: 0;}#sk-container-id-3 div.sk-dashed-wrapped {border: 1px dashed gray;margin: 0 0.4em 0.5em 0.4em;box-sizing: border-box;padding-bottom: 0.4em;background-color: white;}#sk-container-id-3 div.sk-label label {font-family: monospace;font-weight: bold;display: inline-block;line-height: 1.2em;}#sk-container-id-3 div.sk-label-container {text-align: center;}#sk-container-id-3 div.sk-container {/* jupyter's `normalize.less` sets `[hidden] { display: none; }` but bootstrap.min.css set `[hidden] { display: none !important; }` so we also need the `!important` here to be able to override the default hidden behavior on the sphinx rendered scikit-learn.org. See: https://github.com/scikit-learn/scikit-learn/issues/21755 */display: inline-block !important;position: relative;}#sk-container-id-3 div.sk-text-repr-fallback {display: none;}</style><div id=\"sk-container-id-3\" class=\"sk-top-container\"><div class=\"sk-text-repr-fallback\"><pre>SVR(C=5, coef0=10, epsilon=0.05, kernel=&#x27;poly&#x27;)</pre><b>In a Jupyter environment, please rerun this cell to show the HTML representation or trust the notebook. <br />On GitHub, the HTML representation is unable to render, please try loading this page with nbviewer.org.</b></div><div class=\"sk-container\" hidden><div class=\"sk-item\"><div class=\"sk-estimator sk-toggleable\"><input class=\"sk-toggleable__control sk-hidden--visually\" id=\"sk-estimator-id-3\" type=\"checkbox\" checked><label for=\"sk-estimator-id-3\" class=\"sk-toggleable__label sk-toggleable__label-arrow\">SVR</label><div class=\"sk-toggleable__content\"><pre>SVR(C=5, coef0=10, epsilon=0.05, kernel=&#x27;poly&#x27;)</pre></div></div></div></div></div>"
      ],
      "text/plain": [
       "SVR(C=5, coef0=10, epsilon=0.05, kernel='poly')"
      ]
     },
     "execution_count": 37,
     "metadata": {},
     "output_type": "execute_result"
    }
   ],
   "source": [
    "model_load"
   ]
  },
  {
   "cell_type": "markdown",
   "metadata": {},
   "source": [
    "## prediction"
   ]
  },
  {
   "cell_type": "code",
   "execution_count": null,
   "metadata": {},
   "outputs": [],
   "source": [
    "y_pred=best_model.predict(X_test)"
   ]
  },
  {
   "cell_type": "markdown",
   "metadata": {},
   "source": [
    "## evaluating model performance"
   ]
  },
  {
   "cell_type": "code",
   "execution_count": null,
   "metadata": {},
   "outputs": [
    {
     "data": {
      "text/plain": [
       "0.005483227310211549"
      ]
     },
     "execution_count": 54,
     "metadata": {},
     "output_type": "execute_result"
    }
   ],
   "source": [
    "score=mean_absolute_percentage_error(y_test, y_pred)\n",
    "score, n_pred=10, c='USA'"
   ]
  },
  {
   "cell_type": "code",
   "execution_count": null,
   "metadata": {},
   "outputs": [
    {
     "data": {
      "text/plain": [
       "(50,)"
      ]
     },
     "execution_count": 54,
     "metadata": {},
     "output_type": "execute_result"
    }
   ],
   "source": [
    "y_pred.shape"
   ]
  },
  {
   "cell_type": "code",
   "execution_count": null,
   "metadata": {},
   "outputs": [
    {
     "data": {
      "text/plain": [
       "Text(0.5, 0, 'Date')"
      ]
     },
     "execution_count": 58,
     "metadata": {},
     "output_type": "execute_result"
    },
    {
     "data": {
      "image/png": "[encoded data removed]",
      "text/plain": [
       "<Figure size 1700x700 with 1 Axes>"
      ]
     },
     "metadata": {},
     "output_type": "display_data"
    }
   ],
   "source": [
    "fig, ax = plt.subplots(1, figsize=(17,7))\n",
    "plt.plot(y_test.index[:20],y_pred[:20],color='r');\n",
    "plt.plot(y_test.index[:20],y_test[:20]);\n",
    "ax.set_title(\"Covid 19 calculation for different countries\", size=10)\n",
    "ax.set_ylabel(\"Number of death cases\", size=10)\n",
    "ax.set_xlabel(\"Date\", size=13)"
   ]
  }
 ],
 "metadata": {
  "kernelspec": {
   "display_name": "Python 3.8.12 64-bit ('shims')",
   "language": "python",
   "name": "python3"
  },
  "language_info": {
   "codemirror_mode": {
    "name": "ipython",
    "version": 3
   },
   "file_extension": ".py",
   "mimetype": "text/x-python",
   "name": "python",
   "nbconvert_exporter": "python",
   "pygments_lexer": "ipython3",
   "version": "3.8.12"
  },
  "toc": {
   "base_numbering": 1,
   "nav_menu": {},
   "number_sections": true,
   "sideBar": true,
   "skip_h1_title": false,
   "title_cell": "Table of Contents",
   "title_sidebar": "Contents",
   "toc_cell": false,
   "toc_position": {},
   "toc_section_display": true,
   "toc_window_display": false
  },
  "vscode": {
   "interpreter": {
    "hash": "9c7d4b3da1e137aeabc4fd6b55dede4bb1c85dbdc50880a4fde3d2604903e3dc"
   }
  }
 },
 "nbformat": 4,
 "nbformat_minor": 4
}
