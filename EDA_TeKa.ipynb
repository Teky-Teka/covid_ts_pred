{
 "cells": [
  {
   "cell_type": "markdown",
   "id": "2cac72ae-9be5-43d4-87d3-b2319a0f757b",
   "metadata": {
    "tags": []
   },
   "source": [
    "# COVID-19 Time Series Prediction"
   ]
  },
  {
   "cell_type": "markdown",
   "id": "6a246bb7-0cdf-4939-a4e9-870f871706f7",
   "metadata": {
    "tags": []
   },
   "source": [
    "## Project Setup"
   ]
  },
  {
   "cell_type": "markdown",
   "id": "97dd5297-79e4-4864-bb68-8deb37dbc70a",
   "metadata": {
    "tags": []
   },
   "source": [
    "### Dependencies importing"
   ]
  },
  {
   "cell_type": "code",
   "execution_count": 1,
   "id": "e6c99354",
   "metadata": {},
   "outputs": [
    {
     "name": "stdout",
     "output_type": "stream",
     "text": [
      "project env_path /Users/tekyteka/code/Teky-Teka/covid_ts_pred/.env\n",
      "project env_path /Users/tekyteka/code/Teky-Teka/covid_ts_pred/covid_ts_pred/.env\n",
      "project env_path /Users/tekyteka/code/Teky-Teka/covid_ts_pred/covid_ts_pred/.env\n",
      "project env_path /Users/tekyteka/code/Teky-Teka/covid_ts_pred/covid_ts_pred/b_data_prep/.env\n",
      "project env_path /Users/tekyteka/code/Teky-Teka/covid_ts_pred/covid_ts_pred/.env\n",
      "project env_path /Users/tekyteka/code/Teky-Teka/covid_ts_pred/covid_ts_pred/.env\n",
      "project env_path /Users/tekyteka/code/Teky-Teka/covid_ts_pred/covid_ts_pred/c_model/.env\n",
      "project env_path /Users/tekyteka/code/Teky-Teka/covid_ts_pred/covid_ts_pred/c_model/.env\n"
     ]
    }
   ],
   "source": [
    "# Auto reload imported module every time a jupyter cell is executed\n",
    "%load_ext autoreload\n",
    "%autoreload 2\n",
    "### TBE -> To Be Engineering...\n",
    "# covid_ts_pred package\n",
    "from covid_ts_pred.c_eng.engineering import *\n",
    "\n",
    "from covid_ts_pred.b_data_prep.ba_preproc.preprocessor import train_test_set\n",
    "from covid_ts_pred.c_model.cd_deep_learn.RNN_model import get_RNN_model_API"
   ]
  },
  {
   "cell_type": "code",
   "execution_count": 2,
   "id": "7abce841",
   "metadata": {},
   "outputs": [
    {
     "name": "stdout",
     "output_type": "stream",
     "text": [
      "  % Total    % Received % Xferd  Average Speed   Time    Time     Time  Current\n",
      "                                 Dload  Upload   Total   Spent    Left  Speed\n",
      "100 1620k  100 1620k    0     0  11.8M      0 --:--:-- --:--:-- --:--:-- 12.3M\n"
     ]
    }
   ],
   "source": [
    "!curl -o /Users/tekyteka/code/Teky-Teka/covid_ts_pred/data_files/raw_data/confirmed_deaths.csv https://raw.githubusercontent.com/OxCGRT/covid-policy-tracker/master/data/timeseries/confirmed_deaths.csv"
   ]
  },
  {
   "cell_type": "code",
   "execution_count": 3,
   "id": "de425903-9365-4407-8ae8-9b20a6e41dd6",
   "metadata": {},
   "outputs": [],
   "source": [
    "import numpy as np\n",
    "import pandas as pd\n",
    "import scipy\n",
    "from statsmodels.tsa.stattools import acf, pacf\n",
    "from statsmodels.graphics.tsaplots import plot_acf, plot_pacf\n",
    "import matplotlib.pyplot as plt\n",
    "%matplotlib inline\n",
    "import plotly.express as px\n",
    "from statsmodels.graphics.tsaplots import plot_acf, plot_pacf\n",
    "import requests\n",
    "import pandas_profiling\n",
    "from typing import overload\n",
    "from tensorflow.keras import layers\n",
    "from tensorflow.keras.callbacks import EarlyStopping\n",
    "from tensorflow.keras.layers.experimental.preprocessing import Normalization\n",
    "from tensorflow.keras.layers import Dense, SimpleRNN, LSTM, GRU, Flatten\n",
    "from tensorflow.keras.models import Sequential\n",
    "from tensorflow.keras.preprocessing.sequence import pad_sequences\n",
    "from tensorflow.keras.optimizers import RMSprop \n"
   ]
  },
  {
   "cell_type": "code",
   "execution_count": 5,
   "id": "4586817c-250d-4813-90a0-a8a859540431",
   "metadata": {},
   "outputs": [
    {
     "name": "stderr",
     "output_type": "stream",
     "text": [
      "2022-09-28 21:02:42.329579: I tensorflow/core/platform/cpu_feature_guard.cc:142] This TensorFlow binary is optimized with oneAPI Deep Neural Network Library (oneDNN) to use the following CPU instructions in performance-critical operations:  SSE4.2\n",
      "To enable them in other operations, rebuild TensorFlow with the appropriate compiler flags.\n",
      "2022-09-28 21:02:42.730891: I tensorflow/compiler/mlir/mlir_graph_optimization_pass.cc:176] None of the MLIR Optimization Passes are enabled (registered 2)\n"
     ]
    },
    {
     "data": {
      "text/plain": [
       "0    307.143005\n",
       "1     72.239182\n",
       "2    349.600922\n",
       "3    344.988953\n",
       "4    -75.107353\n",
       "5    118.263084\n",
       "6    270.589111\n",
       "7    129.269623\n",
       "8    419.211853\n",
       "9    258.848022\n",
       "dtype: float32"
      ]
     },
     "execution_count": 5,
     "metadata": {},
     "output_type": "execute_result"
    }
   ],
   "source": [
    "df = get_RNN_model_API('France')\n",
    "df"
   ]
  },
  {
   "cell_type": "code",
   "execution_count": 6,
   "id": "a89aae11-8de5-4100-a9ed-2d28d57a268c",
   "metadata": {},
   "outputs": [
    {
     "data": {
      "text/plain": [
       "0    5134.398438\n",
       "1    1781.205688\n",
       "2    1701.690430\n",
       "3    3627.293701\n",
       "4    1454.869995\n",
       "5    3458.596924\n",
       "6    2872.826904\n",
       "7    3952.487793\n",
       "8     990.474487\n",
       "9    4086.814453\n",
       "dtype: float32"
      ]
     },
     "execution_count": 6,
     "metadata": {},
     "output_type": "execute_result"
    }
   ],
   "source": [
    "df = get_RNN_model_API('United Kingdom')\n",
    "df"
   ]
  },
  {
   "cell_type": "markdown",
   "id": "332849e5-8682-4079-8266-8a22c70d7d38",
   "metadata": {
    "tags": []
   },
   "source": [
    "## Data sourcing"
   ]
  },
  {
   "cell_type": "markdown",
   "id": "cee22a40-a282-4e4f-bf18-ce8a7633b59c",
   "metadata": {
    "tags": []
   },
   "source": [
    "### Data API "
   ]
  },
  {
   "cell_type": "markdown",
   "id": "6e7e9b20-7339-486d-8ebc-21b0394c5e5f",
   "metadata": {
    "tags": []
   },
   "source": [
    "#### By country over time"
   ]
  },
  {
   "cell_type": "code",
   "execution_count": 7,
   "id": "97c36f91-5db2-4aa7-b598-45ae52f2dc46",
   "metadata": {},
   "outputs": [],
   "source": [
    "def fetch_time_series(feature='stringency', start_date='2020-02-14', end_date='2021-02-14'):\n",
    "    \"\"\"\n",
    "    Get stringency time series for each countries requesting API.\n",
    "    Returns json dict with TS between start_date and end_date like 'YYYY-MM-DD'.\n",
    "    \"\"\"\n",
    "    url = f'https://covidtrackerapi.bsg.ox.ac.uk/api/v2/{feature}/date-range/{start_date}/{end_date}'\n",
    "    response = requests.get(url)\n",
    "    if response.status_code != 200:\n",
    "        return ''\n",
    "    data = response.json()\n",
    "    print(url)\n",
    "    return data"
   ]
  },
  {
   "cell_type": "code",
   "execution_count": 8,
   "id": "f54f6689-5b7f-42e3-891b-57367b4658e5",
   "metadata": {},
   "outputs": [
    {
     "name": "stdout",
     "output_type": "stream",
     "text": [
      "https://covidtrackerapi.bsg.ox.ac.uk/api/v2/stringency/date-range/2022-09-16/2022-09-27\n"
     ]
    }
   ],
   "source": [
    "end_date = '2022-09-27'\n",
    "start_date = '2022-09-16'\n",
    "countries_time_series_api = fetch_time_series(start_date=start_date, end_date=end_date)"
   ]
  },
  {
   "cell_type": "code",
   "execution_count": 9,
   "id": "d734e7d7",
   "metadata": {},
   "outputs": [
    {
     "data": {
      "text/plain": [
       "[[['2022-09-16', 151169]],\n",
       " [['2022-09-17', 151169]],\n",
       " [['2022-09-18', 151169]],\n",
       " [['2022-09-19', 151240]],\n",
       " [['2022-09-20', 151288]],\n",
       " [['2022-09-21', 151321]],\n",
       " [['2022-09-22', 151351]],\n",
       " [['2022-09-23', 151376]],\n",
       " [['2022-09-24', 151376]],\n",
       " [['2022-09-25', 151376]],\n",
       " [['2022-09-26', 151449]]]"
      ]
     },
     "execution_count": 9,
     "metadata": {},
     "output_type": "execute_result"
    }
   ],
   "source": [
    "# [[[v2['date_value'], v2['country_code'], v2['deaths']] for k2, v2 in v1.items()] for k1, v1 in countries_time_series_api['data'].items()]\n",
    "[[[v2['date_value'],  v2['deaths']] for k2, v2 in v1.items() if k2 == 'FRA'] for k1, v1 in countries_time_series_api['data'].items()]"
   ]
  },
  {
   "cell_type": "code",
   "execution_count": 10,
   "id": "db6bad4c-3c99-4620-aead-b7951a993db7",
   "metadata": {},
   "outputs": [
    {
     "data": {
      "text/plain": [
       "[('countries', ['VNM'])]"
      ]
     },
     "execution_count": 10,
     "metadata": {},
     "output_type": "execute_result"
    }
   ],
   "source": [
    "[(k, [c for c in v if c == 'VNM'])  for k, v in countries_time_series_api.items()  if k == 'countries' ]"
   ]
  },
  {
   "cell_type": "code",
   "execution_count": 11,
   "id": "59acb5e4-2aee-4aa5-be96-ac8af9d3a96a",
   "metadata": {
    "tags": []
   },
   "outputs": [
    {
     "data": {
      "text/plain": [
       "[[[[{'date_value': '2022-09-16',\n",
       "     'country_code': 'VNM',\n",
       "     'confirmed': 11454079,\n",
       "     'deaths': 43137,\n",
       "     'stringency_actual': 25.93,\n",
       "     'stringency': 25.93,\n",
       "     'stringency_legacy': 30.95,\n",
       "     'stringency_legacy_disp': 30.95},\n",
       "    {'date_value': '2022-09-16',\n",
       "     'country_code': 'VNM',\n",
       "     'confirmed': 11454079,\n",
       "     'deaths': 43137,\n",
       "     'stringency_actual': 25.93,\n",
       "     'stringency': 25.93,\n",
       "     'stringency_legacy': 30.95,\n",
       "     'stringency_legacy_disp': 30.95}]],\n",
       "  [[{'date_value': '2022-09-17',\n",
       "     'country_code': 'VNM',\n",
       "     'confirmed': 11456558,\n",
       "     'deaths': 43138,\n",
       "     'stringency_actual': 25.93,\n",
       "     'stringency': 25.93,\n",
       "     'stringency_legacy': 30.95,\n",
       "     'stringency_legacy_disp': 30.95},\n",
       "    {'date_value': '2022-09-17',\n",
       "     'country_code': 'VNM',\n",
       "     'confirmed': 11456558,\n",
       "     'deaths': 43138,\n",
       "     'stringency_actual': 25.93,\n",
       "     'stringency': 25.93,\n",
       "     'stringency_legacy': 30.95,\n",
       "     'stringency_legacy_disp': 30.95}]],\n",
       "  [[{'date_value': '2022-09-18',\n",
       "     'country_code': 'VNM',\n",
       "     'confirmed': 11458449,\n",
       "     'deaths': 43139,\n",
       "     'stringency_actual': 25.93,\n",
       "     'stringency': 25.93,\n",
       "     'stringency_legacy': 30.95,\n",
       "     'stringency_legacy_disp': 30.95},\n",
       "    {'date_value': '2022-09-18',\n",
       "     'country_code': 'VNM',\n",
       "     'confirmed': 11458449,\n",
       "     'deaths': 43139,\n",
       "     'stringency_actual': 25.93,\n",
       "     'stringency': 25.93,\n",
       "     'stringency_legacy': 30.95,\n",
       "     'stringency_legacy_disp': 30.95}]],\n",
       "  [[{'date_value': '2022-09-19',\n",
       "     'country_code': 'VNM',\n",
       "     'confirmed': 11460227,\n",
       "     'deaths': 43141,\n",
       "     'stringency_actual': 25.93,\n",
       "     'stringency': 25.93,\n",
       "     'stringency_legacy': 30.95,\n",
       "     'stringency_legacy_disp': 30.95},\n",
       "    {'date_value': '2022-09-19',\n",
       "     'country_code': 'VNM',\n",
       "     'confirmed': 11460227,\n",
       "     'deaths': 43141,\n",
       "     'stringency_actual': 25.93,\n",
       "     'stringency': 25.93,\n",
       "     'stringency_legacy': 30.95,\n",
       "     'stringency_legacy_disp': 30.95}]],\n",
       "  [[{'date_value': '2022-09-20',\n",
       "     'country_code': 'VNM',\n",
       "     'confirmed': 11463404,\n",
       "     'deaths': 43142,\n",
       "     'stringency_actual': 25.93,\n",
       "     'stringency': 25.93,\n",
       "     'stringency_legacy': 30.95,\n",
       "     'stringency_legacy_disp': 30.95},\n",
       "    {'date_value': '2022-09-20',\n",
       "     'country_code': 'VNM',\n",
       "     'confirmed': 11463404,\n",
       "     'deaths': 43142,\n",
       "     'stringency_actual': 25.93,\n",
       "     'stringency': 25.93,\n",
       "     'stringency_legacy': 30.95,\n",
       "     'stringency_legacy_disp': 30.95}]],\n",
       "  [[{'date_value': '2022-09-21',\n",
       "     'country_code': 'VNM',\n",
       "     'confirmed': 11465691,\n",
       "     'deaths': 43146,\n",
       "     'stringency_actual': 25.93,\n",
       "     'stringency': 25.93,\n",
       "     'stringency_legacy': 30.95,\n",
       "     'stringency_legacy_disp': 30.95},\n",
       "    {'date_value': '2022-09-21',\n",
       "     'country_code': 'VNM',\n",
       "     'confirmed': 11465691,\n",
       "     'deaths': 43146,\n",
       "     'stringency_actual': 25.93,\n",
       "     'stringency': 25.93,\n",
       "     'stringency_legacy': 30.95,\n",
       "     'stringency_legacy_disp': 30.95}]],\n",
       "  [[{'date_value': '2022-09-22',\n",
       "     'country_code': 'VNM',\n",
       "     'confirmed': 11467619,\n",
       "     'deaths': 43146,\n",
       "     'stringency_actual': 25.93,\n",
       "     'stringency': 25.93,\n",
       "     'stringency_legacy': 30.95,\n",
       "     'stringency_legacy_disp': 30.95},\n",
       "    {'date_value': '2022-09-22',\n",
       "     'country_code': 'VNM',\n",
       "     'confirmed': 11467619,\n",
       "     'deaths': 43146,\n",
       "     'stringency_actual': 25.93,\n",
       "     'stringency': 25.93,\n",
       "     'stringency_legacy': 30.95,\n",
       "     'stringency_legacy_disp': 30.95}]],\n",
       "  [[{'date_value': '2022-09-23',\n",
       "     'country_code': 'VNM',\n",
       "     'confirmed': 11470164,\n",
       "     'deaths': 43146,\n",
       "     'stringency_actual': 25.93,\n",
       "     'stringency': 25.93,\n",
       "     'stringency_legacy': 30.95,\n",
       "     'stringency_legacy_disp': 30.95},\n",
       "    {'date_value': '2022-09-23',\n",
       "     'country_code': 'VNM',\n",
       "     'confirmed': 11470164,\n",
       "     'deaths': 43146,\n",
       "     'stringency_actual': 25.93,\n",
       "     'stringency': 25.93,\n",
       "     'stringency_legacy': 30.95,\n",
       "     'stringency_legacy_disp': 30.95}]],\n",
       "  [[{'date_value': '2022-09-24',\n",
       "     'country_code': 'VNM',\n",
       "     'confirmed': 11471340,\n",
       "     'deaths': 43146,\n",
       "     'stringency_actual': 25.93,\n",
       "     'stringency': 25.93,\n",
       "     'stringency_legacy': 30.95,\n",
       "     'stringency_legacy_disp': 30.95},\n",
       "    {'date_value': '2022-09-24',\n",
       "     'country_code': 'VNM',\n",
       "     'confirmed': 11471340,\n",
       "     'deaths': 43146,\n",
       "     'stringency_actual': 25.93,\n",
       "     'stringency': 25.93,\n",
       "     'stringency_legacy': 30.95,\n",
       "     'stringency_legacy_disp': 30.95}]],\n",
       "  [[{'date_value': '2022-09-25',\n",
       "     'country_code': 'VNM',\n",
       "     'confirmed': 11472301,\n",
       "     'deaths': 43146,\n",
       "     'stringency_actual': 25.93,\n",
       "     'stringency': 25.93,\n",
       "     'stringency_legacy': 30.95,\n",
       "     'stringency_legacy_disp': 30.95},\n",
       "    {'date_value': '2022-09-25',\n",
       "     'country_code': 'VNM',\n",
       "     'confirmed': 11472301,\n",
       "     'deaths': 43146,\n",
       "     'stringency_actual': 25.93,\n",
       "     'stringency': 25.93,\n",
       "     'stringency_legacy': 30.95,\n",
       "     'stringency_legacy_disp': 30.95}]],\n",
       "  [[{'date_value': '2022-09-26',\n",
       "     'country_code': 'VNM',\n",
       "     'confirmed': 11473733,\n",
       "     'deaths': 43146,\n",
       "     'stringency_actual': 25.93,\n",
       "     'stringency': 25.93,\n",
       "     'stringency_legacy': 30.95,\n",
       "     'stringency_legacy_disp': 30.95},\n",
       "    {'date_value': '2022-09-26',\n",
       "     'country_code': 'VNM',\n",
       "     'confirmed': 11473733,\n",
       "     'deaths': 43146,\n",
       "     'stringency_actual': 25.93,\n",
       "     'stringency': 25.93,\n",
       "     'stringency_legacy': 30.95,\n",
       "     'stringency_legacy_disp': 30.95}]]]]"
      ]
     },
     "execution_count": 11,
     "metadata": {},
     "output_type": "execute_result"
    }
   ],
   "source": [
    "[([([([(vee)  for kaaa, veee  in vee.items() if kaaa in ['date_value', 'confirmed']  ])  for kaa, vee  in ve.items() if kaa =='VNM'   ])  for ka, ve  in v.items() ])  for k, v in countries_time_series_api.items() if k=='data'   ]"
   ]
  },
  {
   "cell_type": "code",
   "execution_count": 12,
   "id": "bdb51b76-85af-4077-8db0-4b74529104a9",
   "metadata": {
    "tags": []
   },
   "outputs": [
    {
     "data": {
      "text/plain": [
       "[('data',\n",
       "  [('2022-09-16',\n",
       "    [('USA',\n",
       "      {'date_value': '2022-09-16',\n",
       "       'country_code': 'USA',\n",
       "       'confirmed': 95656432,\n",
       "       'deaths': 1053527,\n",
       "       'stringency_actual': 37.04,\n",
       "       'stringency': 37.04,\n",
       "       'stringency_legacy': 48.81,\n",
       "       'stringency_legacy_disp': 48.81})]),\n",
       "   ('2022-09-17',\n",
       "    [('USA',\n",
       "      {'date_value': '2022-09-17',\n",
       "       'country_code': 'USA',\n",
       "       'confirmed': 95664782,\n",
       "       'deaths': 1053550,\n",
       "       'stringency_actual': 37.04,\n",
       "       'stringency': 37.04,\n",
       "       'stringency_legacy': 48.81,\n",
       "       'stringency_legacy_disp': 48.81})]),\n",
       "   ('2022-09-18',\n",
       "    [('USA',\n",
       "      {'date_value': '2022-09-18',\n",
       "       'country_code': 'USA',\n",
       "       'confirmed': 95669547,\n",
       "       'deaths': 1053557,\n",
       "       'stringency_actual': 37.04,\n",
       "       'stringency': 37.04,\n",
       "       'stringency_legacy': 48.81,\n",
       "       'stringency_legacy_disp': 48.81})]),\n",
       "   ('2022-09-19',\n",
       "    [('USA',\n",
       "      {'date_value': '2022-09-19',\n",
       "       'country_code': 'USA',\n",
       "       'confirmed': 95723582,\n",
       "       'deaths': 1053937,\n",
       "       'stringency_actual': 37.04,\n",
       "       'stringency': 37.04,\n",
       "       'stringency_legacy': 48.81,\n",
       "       'stringency_legacy_disp': 48.81})]),\n",
       "   ('2022-09-20',\n",
       "    [('USA',\n",
       "      {'date_value': '2022-09-20',\n",
       "       'country_code': 'USA',\n",
       "       'confirmed': 95791314,\n",
       "       'deaths': 1054358,\n",
       "       'stringency_actual': 37.04,\n",
       "       'stringency': 37.04,\n",
       "       'stringency_legacy': 48.81,\n",
       "       'stringency_legacy_disp': 48.81})]),\n",
       "   ('2022-09-21',\n",
       "    [('USA',\n",
       "      {'date_value': '2022-09-21',\n",
       "       'country_code': 'USA',\n",
       "       'confirmed': 95889601,\n",
       "       'deaths': 1055287,\n",
       "       'stringency_actual': None,\n",
       "       'stringency': 37.04,\n",
       "       'stringency_legacy': None,\n",
       "       'stringency_legacy_disp': 48.81})]),\n",
       "   ('2022-09-22',\n",
       "    [('USA',\n",
       "      {'date_value': '2022-09-22',\n",
       "       'country_code': 'USA',\n",
       "       'confirmed': 95970915,\n",
       "       'deaths': 1055922,\n",
       "       'stringency_actual': None,\n",
       "       'stringency': 37.04,\n",
       "       'stringency_legacy': None,\n",
       "       'stringency_legacy_disp': 48.81})]),\n",
       "   ('2022-09-23',\n",
       "    [('USA',\n",
       "      {'date_value': '2022-09-23',\n",
       "       'country_code': 'USA',\n",
       "       'confirmed': 96056075,\n",
       "       'deaths': 1056372,\n",
       "       'stringency_actual': None,\n",
       "       'stringency': 37.04,\n",
       "       'stringency_legacy': None,\n",
       "       'stringency_legacy_disp': 48.81})]),\n",
       "   ('2022-09-24',\n",
       "    [('USA',\n",
       "      {'date_value': '2022-09-24',\n",
       "       'country_code': 'USA',\n",
       "       'confirmed': 96065161,\n",
       "       'deaths': 1056409,\n",
       "       'stringency_actual': None,\n",
       "       'stringency': 37.04,\n",
       "       'stringency_legacy': None,\n",
       "       'stringency_legacy_disp': 48.81})]),\n",
       "   ('2022-09-25',\n",
       "    [('USA',\n",
       "      {'date_value': '2022-09-25',\n",
       "       'country_code': 'USA',\n",
       "       'confirmed': 96070980,\n",
       "       'deaths': 1056416,\n",
       "       'stringency_actual': None,\n",
       "       'stringency': 37.04,\n",
       "       'stringency_legacy': None,\n",
       "       'stringency_legacy_disp': 48.81})]),\n",
       "   ('2022-09-26',\n",
       "    [('USA',\n",
       "      {'date_value': '2022-09-26',\n",
       "       'country_code': 'USA',\n",
       "       'confirmed': 96116204,\n",
       "       'deaths': 1056789,\n",
       "       'stringency_actual': None,\n",
       "       'stringency': 37.04,\n",
       "       'stringency_legacy': None,\n",
       "       'stringency_legacy_disp': 48.81})])])]"
      ]
     },
     "execution_count": 12,
     "metadata": {},
     "output_type": "execute_result"
    }
   ],
   "source": [
    "[(k, [(ka, [(kaa, vee)  for kaa, vee  in ve.items() if kaa =='USA'   ])  for ka, ve  in v.items() ])  for k, v in countries_time_series_api.items() if k=='data'   ]"
   ]
  },
  {
   "cell_type": "markdown",
   "id": "b518b601-27e8-4411-9b10-165c94c89c3a",
   "metadata": {
    "tags": []
   },
   "source": [
    "#### Country data for a specific day"
   ]
  },
  {
   "cell_type": "code",
   "execution_count": 13,
   "id": "0b2e858c-c9e9-4d78-9d94-804e06fbf492",
   "metadata": {},
   "outputs": [],
   "source": [
    "def fetch_data(country='USA', date='2020-08-14'):\n",
    "    \"\"\"\n",
    "    Get stringency data for one country {ALPHA-3} requesting API.\n",
    "    Returns json dict with data for country like 'AAA' and specific date and like 'YYYY-MM-DD'.\n",
    "    \"\"\"\n",
    "    url = f'https://covidtrackerapi.bsg.ox.ac.uk/api/v2/stringency/actions/{country}/{date}'\n",
    "    response = requests.get(url)\n",
    "    if response.status_code != 200:\n",
    "        return ''\n",
    "    data = response.json()\n",
    "    return data"
   ]
  },
  {
   "cell_type": "code",
   "execution_count": 14,
   "id": "0debbac8-54a8-482a-b339-d5fa249c4a03",
   "metadata": {},
   "outputs": [],
   "source": [
    "country_data_api = fetch_data()"
   ]
  },
  {
   "cell_type": "code",
   "execution_count": 15,
   "id": "00313f6b",
   "metadata": {},
   "outputs": [
    {
     "data": {
      "text/plain": [
       "{'policyActions': [{'policy_type_code': 'C1',\n",
       "   'policy_type_display': 'School closing',\n",
       "   'policyvalue': '3',\n",
       "   'policyvalue_actual': 3,\n",
       "   'flagged': False,\n",
       "   'is_general': False,\n",
       "   'notes': 'According to the New York Times, New York City is the only major school district in the country to open for students part-time this fall. \\r\\n\\r\\nSee the article in the New York Times, archived: http://archive.vn/OkUNQ',\n",
       "   'flag_value_display_field': 'General',\n",
       "   'policy_value_display_field': 'Require closing (all levels)'},\n",
       "  {'policy_type_code': 'C2',\n",
       "   'policy_type_display': 'Workplace closing',\n",
       "   'policyvalue': '2',\n",
       "   'policyvalue_actual': 2,\n",
       "   'flagged': False,\n",
       "   'is_general': False,\n",
       "   'notes': None,\n",
       "   'flag_value_display_field': 'General',\n",
       "   'policy_value_display_field': 'Require closing some sectors'},\n",
       "  {'policy_type_code': 'C3',\n",
       "   'policy_type_display': 'Cancel public events',\n",
       "   'policyvalue': '2',\n",
       "   'policyvalue_actual': 2,\n",
       "   'flagged': False,\n",
       "   'is_general': False,\n",
       "   'notes': None,\n",
       "   'flag_value_display_field': 'General',\n",
       "   'policy_value_display_field': 'Required'},\n",
       "  {'policy_type_code': 'C4',\n",
       "   'policy_type_display': 'Restrictions on gatherings',\n",
       "   'policyvalue': '4',\n",
       "   'policyvalue_actual': 4,\n",
       "   'flagged': False,\n",
       "   'is_general': False,\n",
       "   'notes': None,\n",
       "   'flag_value_display_field': 'General',\n",
       "   'policy_value_display_field': 'Restrictions on gatherings of 10 or fewer people'},\n",
       "  {'policy_type_code': 'C5',\n",
       "   'policy_type_display': 'Close public transport',\n",
       "   'policyvalue': '1',\n",
       "   'policyvalue_actual': 1,\n",
       "   'flagged': False,\n",
       "   'is_general': False,\n",
       "   'notes': None,\n",
       "   'flag_value_display_field': 'General',\n",
       "   'policy_value_display_field': 'Recommended'},\n",
       "  {'policy_type_code': 'C6',\n",
       "   'policy_type_display': 'Stay at home requirements',\n",
       "   'policyvalue': '1',\n",
       "   'policyvalue_actual': 1,\n",
       "   'flagged': True,\n",
       "   'is_general': True,\n",
       "   'notes': None,\n",
       "   'flag_value_display_field': 'General',\n",
       "   'policy_value_display_field': 'Recommend staying home'},\n",
       "  {'policy_type_code': 'C7',\n",
       "   'policy_type_display': 'Restrictions on internal movement',\n",
       "   'policyvalue': '2',\n",
       "   'policyvalue_actual': 2,\n",
       "   'flagged': False,\n",
       "   'is_general': False,\n",
       "   'notes': None,\n",
       "   'flag_value_display_field': 'General',\n",
       "   'policy_value_display_field': 'Required'},\n",
       "  {'policy_type_code': 'C8',\n",
       "   'policy_type_display': 'International travel controls',\n",
       "   'policyvalue': '3',\n",
       "   'policyvalue_actual': 3,\n",
       "   'flagged': None,\n",
       "   'is_general': None,\n",
       "   'notes': None,\n",
       "   'policy_value_display_field': 'Ban'},\n",
       "  {'policy_type_code': 'E1',\n",
       "   'policy_type_display': 'Income support',\n",
       "   'policyvalue': '2',\n",
       "   'policyvalue_actual': 2,\n",
       "   'flagged': False,\n",
       "   'is_general': False,\n",
       "   'notes': None,\n",
       "   'flag_value_display_field': 'All workers',\n",
       "   'policy_value_display_field': '>50% lost income'},\n",
       "  {'policy_type_code': 'E2',\n",
       "   'policy_type_display': 'Debt/contract relief',\n",
       "   'policyvalue': '1',\n",
       "   'policyvalue_actual': 1,\n",
       "   'flagged': None,\n",
       "   'is_general': None,\n",
       "   'notes': None,\n",
       "   'policy_value_display_field': 'Narrow'},\n",
       "  {'policy_type_code': 'E3',\n",
       "   'policy_type_display': 'Fiscal measures',\n",
       "   'policyvalue': '0',\n",
       "   'policyvalue_actual': 0,\n",
       "   'flagged': None,\n",
       "   'is_general': None,\n",
       "   'notes': None,\n",
       "   'policy_value_display_field': 'USD Value'},\n",
       "  {'policy_type_code': 'E4',\n",
       "   'policy_type_display': 'International support',\n",
       "   'policyvalue': '0',\n",
       "   'policyvalue_actual': 0,\n",
       "   'flagged': None,\n",
       "   'is_general': None,\n",
       "   'notes': None,\n",
       "   'policy_value_display_field': 'USD Value'},\n",
       "  {'policy_type_code': 'H1',\n",
       "   'policy_type_display': 'Public information campaigns',\n",
       "   'policyvalue': '2',\n",
       "   'policyvalue_actual': 2,\n",
       "   'flagged': True,\n",
       "   'is_general': True,\n",
       "   'notes': None,\n",
       "   'flag_value_display_field': 'General',\n",
       "   'policy_value_display_field': 'Coordinated public campaign'},\n",
       "  {'policy_type_code': 'H2',\n",
       "   'policy_type_display': 'Testing policy',\n",
       "   'policyvalue': '3',\n",
       "   'policyvalue_actual': 3,\n",
       "   'flagged': None,\n",
       "   'is_general': None,\n",
       "   'notes': None,\n",
       "   'policy_value_display_field': 'Generally available'},\n",
       "  {'policy_type_code': 'H3',\n",
       "   'policy_type_display': 'Contact tracing',\n",
       "   'policyvalue': '1',\n",
       "   'policyvalue_actual': 1,\n",
       "   'flagged': None,\n",
       "   'is_general': None,\n",
       "   'notes': None,\n",
       "   'policy_value_display_field': 'Limited'},\n",
       "  {'policy_type_code': 'H4',\n",
       "   'policy_type_display': 'Emergency investment in healthcare',\n",
       "   'policyvalue': '0',\n",
       "   'policyvalue_actual': 0,\n",
       "   'flagged': None,\n",
       "   'is_general': None,\n",
       "   'notes': None,\n",
       "   'policy_value_display_field': 'USD Value'},\n",
       "  {'policy_type_code': 'H5',\n",
       "   'policy_type_display': 'Investment in vaccines',\n",
       "   'policyvalue': '0',\n",
       "   'policyvalue_actual': 0,\n",
       "   'flagged': None,\n",
       "   'is_general': None,\n",
       "   'notes': None,\n",
       "   'policy_value_display_field': 'USD Value'},\n",
       "  {'policy_type_code': 'H6',\n",
       "   'policy_type_display': 'Facial Coverings',\n",
       "   'policyvalue': '3',\n",
       "   'policyvalue_actual': 3,\n",
       "   'flagged': True,\n",
       "   'is_general': True,\n",
       "   'notes': None,\n",
       "   'flag_value_display_field': 'General',\n",
       "   'policy_value_display_field': 'Required in all public spaces'},\n",
       "  {'policy_type_code': 'H7',\n",
       "   'policy_type_display': 'Vaccination policy',\n",
       "   'policyvalue': '0',\n",
       "   'policyvalue_actual': 0,\n",
       "   'flagged': None,\n",
       "   'is_general': None,\n",
       "   'notes': None,\n",
       "   'flag_value_display_field': 'Government funded',\n",
       "   'policy_value_display_field': 'No availability'},\n",
       "  {'policy_type_code': 'H8',\n",
       "   'policy_type_display': 'Protection of elderly people',\n",
       "   'policyvalue': '2',\n",
       "   'policyvalue_actual': 2,\n",
       "   'flagged': True,\n",
       "   'is_general': True,\n",
       "   'notes': None,\n",
       "   'flag_value_display_field': 'General',\n",
       "   'policy_value_display_field': 'Narrow protections'},\n",
       "  {'policy_type_code': 'M1',\n",
       "   'policy_type_display': 'Wildcard',\n",
       "   'policyvalue': None,\n",
       "   'policyvalue_actual': None,\n",
       "   'flagged': None,\n",
       "   'is_general': None,\n",
       "   'notes': 'The U.S. Department of Health and Human Services (HHS) said on 14 August that McKesson Corp would be the central distributor for future coronavirus vaccines.\\r\\n\\r\\nSee the article on Reuters for further information: http://archive.vn/WwEIn'},\n",
       "  {'policy_type_code': 'V1',\n",
       "   'policy_type_display': 'Vaccine Prioritisation',\n",
       "   'policyvalue': '-2',\n",
       "   'policyvalue_actual': -2,\n",
       "   'flagged': None,\n",
       "   'is_general': None,\n",
       "   'notes': None},\n",
       "  {'policy_type_code': 'V2',\n",
       "   'policy_type_display': 'Vaccine Availability',\n",
       "   'policyvalue': '-2',\n",
       "   'policyvalue_actual': -2,\n",
       "   'flagged': None,\n",
       "   'is_general': None,\n",
       "   'notes': None},\n",
       "  {'policy_type_code': 'V3',\n",
       "   'policy_type_display': 'Vaccine Financial Support',\n",
       "   'policyvalue': '-2',\n",
       "   'policyvalue_actual': -2,\n",
       "   'flagged': None,\n",
       "   'is_general': None,\n",
       "   'notes': None},\n",
       "  {'policy_type_code': 'V4',\n",
       "   'policy_type_display': 'Mandatory Vaccination',\n",
       "   'policyvalue': '-2',\n",
       "   'policyvalue_actual': -2,\n",
       "   'flagged': None,\n",
       "   'is_general': None,\n",
       "   'notes': None}],\n",
       " 'stringencyData': {'date_value': '2020-08-14',\n",
       "  'country_code': 'USA',\n",
       "  'confirmed': 5335362,\n",
       "  'deaths': 168325,\n",
       "  'stringency_actual': 67.13,\n",
       "  'stringency': 67.13}}"
      ]
     },
     "execution_count": 15,
     "metadata": {},
     "output_type": "execute_result"
    }
   ],
   "source": [
    "country_data_api\n"
   ]
  },
  {
   "cell_type": "code",
   "execution_count": 16,
   "id": "62c13eee-1681-40ca-b0d2-2ab21437191f",
   "metadata": {
    "tags": []
   },
   "outputs": [
    {
     "data": {
      "text/plain": [
       "['policy_type_code;policy_type_display;policyvalue;policyvalue_actual;flagged;is_general;notes;flag_value_display_field;policy_value_display_field']"
      ]
     },
     "execution_count": 16,
     "metadata": {},
     "output_type": "execute_result"
    }
   ],
   "source": [
    "[[';'.join([str(kk) for kk, vv in d.items()]) for i, d in enumerate(v) if type(d) == dict and i == 0] for v in country_data_api.values()][0]"
   ]
  },
  {
   "cell_type": "code",
   "execution_count": 17,
   "id": "aa81f0b8-9fc7-4e38-8e24-99408857cb90",
   "metadata": {
    "tags": []
   },
   "outputs": [
    {
     "data": {
      "text/plain": [
       "['C1;School closing;3;3;False;False;According to the New York Times, New York City is the only major school district in the country to open for students part-time this fall. \\r\\n\\r\\nSee the article in the New York Times, archived: http://archive.vn/OkUNQ;General;Require closing (all levels)',\n",
       " 'C2;Workplace closing;2;2;False;False;None;General;Require closing some sectors',\n",
       " 'C3;Cancel public events;2;2;False;False;None;General;Required',\n",
       " 'C4;Restrictions on gatherings;4;4;False;False;None;General;Restrictions on gatherings of 10 or fewer people',\n",
       " 'C5;Close public transport;1;1;False;False;None;General;Recommended',\n",
       " 'C6;Stay at home requirements;1;1;True;True;None;General;Recommend staying home',\n",
       " 'C7;Restrictions on internal movement;2;2;False;False;None;General;Required',\n",
       " 'C8;International travel controls;3;3;None;None;None;Ban',\n",
       " 'E1;Income support;2;2;False;False;None;All workers;>50% lost income',\n",
       " 'E2;Debt/contract relief;1;1;None;None;None;Narrow',\n",
       " 'E3;Fiscal measures;0;0;None;None;None;USD Value',\n",
       " 'E4;International support;0;0;None;None;None;USD Value',\n",
       " 'H1;Public information campaigns;2;2;True;True;None;General;Coordinated public campaign',\n",
       " 'H2;Testing policy;3;3;None;None;None;Generally available',\n",
       " 'H3;Contact tracing;1;1;None;None;None;Limited',\n",
       " 'H4;Emergency investment in healthcare;0;0;None;None;None;USD Value',\n",
       " 'H5;Investment in vaccines;0;0;None;None;None;USD Value',\n",
       " 'H6;Facial Coverings;3;3;True;True;None;General;Required in all public spaces',\n",
       " 'H7;Vaccination policy;0;0;None;None;None;Government funded;No availability',\n",
       " 'H8;Protection of elderly people;2;2;True;True;None;General;Narrow protections',\n",
       " 'M1;Wildcard;None;None;None;None;The U.S. Department of Health and Human Services (HHS) said on 14 August that McKesson Corp would be the central distributor for future coronavirus vaccines.\\r\\n\\r\\nSee the article on Reuters for further information: http://archive.vn/WwEIn',\n",
       " 'V1;Vaccine Prioritisation;-2;-2;None;None;None',\n",
       " 'V2;Vaccine Availability;-2;-2;None;None;None',\n",
       " 'V3;Vaccine Financial Support;-2;-2;None;None;None',\n",
       " 'V4;Mandatory Vaccination;-2;-2;None;None;None']"
      ]
     },
     "execution_count": 17,
     "metadata": {},
     "output_type": "execute_result"
    }
   ],
   "source": [
    "[[';'.join([str(vv) for kk, vv in d.items()]) for d in v if type(d) == dict] for v in country_data_api.values()][0]"
   ]
  },
  {
   "cell_type": "code",
   "execution_count": 18,
   "id": "6869ee50-edb3-423d-8a75-f05af3f32afa",
   "metadata": {
    "tags": []
   },
   "outputs": [
    {
     "data": {
      "text/plain": [
       "'date_value;country_code;confirmed;deaths;stringency_actual;stringency'"
      ]
     },
     "execution_count": 18,
     "metadata": {},
     "output_type": "execute_result"
    }
   ],
   "source": [
    "# [';'.join([str(vv) for vv in v]) for v in country_data_api.values()][-1]\n",
    "[';'.join([str(kk) for kk in v]) for k, v in country_data_api.items()][-1]"
   ]
  },
  {
   "cell_type": "markdown",
   "id": "e6ad4771-e464-4eb1-86f5-c5c480cea8d9",
   "metadata": {
    "tags": []
   },
   "source": [
    "### Raw data"
   ]
  },
  {
   "cell_type": "code",
   "execution_count": 19,
   "id": "e6e1591b-31c5-4a38-b0fb-4bfaec0924f2",
   "metadata": {},
   "outputs": [],
   "source": [
    "#### Data project directory\n",
    "data_dir = '../data/raw_data/'"
   ]
  },
  {
   "cell_type": "markdown",
   "id": "c9c7c791-f898-4106-b9a9-f1221fcfb1b9",
   "metadata": {
    "tags": []
   },
   "source": [
    "#### **Read URL**, **Get CSV files** and **store CSV in local**  *(optional do it at begining or to refresh CSV data)*"
   ]
  },
  {
   "cell_type": "markdown",
   "id": "1318d9af-8148-4bbc-9dff-7359600f778d",
   "metadata": {
    "tags": []
   },
   "source": [
    "##### **get_database_to_csv()** function"
   ]
  },
  {
   "cell_type": "code",
   "execution_count": 20,
   "id": "2d42cd6c-5efd-4cad-b74b-d134e2653dd1",
   "metadata": {},
   "outputs": [],
   "source": [
    "def get_database_to_csv(url, csv_list, db_grid=[]) -> list:\n",
    "    \"\"\"\n",
    "    function that take in parameter:\n",
    "     - a root URL (string) to get the CSV data,\n",
    "     - a list of CSV files,\n",
    "     - a path (string) to store CSV in local,\n",
    "     - a grid (list of list) to add in the CSV filename, URL, local path.     \n",
    "    and returns the gird updated with the CSVs of the list\n",
    "    \n",
    "    \"\"\"\n",
    "\n",
    "    ### Create a database grid (list of list) with all CSVs and associated URLs\n",
    "    # print('db_grid', db_grid)\n",
    "    #### Data project directory (if empty do not store CSV in local)\n",
    "    # print('path', path)\n",
    "    ### Website CSV datasets URL\n",
    "    # print('url', url)\n",
    "    #### List of CSVs of Website to retrieve\n",
    "    # print('csv_list', csv_list)\n",
    "\n",
    "    #### Length of grid aka number of CSVs already stored in grid\n",
    "    len_grid = len(db_grid)\n",
    "\n",
    "    for l in range(len(csv_list)):\n",
    "        sub_list = []       \n",
    "        sub_list.append(csv_list[l]) ## 1st pos°: CSV filename\n",
    "        sub_list.append(url + csv_list[l]) ## 2nd pos°: URL + CSV\n",
    "        path = get_raw_data_path(csv_list[l])\n",
    "        if len(path) > 0: ## store CSV in local\n",
    "            sub_list.append(path) ## 3rd pos°: local data path + CSV\n",
    "            !curl -L \"{url + csv_list[l]}\" > {get_raw_data_path(csv_list[l])} ## curl <URL>/<CSV> => <path>\n",
    "        # print('sub_list', sub_list)\n",
    "        db_grid.append(sub_list)\n",
    "\n",
    "    ### Return a database grid (list of list) with all CSVs and associated URLs\n",
    "    return db_grid"
   ]
  },
  {
   "cell_type": "markdown",
   "id": "6e9fa98a-c3ba-4108-98bd-5a0b4af0cd17",
   "metadata": {
    "tags": []
   },
   "source": [
    "#### **Get database to csv** with **get_database_to_csv()** function"
   ]
  },
  {
   "cell_type": "code",
   "execution_count": 21,
   "id": "6c62c742-44a6-46c0-bfca-d5fece235ee2",
   "metadata": {
    "tags": []
   },
   "outputs": [
    {
     "name": "stdout",
     "output_type": "stream",
     "text": [
      "  % Total    % Received % Xferd  Average Speed   Time    Time     Time  Current\n",
      "                                 Dload  Upload   Total   Spent    Left  Speed\n",
      "100 2042k  100 2042k    0     0  12.5M      0 --:--:-- --:--:-- --:--:-- 13.0M\n",
      "  % Total    % Received % Xferd  Average Speed   Time    Time     Time  Current\n",
      "                                 Dload  Upload   Total   Spent    Left  Speed\n",
      "100 1620k  100 1620k    0     0  9852k      0 --:--:-- --:--:-- --:--:--  9.9M\n",
      "  % Total    % Received % Xferd  Average Speed   Time    Time     Time  Current\n",
      "                                 Dload  Upload   Total   Spent    Left  Speed\n",
      "100 1953k  100 1953k    0     0  6221k      0 --:--:-- --:--:-- --:--:-- 6302k\n",
      "  % Total    % Received % Xferd  Average Speed   Time    Time     Time  Current\n",
      "                                 Dload  Upload   Total   Spent    Left  Speed\n",
      "100 1921k  100 1921k    0     0  5709k      0 --:--:-- --:--:-- --:--:-- 5788k\n",
      "  % Total    % Received % Xferd  Average Speed   Time    Time     Time  Current\n",
      "                                 Dload  Upload   Total   Spent    Left  Speed\n",
      "100 1924k  100 1924k    0     0  5399k      0 --:--:-- --:--:-- --:--:-- 5468k\n",
      "  % Total    % Received % Xferd  Average Speed   Time    Time     Time  Current\n",
      "                                 Dload  Upload   Total   Spent    Left  Speed\n",
      "100 1345k  100 1345k    0     0  3704k      0 --:--:-- --:--:-- --:--:-- 3758k\n",
      "  % Total    % Received % Xferd  Average Speed   Time    Time     Time  Current\n",
      "                                 Dload  Upload   Total   Spent    Left  Speed\n",
      "100 1042k  100 1042k    0     0  3225k      0 --:--:-- --:--:-- --:--:-- 3268k\n",
      "  % Total    % Received % Xferd  Average Speed   Time    Time     Time  Current\n",
      "                                 Dload  Upload   Total   Spent    Left  Speed\n",
      "100 1042k  100 1042k    0     0  3301k      0 --:--:-- --:--:-- --:--:-- 3341k\n",
      "  % Total    % Received % Xferd  Average Speed   Time    Time     Time  Current\n",
      "                                 Dload  Upload   Total   Spent    Left  Speed\n",
      "100 1042k  100 1042k    0     0  3433k      0 --:--:-- --:--:-- --:--:-- 3498k\n",
      "  % Total    % Received % Xferd  Average Speed   Time    Time     Time  Current\n",
      "                                 Dload  Upload   Total   Spent    Left  Speed\n",
      "100 1042k  100 1042k    0     0  2723k      0 --:--:-- --:--:-- --:--:-- 2758k\n",
      "  % Total    % Received % Xferd  Average Speed   Time    Time     Time  Current\n",
      "                                 Dload  Upload   Total   Spent    Left  Speed\n",
      "100 1042k  100 1042k    0     0  3352k      0 --:--:-- --:--:-- --:--:-- 3417k\n",
      "  % Total    % Received % Xferd  Average Speed   Time    Time     Time  Current\n",
      "                                 Dload  Upload   Total   Spent    Left  Speed\n",
      "100 1042k  100 1042k    0     0  2910k      0 --:--:-- --:--:-- --:--:--     0:-- --:--:-- --:--:-- 2945k\n",
      "  % Total    % Received % Xferd  Average Speed   Time    Time     Time  Current\n",
      "                                 Dload  Upload   Total   Spent    Left  Speed\n",
      "100 1042k  100 1042k    0     0  2866k      0 --:--:-- --:--:-- --:--:-- 2896k\n",
      "  % Total    % Received % Xferd  Average Speed   Time    Time     Time  Current\n",
      "                                 Dload  Upload   Total   Spent    Left  Speed\n",
      "100 1042k  100 1042k    0     0  2460k      0 --:--:-- --:--:-- --:--:-- 2494k\n",
      "  % Total    % Received % Xferd  Average Speed   Time    Time     Time  Current\n",
      "                                 Dload  Upload   Total   Spent    Left  Speed\n",
      "100 1042k  100 1042k    0     0  2718k      0 --:--:-- --:--:-- --:--:-- 2757k\n",
      "  % Total    % Received % Xferd  Average Speed   Time    Time     Time  Current\n",
      "                                 Dload  Upload   Total   Spent    Left  Speed\n",
      "100 1042k  100 1042k    0     0  3016k      0 --:--:-- --:--:-- --:--:-- 3065k\n",
      "  % Total    % Received % Xferd  Average Speed   Time    Time     Time  Current\n",
      "                                 Dload  Upload   Total   Spent    Left  Speed\n",
      "100 1042k  100 1042k    0     0  2868k      0 --:--:-- --:--:-- --:--:-- 2912k\n",
      "  % Total    % Received % Xferd  Average Speed   Time    Time     Time  Current\n",
      "                                 Dload  Upload   Total   Spent    Left  Speed\n",
      "100 1042k  100 1042k    0     0  3248k      0 --:--:-- --:--:-- --:--:-- 3298k\n",
      "  % Total    % Received % Xferd  Average Speed   Time    Time     Time  Current\n",
      "                                 Dload  Upload   Total   Spent    Left  Speed\n",
      "100 1042k  100 1042k    0     0  2524k      0 --:--:-- --:--:-- --:--:-- 2548k\n",
      "  % Total    % Received % Xferd  Average Speed   Time    Time     Time  Current\n",
      "                                 Dload  Upload   Total   Spent    Left  Speed\n",
      "100 1042k  100 1042k    0     0  2745k      0 --:--:-- --:--:-- --:--:-- 2780k\n",
      "  % Total    % Received % Xferd  Average Speed   Time    Time     Time  Current\n",
      "                                 Dload  Upload   Total   Spent    Left  Speed\n",
      "100 1042k  100 1042k    0     0  3498k      0 --:--:-- --:--:-- --:--:-- 3558k\n",
      "  % Total    % Received % Xferd  Average Speed   Time    Time     Time  Current\n",
      "                                 Dload  Upload   Total   Spent    Left  Speed\n",
      "100 1042k  100 1042k    0     0  2348k      0 --:--:-- --:--:-- --:--:-- 2374k\n",
      "  % Total    % Received % Xferd  Average Speed   Time    Time     Time  Current\n",
      "                                 Dload  Upload   Total   Spent    Left  Speed\n",
      "100 9656k  100 9656k    0     0  12.5M      0 --:--:-- --:--:-- --:--:-- 12.6M\n",
      "  % Total    % Received % Xferd  Average Speed   Time    Time     Time  Current\n",
      "                                 Dload  Upload   Total   Spent    Left  Speed\n",
      "100 1945k  100 1945k    0     0  5393k      0 --:--:-- --:--:-- --:--:-- 5466k\n"
     ]
    }
   ],
   "source": [
    "### Oxford Master data time series URL\n",
    "url_root_oxford = 'https://raw.githubusercontent.com/OxCGRT/covid-policy-tracker/master/data/timeseries/'\n",
    "\n",
    "#### List of CSVs of Oxford database Feel free to add more feature...\n",
    "## index_strigency missed!\n",
    "## 'E3;Fiscal measures;' missed!\n",
    "## 'E4;International support;' missed!\n",
    "## 'H3;Contact tracing;' missed!\n",
    "## 'H4;Emergency investment in healthcare!\n",
    "## 'H5;Investment in vaccines missed!\n",
    "## 'V1;Vaccine Prioritisation missed!\n",
    "## 'V2;Vaccine Availability missed!\n",
    "## 'V3;Vaccine Financial Support!\n",
    "## 'V4;Mandatory Vaccination missed!\n",
    "csv_list = ['confirmed_cases.csv', 'confirmed_deaths.csv',\n",
    "            'government_response_index_avg.csv', 'stringency_index_avg.csv', \n",
    "            'containment_health_index_avg.csv', 'economic_support_index.csv',\n",
    "            'c1m_school_closing.csv', 'c2m_workplace_closing.csv',\n",
    "            'c3m_cancel_public_events.csv', 'c4m_restrictions_on_gatherings.csv', \n",
    "            'c5m_close_public_transport.csv', 'c6m_stay_at_home_requirements.csv',\n",
    "            'c7m_movementrestrictions.csv', 'c8ev_internationaltravel.csv',\n",
    "            'e1_income_support.csv', 'e2_debtrelief.csv',\n",
    "            'h1_public_information_campaigns.csv', 'h2_testing_policy.csv',\n",
    "            'h3_contact_tracing.csv', 'h6m_facial_coverings.csv',\n",
    "            'h7_vaccination_policy.csv', 'h8m_protection_of_elderly_ppl.csv'\n",
    "           ] ## ; print('csv_list', csv_list, 'len(csv_list)', len(csv_list))\n",
    "    \n",
    "### Vacinations Dataset URLs\n",
    "url_root_vaccinations = 'https://raw.githubusercontent.com/owid/covid-19-data/master/public/data/vaccinations/'\n",
    "\n",
    "#### List of CSVs of Vaccinations database\n",
    "csv_list_vax = ['vaccinations.csv', 'vaccinations-by-age-group.csv'] ## ; print('csv_list', csv_list_vax, 'len(csv_list)', len(csv_list_vax))\n",
    "\n",
    "### Create a database grid all CSVs and associated URLs from Oxford website\n",
    "db_grid = get_database_to_csv(url_root_oxford, csv_list)\n",
    "### Insert into database grid all CSVs and associated URLs from vaccinations website\n",
    "db_grid = get_database_to_csv(url_root_vaccinations, csv_list_vax, db_grid)\n",
    "# print('db_grid', db_grid)\n",
    "\n",
    "# Stack all csl in the list\n",
    "csv_list += csv_list_vax ## ; print('csv_list', csv_list)\n",
    "\n",
    "# transform list into dict:\n",
    "csv = dict(zip(csv_list, [v[0] for v in enumerate(csv_list)])) ## ; print ('csv', csv) ## if v[1] == 'containment_health_index_avg.csv' "
   ]
  },
  {
   "cell_type": "markdown",
   "id": "89c8b3bb-c12b-43a3-9dda-7bbd905f3622",
   "metadata": {
    "tags": []
   },
   "source": [
    "## Data loading"
   ]
  },
  {
   "cell_type": "markdown",
   "id": "043d5c4a-c489-4204-a782-08cfb9a127c9",
   "metadata": {
    "tags": []
   },
   "source": [
    "## Data cleaning"
   ]
  },
  {
   "cell_type": "markdown",
   "id": "6cc67099-9098-47c4-9e1d-b2754e07cd70",
   "metadata": {
    "tags": []
   },
   "source": [
    "### **Read CSV** and **Set raw dataframe**"
   ]
  },
  {
   "cell_type": "markdown",
   "id": "c4d45ada",
   "metadata": {
    "jp-MarkdownHeadingCollapsed": true,
    "tags": []
   },
   "source": [
    "### **Read raw CSV** and **Set dataframe**"
   ]
  },
  {
   "cell_type": "code",
   "execution_count": 22,
   "id": "e857c603",
   "metadata": {},
   "outputs": [],
   "source": [
    "df_raw_gov_response = pd.read_csv(get_raw_data_path('government_response_index_avg.csv'))\n",
    "df_raw_health = pd.read_csv(get_raw_data_path('containment_health_index_avg.csv'))\n",
    "df_raw_economic = pd.read_csv(get_raw_data_path('economic_support_index.csv'))\n",
    "\n",
    "#### Vaccination\n",
    "df_raw_vaccination = pd.read_csv(get_raw_data_path('vaccinations.csv'))\n",
    "df_raw_ages = pd.read_csv(get_raw_data_path('vaccinations-by-age-group.csv'))\n",
    "\n",
    "\n",
    "#### Data Frame target\n",
    "df_raw_cases = pd.read_csv(get_raw_data_path('confirmed_cases.csv'))\n",
    "df_raw_deaths = pd.read_csv(get_raw_data_path('confirmed_deaths.csv'))\n",
    "\n",
    "#### Data multiple\n",
    "df_raw_school_closing=pd.read_csv(get_raw_data_path('c1m_school_closing.csv'))\n",
    "df_raw_workplace_closing=pd.read_csv(get_raw_data_path('c2m_workplace_closing.csv'))\n",
    "df_raw_cancel_public_event=pd.read_csv(get_raw_data_path('c3m_cancel_public_events.csv'))\n",
    "df_raw_restriction_on_gathering=pd.read_csv(get_raw_data_path('c4m_restrictions_on_gatherings.csv'))\n",
    "df_raw_stay_at_home=pd.read_csv(get_raw_data_path('c6m_stay_at_home_requirements.csv'))\n",
    "df_raw_international_travel=pd.read_csv(get_raw_data_path('c6m_stay_at_home_requirements.csv'))\n",
    "df_raw_goverment_response=pd.read_csv(get_raw_data_path('government_response_index_avg.csv'))\n",
    "df_raw_facial_covering=pd.read_csv(get_raw_data_path('h6m_facial_coverings.csv'))\n",
    "df_raw_vacination_policy=pd.read_csv(get_raw_data_path('h7_vaccination_policy.csv'))\n"
   ]
  },
  {
   "cell_type": "markdown",
   "id": "b3f43d38",
   "metadata": {
    "jp-MarkdownHeadingCollapsed": true,
    "tags": []
   },
   "source": [
    "### **Read out CSV** and **Set dataframe**"
   ]
  },
  {
   "cell_type": "code",
   "execution_count": 23,
   "id": "a647dd56-8eaf-4f56-b52f-173e818e245c",
   "metadata": {
    "tags": []
   },
   "outputs": [
    {
     "data": {
      "text/plain": [
       "(           date  containment_and_health  stringency  economics_sup  \\\n",
       " 0    2020-01-22                0.013676    0.001380            0.0   \n",
       " 1    2020-01-23                0.013825    0.001656            0.0   \n",
       " 2    2020-01-24                0.014345    0.002622            0.0   \n",
       " 3    2020-01-25                0.014345    0.002622            0.0   \n",
       " 4    2020-01-26                0.014593    0.003082            0.0   \n",
       " ..          ...                     ...         ...            ...   \n",
       " 959  2022-09-07                0.000000    0.000000            0.0   \n",
       " 960  2022-09-08                0.000000    0.000000            0.0   \n",
       " 961  2022-09-09                0.000000    0.000000            0.0   \n",
       " 962  2022-09-10                0.000000    0.000000            0.0   \n",
       " 963  2022-09-11                0.000000    0.000000            0.0   \n",
       " \n",
       "      total_cases  new_cases  total_deaths  new_deaths  gov_response  \\\n",
       " 0            2.0        2.0           1.0         1.0      0.011863   \n",
       " 1            2.0        0.0           1.0         0.0      0.011992   \n",
       " 2            4.0        2.0           1.0         0.0      0.012443   \n",
       " 3            4.0        0.0           1.0         0.0      0.012443   \n",
       " 4           10.0        6.0           1.0         0.0      0.012657   \n",
       " ..           ...        ...           ...         ...           ...   \n",
       " 959  188954899.0   243945.0     2092550.0      1569.0      0.088564   \n",
       " 960  189199755.0   244856.0     2093889.0      1339.0      0.088564   \n",
       " 961  189408285.0   208530.0     2094959.0      1070.0      0.088564   \n",
       " 962  189444183.0    35898.0     2095010.0        51.0      0.088564   \n",
       " 963  189456677.0    12494.0     2095019.0         9.0      0.088564   \n",
       " \n",
       "      total_vaccinations  people_vaccinated  people_fully_vaccinated  \\\n",
       " 0                   0.0                0.0                      0.0   \n",
       " 1                   0.0                0.0                      0.0   \n",
       " 2                   0.0                0.0                      0.0   \n",
       " 3                   0.0                0.0                      0.0   \n",
       " 4                   0.0                0.0                      0.0   \n",
       " ..                  ...                ...                      ...   \n",
       " 959                 0.0                0.0                      0.0   \n",
       " 960                 0.0                0.0                      0.0   \n",
       " 961                 0.0                0.0                      0.0   \n",
       " 962                 0.0                0.0                      0.0   \n",
       " 963                 0.0                0.0                      0.0   \n",
       " \n",
       "      total_boosters  \n",
       " 0               0.0  \n",
       " 1               0.0  \n",
       " 2               0.0  \n",
       " 3               0.0  \n",
       " 4               0.0  \n",
       " ..              ...  \n",
       " 959             0.0  \n",
       " 960             0.0  \n",
       " 961             0.0  \n",
       " 962             0.0  \n",
       " 963             0.0  \n",
       " \n",
       " [964 rows x 13 columns],\n",
       "            date  cancel_public_events  restrictions_on_gathering  \\\n",
       " 0    2020-01-01                   0.0                        0.0   \n",
       " 1    2020-01-02                   0.0                        0.0   \n",
       " 2    2020-01-03                   0.0                        0.0   \n",
       " 3    2020-01-04                   0.0                        0.0   \n",
       " 4    2020-01-05                   0.0                        0.0   \n",
       " ..          ...                   ...                        ...   \n",
       " 977  2022-09-04                   NaN                        NaN   \n",
       " 978  2022-09-05                   NaN                        NaN   \n",
       " 979  2022-09-06                   NaN                        NaN   \n",
       " 980  2022-09-07                   NaN                        NaN   \n",
       " 981  2022-09-08                   NaN                        NaN   \n",
       " \n",
       "      close_public_transport  stay_at_home_requirements  \\\n",
       " 0                       0.0                        0.0   \n",
       " 1                       0.0                        0.0   \n",
       " 2                       0.0                        0.0   \n",
       " 3                       0.0                        0.0   \n",
       " 4                       0.0                        0.0   \n",
       " ..                      ...                        ...   \n",
       " 977                     1.0                        1.0   \n",
       " 978                     1.0                        1.0   \n",
       " 979                     1.0                        1.0   \n",
       " 980                     1.0                        1.0   \n",
       " 981                     NaN                        NaN   \n",
       " \n",
       "      restrictions_on_internal_movement  international_travel_controls  \\\n",
       " 0                                  0.0                            0.0   \n",
       " 1                                  0.0                            0.0   \n",
       " 2                                  0.0                            0.0   \n",
       " 3                                  0.0                            0.0   \n",
       " 4                                  0.0                            0.0   \n",
       " ..                                 ...                            ...   \n",
       " 977                                1.0                            0.0   \n",
       " 978                                1.0                            0.0   \n",
       " 979                                1.0                            0.0   \n",
       " 980                                1.0                            0.0   \n",
       " 981                                NaN                            NaN   \n",
       " \n",
       "      income_support  debt/contract_relief  public_information_campaigns  ...  \\\n",
       " 0               0.0                   0.0                           0.0  ...   \n",
       " 1               0.0                   0.0                           0.0  ...   \n",
       " 2               0.0                   0.0                           0.0  ...   \n",
       " 3               0.0                   0.0                           0.0  ...   \n",
       " 4               0.0                   0.0                           0.0  ...   \n",
       " ..              ...                   ...                           ...  ...   \n",
       " 977             NaN                   NaN                           NaN  ...   \n",
       " 978             NaN                   NaN                           NaN  ...   \n",
       " 979             NaN                   NaN                           NaN  ...   \n",
       " 980             NaN                   NaN                           NaN  ...   \n",
       " 981             NaN                   NaN                           NaN  ...   \n",
       " \n",
       "      vaccination_policy  protection_of_elderly_people  total_cases  \\\n",
       " 0                   0.0                           0.0          0.0   \n",
       " 1                   0.0                           0.0          0.0   \n",
       " 2                   0.0                           0.0          0.0   \n",
       " 3                   0.0                           0.0          0.0   \n",
       " 4                   0.0                           0.0          0.0   \n",
       " ..                  ...                           ...          ...   \n",
       " 977                 NaN                           NaN  188464761.0   \n",
       " 978                 NaN                           NaN  188503831.0   \n",
       " 979                 NaN                           NaN  188761844.0   \n",
       " 980                 NaN                           NaN  103838653.0   \n",
       " 981                 NaN                           NaN  103838653.0   \n",
       " \n",
       "       new_cases  total_deaths  new_deaths  workplace_closing  \\\n",
       " 0           NaN           0.0         NaN                0.0   \n",
       " 1           0.0           0.0         0.0                0.0   \n",
       " 2           0.0           0.0         0.0                0.0   \n",
       " 3           0.0           0.0         0.0                0.0   \n",
       " 4           0.0           0.0         0.0                0.0   \n",
       " ..          ...           ...         ...                ...   \n",
       " 977     10524.0     2089425.0         1.0                1.0   \n",
       " 978     39070.0     2089567.0       142.0                1.0   \n",
       " 979    258013.0     2090809.0      1242.0                1.0   \n",
       " 980 -84923191.0           0.0  -2090809.0                1.0   \n",
       " 981         0.0           0.0         0.0                NaN   \n",
       " \n",
       "      people_vaccinated_per_hundred  people_fully_vaccinated_per_hundred  \\\n",
       " 0                              NaN                                  NaN   \n",
       " 1                              NaN                                  NaN   \n",
       " 2                              NaN                                  NaN   \n",
       " 3                              NaN                                  NaN   \n",
       " 4                              NaN                                  NaN   \n",
       " ..                             ...                                  ...   \n",
       " 977                          79.24                                67.58   \n",
       " 978                          79.25                                67.58   \n",
       " 979                          79.25                                67.58   \n",
       " 980                            NaN                                  NaN   \n",
       " 981                            NaN                                  NaN   \n",
       " \n",
       "      total_boosters_per_hundred  \n",
       " 0                           NaN  \n",
       " 1                           NaN  \n",
       " 2                           NaN  \n",
       " 3                           NaN  \n",
       " 4                           NaN  \n",
       " ..                          ...  \n",
       " 977                        39.5  \n",
       " 978                        39.5  \n",
       " 979                        39.5  \n",
       " 980                         NaN  \n",
       " 981                         NaN  \n",
       " \n",
       " [982 rows x 23 columns])"
      ]
     },
     "execution_count": 23,
     "metadata": {},
     "output_type": "execute_result"
    }
   ],
   "source": [
    "# ! unzip {csv_dir}usa_index\n",
    "# ! unzip {csv_dir}usa_indicator\n",
    "# ! rm ECG_data.zip\n",
    "df_usa_index =  pd.read_csv(get_csv_out_path('index_United States.csv'))\n",
    "df_usa_indicator =  pd.read_csv(get_csv_out_path('indicator_United States.csv'))\n",
    "df_usa_index, df_usa_indicator\n"
   ]
  },
  {
   "cell_type": "markdown",
   "id": "eaecf123-5e8d-4e1e-b337-e0164c78fa4e",
   "metadata": {
    "jp-MarkdownHeadingCollapsed": true,
    "tags": []
   },
   "source": [
    "## DataFrames setting"
   ]
  },
  {
   "cell_type": "code",
   "execution_count": 24,
   "id": "c81ed76f-6978-4e8d-84a6-41b4cd8cb4cb",
   "metadata": {},
   "outputs": [
    {
     "data": {
      "text/plain": [
       "(         date  containment_and_health  stringency  economics_sup  total_cases  \\\n",
       " 0  2020-01-22                0.013676    0.001380            0.0          2.0   \n",
       " 1  2020-01-23                0.013825    0.001656            0.0          2.0   \n",
       " 2  2020-01-24                0.014345    0.002622            0.0          4.0   \n",
       " 3  2020-01-25                0.014345    0.002622            0.0          4.0   \n",
       " 4  2020-01-26                0.014593    0.003082            0.0         10.0   \n",
       " \n",
       "    new_cases  total_deaths  new_deaths  gov_response  total_vaccinations  \\\n",
       " 0        2.0           1.0         1.0      0.011863                 0.0   \n",
       " 1        0.0           1.0         0.0      0.011992                 0.0   \n",
       " 2        2.0           1.0         0.0      0.012443                 0.0   \n",
       " 3        0.0           1.0         0.0      0.012443                 0.0   \n",
       " 4        6.0           1.0         0.0      0.012657                 0.0   \n",
       " \n",
       "    people_vaccinated  people_fully_vaccinated  total_boosters  \n",
       " 0                0.0                      0.0             0.0  \n",
       " 1                0.0                      0.0             0.0  \n",
       " 2                0.0                      0.0             0.0  \n",
       " 3                0.0                      0.0             0.0  \n",
       " 4                0.0                      0.0             0.0  ,\n",
       "          date  cancel_public_events  restrictions_on_gathering  \\\n",
       " 0  2020-01-01                   0.0                        0.0   \n",
       " 1  2020-01-02                   0.0                        0.0   \n",
       " 2  2020-01-03                   0.0                        0.0   \n",
       " 3  2020-01-04                   0.0                        0.0   \n",
       " 4  2020-01-05                   0.0                        0.0   \n",
       " \n",
       "    close_public_transport  stay_at_home_requirements  \\\n",
       " 0                     0.0                        0.0   \n",
       " 1                     0.0                        0.0   \n",
       " 2                     0.0                        0.0   \n",
       " 3                     0.0                        0.0   \n",
       " 4                     0.0                        0.0   \n",
       " \n",
       "    restrictions_on_internal_movement  international_travel_controls  \\\n",
       " 0                                0.0                            0.0   \n",
       " 1                                0.0                            0.0   \n",
       " 2                                0.0                            0.0   \n",
       " 3                                0.0                            0.0   \n",
       " 4                                0.0                            0.0   \n",
       " \n",
       "    income_support  debt/contract_relief  public_information_campaigns  ...  \\\n",
       " 0             0.0                   0.0                           0.0  ...   \n",
       " 1             0.0                   0.0                           0.0  ...   \n",
       " 2             0.0                   0.0                           0.0  ...   \n",
       " 3             0.0                   0.0                           0.0  ...   \n",
       " 4             0.0                   0.0                           0.0  ...   \n",
       " \n",
       "    vaccination_policy  protection_of_elderly_people  total_cases  new_cases  \\\n",
       " 0                 0.0                           0.0          0.0        NaN   \n",
       " 1                 0.0                           0.0          0.0        0.0   \n",
       " 2                 0.0                           0.0          0.0        0.0   \n",
       " 3                 0.0                           0.0          0.0        0.0   \n",
       " 4                 0.0                           0.0          0.0        0.0   \n",
       " \n",
       "    total_deaths  new_deaths  workplace_closing  people_vaccinated_per_hundred  \\\n",
       " 0           0.0         NaN                0.0                            NaN   \n",
       " 1           0.0         0.0                0.0                            NaN   \n",
       " 2           0.0         0.0                0.0                            NaN   \n",
       " 3           0.0         0.0                0.0                            NaN   \n",
       " 4           0.0         0.0                0.0                            NaN   \n",
       " \n",
       "    people_fully_vaccinated_per_hundred  total_boosters_per_hundred  \n",
       " 0                                  NaN                         NaN  \n",
       " 1                                  NaN                         NaN  \n",
       " 2                                  NaN                         NaN  \n",
       " 3                                  NaN                         NaN  \n",
       " 4                                  NaN                         NaN  \n",
       " \n",
       " [5 rows x 23 columns])"
      ]
     },
     "execution_count": 24,
     "metadata": {},
     "output_type": "execute_result"
    }
   ],
   "source": [
    "# Sumedha csv test\n",
    "df_ts_usa_index =  df_usa_index.copy()\n",
    "df_ts_usa_indicator =  df_usa_indicator.copy()\n",
    "\n",
    "df_ts_usa_index.head(), df_ts_usa_indicator.head()"
   ]
  },
  {
   "cell_type": "markdown",
   "id": "0780e433-b780-4736-9011-36e69a97910d",
   "metadata": {
    "tags": []
   },
   "source": [
    "## Time series analysing"
   ]
  },
  {
   "cell_type": "markdown",
   "id": "61b05ade-58d9-4909-85f7-270a32dc2480",
   "metadata": {
    "jp-MarkdownHeadingCollapsed": true,
    "tags": []
   },
   "source": [
    "### Time Series Analysis *(optional)*"
   ]
  },
  {
   "cell_type": "code",
   "execution_count": 25,
   "id": "e9490e09-78eb-4563-881a-ea7d9f40b184",
   "metadata": {},
   "outputs": [],
   "source": [
    "ts_cases = df_raw_cases.drop(columns=['country_name','region_code','region_name','jurisdiction','Unnamed: 0'])\n",
    "ts_cases = ts_cases.groupby('country_code').agg('sum')\n",
    "ts_cases.transpose()\n",
    "ts_cases.columns.name = 'Dates'\n",
    "ts_cases = ts_cases.fillna(0)\n",
    "# ts_cases.index = pd.to_datetime(ts_cases.index)"
   ]
  },
  {
   "cell_type": "code",
   "execution_count": 26,
   "id": "56b9518a-a848-45c5-b0cf-a1dc2363b523",
   "metadata": {},
   "outputs": [
    {
     "data": {
      "text/html": [
       "<div>\n",
       "<style scoped>\n",
       "    .dataframe tbody tr th:only-of-type {\n",
       "        vertical-align: middle;\n",
       "    }\n",
       "\n",
       "    .dataframe tbody tr th {\n",
       "        vertical-align: top;\n",
       "    }\n",
       "\n",
       "    .dataframe thead th {\n",
       "        text-align: right;\n",
       "    }\n",
       "</style>\n",
       "<table border=\"1\" class=\"dataframe\">\n",
       "  <thead>\n",
       "    <tr style=\"text-align: right;\">\n",
       "      <th>country_code</th>\n",
       "      <th>ABW</th>\n",
       "      <th>AFG</th>\n",
       "      <th>AGO</th>\n",
       "      <th>ALB</th>\n",
       "      <th>AND</th>\n",
       "      <th>ARE</th>\n",
       "      <th>ARG</th>\n",
       "      <th>AUS</th>\n",
       "      <th>AUT</th>\n",
       "      <th>AZE</th>\n",
       "      <th>...</th>\n",
       "      <th>USA</th>\n",
       "      <th>UZB</th>\n",
       "      <th>VEN</th>\n",
       "      <th>VIR</th>\n",
       "      <th>VNM</th>\n",
       "      <th>VUT</th>\n",
       "      <th>YEM</th>\n",
       "      <th>ZAF</th>\n",
       "      <th>ZMB</th>\n",
       "      <th>ZWE</th>\n",
       "    </tr>\n",
       "    <tr>\n",
       "      <th>Dates</th>\n",
       "      <th></th>\n",
       "      <th></th>\n",
       "      <th></th>\n",
       "      <th></th>\n",
       "      <th></th>\n",
       "      <th></th>\n",
       "      <th></th>\n",
       "      <th></th>\n",
       "      <th></th>\n",
       "      <th></th>\n",
       "      <th></th>\n",
       "      <th></th>\n",
       "      <th></th>\n",
       "      <th></th>\n",
       "      <th></th>\n",
       "      <th></th>\n",
       "      <th></th>\n",
       "      <th></th>\n",
       "      <th></th>\n",
       "      <th></th>\n",
       "      <th></th>\n",
       "    </tr>\n",
       "  </thead>\n",
       "  <tbody>\n",
       "    <tr>\n",
       "      <th>01Jan2020</th>\n",
       "      <td>0.0</td>\n",
       "      <td>0.0</td>\n",
       "      <td>0.0</td>\n",
       "      <td>0.0</td>\n",
       "      <td>0.0</td>\n",
       "      <td>0.0</td>\n",
       "      <td>0.0</td>\n",
       "      <td>0.0</td>\n",
       "      <td>0.0</td>\n",
       "      <td>0.0</td>\n",
       "      <td>...</td>\n",
       "      <td>0.0</td>\n",
       "      <td>0.0</td>\n",
       "      <td>0.0</td>\n",
       "      <td>0.0</td>\n",
       "      <td>0.0</td>\n",
       "      <td>0.0</td>\n",
       "      <td>0.0</td>\n",
       "      <td>0.0</td>\n",
       "      <td>0.0</td>\n",
       "      <td>0.0</td>\n",
       "    </tr>\n",
       "    <tr>\n",
       "      <th>02Jan2020</th>\n",
       "      <td>0.0</td>\n",
       "      <td>0.0</td>\n",
       "      <td>0.0</td>\n",
       "      <td>0.0</td>\n",
       "      <td>0.0</td>\n",
       "      <td>0.0</td>\n",
       "      <td>0.0</td>\n",
       "      <td>0.0</td>\n",
       "      <td>0.0</td>\n",
       "      <td>0.0</td>\n",
       "      <td>...</td>\n",
       "      <td>0.0</td>\n",
       "      <td>0.0</td>\n",
       "      <td>0.0</td>\n",
       "      <td>0.0</td>\n",
       "      <td>0.0</td>\n",
       "      <td>0.0</td>\n",
       "      <td>0.0</td>\n",
       "      <td>0.0</td>\n",
       "      <td>0.0</td>\n",
       "      <td>0.0</td>\n",
       "    </tr>\n",
       "    <tr>\n",
       "      <th>03Jan2020</th>\n",
       "      <td>0.0</td>\n",
       "      <td>0.0</td>\n",
       "      <td>0.0</td>\n",
       "      <td>0.0</td>\n",
       "      <td>0.0</td>\n",
       "      <td>0.0</td>\n",
       "      <td>0.0</td>\n",
       "      <td>0.0</td>\n",
       "      <td>0.0</td>\n",
       "      <td>0.0</td>\n",
       "      <td>...</td>\n",
       "      <td>0.0</td>\n",
       "      <td>0.0</td>\n",
       "      <td>0.0</td>\n",
       "      <td>0.0</td>\n",
       "      <td>0.0</td>\n",
       "      <td>0.0</td>\n",
       "      <td>0.0</td>\n",
       "      <td>0.0</td>\n",
       "      <td>0.0</td>\n",
       "      <td>0.0</td>\n",
       "    </tr>\n",
       "    <tr>\n",
       "      <th>04Jan2020</th>\n",
       "      <td>0.0</td>\n",
       "      <td>0.0</td>\n",
       "      <td>0.0</td>\n",
       "      <td>0.0</td>\n",
       "      <td>0.0</td>\n",
       "      <td>0.0</td>\n",
       "      <td>0.0</td>\n",
       "      <td>0.0</td>\n",
       "      <td>0.0</td>\n",
       "      <td>0.0</td>\n",
       "      <td>...</td>\n",
       "      <td>0.0</td>\n",
       "      <td>0.0</td>\n",
       "      <td>0.0</td>\n",
       "      <td>0.0</td>\n",
       "      <td>0.0</td>\n",
       "      <td>0.0</td>\n",
       "      <td>0.0</td>\n",
       "      <td>0.0</td>\n",
       "      <td>0.0</td>\n",
       "      <td>0.0</td>\n",
       "    </tr>\n",
       "    <tr>\n",
       "      <th>05Jan2020</th>\n",
       "      <td>0.0</td>\n",
       "      <td>0.0</td>\n",
       "      <td>0.0</td>\n",
       "      <td>0.0</td>\n",
       "      <td>0.0</td>\n",
       "      <td>0.0</td>\n",
       "      <td>0.0</td>\n",
       "      <td>0.0</td>\n",
       "      <td>0.0</td>\n",
       "      <td>0.0</td>\n",
       "      <td>...</td>\n",
       "      <td>0.0</td>\n",
       "      <td>0.0</td>\n",
       "      <td>0.0</td>\n",
       "      <td>0.0</td>\n",
       "      <td>0.0</td>\n",
       "      <td>0.0</td>\n",
       "      <td>0.0</td>\n",
       "      <td>0.0</td>\n",
       "      <td>0.0</td>\n",
       "      <td>0.0</td>\n",
       "    </tr>\n",
       "  </tbody>\n",
       "</table>\n",
       "<p>5 rows × 187 columns</p>\n",
       "</div>"
      ],
      "text/plain": [
       "country_code  ABW  AFG  AGO  ALB  AND  ARE  ARG  AUS  AUT  AZE  ...  USA  UZB  \\\n",
       "Dates                                                           ...             \n",
       "01Jan2020     0.0  0.0  0.0  0.0  0.0  0.0  0.0  0.0  0.0  0.0  ...  0.0  0.0   \n",
       "02Jan2020     0.0  0.0  0.0  0.0  0.0  0.0  0.0  0.0  0.0  0.0  ...  0.0  0.0   \n",
       "03Jan2020     0.0  0.0  0.0  0.0  0.0  0.0  0.0  0.0  0.0  0.0  ...  0.0  0.0   \n",
       "04Jan2020     0.0  0.0  0.0  0.0  0.0  0.0  0.0  0.0  0.0  0.0  ...  0.0  0.0   \n",
       "05Jan2020     0.0  0.0  0.0  0.0  0.0  0.0  0.0  0.0  0.0  0.0  ...  0.0  0.0   \n",
       "\n",
       "country_code  VEN  VIR  VNM  VUT  YEM  ZAF  ZMB  ZWE  \n",
       "Dates                                                 \n",
       "01Jan2020     0.0  0.0  0.0  0.0  0.0  0.0  0.0  0.0  \n",
       "02Jan2020     0.0  0.0  0.0  0.0  0.0  0.0  0.0  0.0  \n",
       "03Jan2020     0.0  0.0  0.0  0.0  0.0  0.0  0.0  0.0  \n",
       "04Jan2020     0.0  0.0  0.0  0.0  0.0  0.0  0.0  0.0  \n",
       "05Jan2020     0.0  0.0  0.0  0.0  0.0  0.0  0.0  0.0  \n",
       "\n",
       "[5 rows x 187 columns]"
      ]
     },
     "execution_count": 26,
     "metadata": {},
     "output_type": "execute_result"
    }
   ],
   "source": [
    "ts_cases = ts_cases.transpose()\n",
    "ts_cases.head()"
   ]
  },
  {
   "cell_type": "code",
   "execution_count": 27,
   "id": "679e0fb8-f976-4dbe-8243-7a69be38b8b2",
   "metadata": {},
   "outputs": [
    {
     "data": {
      "text/plain": [
       "(1001, 187)"
      ]
     },
     "execution_count": 27,
     "metadata": {},
     "output_type": "execute_result"
    }
   ],
   "source": [
    "ts_cases.shape"
   ]
  },
  {
   "cell_type": "code",
   "execution_count": 28,
   "id": "7ca627f6-23e4-4243-8a68-e0b3108b21ac",
   "metadata": {},
   "outputs": [
    {
     "data": {
      "text/html": [
       "<div>\n",
       "<style scoped>\n",
       "    .dataframe tbody tr th:only-of-type {\n",
       "        vertical-align: middle;\n",
       "    }\n",
       "\n",
       "    .dataframe tbody tr th {\n",
       "        vertical-align: top;\n",
       "    }\n",
       "\n",
       "    .dataframe thead th {\n",
       "        text-align: right;\n",
       "    }\n",
       "</style>\n",
       "<table border=\"1\" class=\"dataframe\">\n",
       "  <thead>\n",
       "    <tr style=\"text-align: right;\">\n",
       "      <th></th>\n",
       "      <th>Unnamed: 0</th>\n",
       "      <th>country_code</th>\n",
       "      <th>country_name</th>\n",
       "      <th>region_code</th>\n",
       "      <th>region_name</th>\n",
       "      <th>jurisdiction</th>\n",
       "      <th>01Jan2020</th>\n",
       "      <th>02Jan2020</th>\n",
       "      <th>03Jan2020</th>\n",
       "      <th>04Jan2020</th>\n",
       "      <th>...</th>\n",
       "      <th>18Sep2022</th>\n",
       "      <th>19Sep2022</th>\n",
       "      <th>20Sep2022</th>\n",
       "      <th>21Sep2022</th>\n",
       "      <th>22Sep2022</th>\n",
       "      <th>23Sep2022</th>\n",
       "      <th>24Sep2022</th>\n",
       "      <th>25Sep2022</th>\n",
       "      <th>26Sep2022</th>\n",
       "      <th>27Sep2022</th>\n",
       "    </tr>\n",
       "  </thead>\n",
       "  <tbody>\n",
       "    <tr>\n",
       "      <th>0</th>\n",
       "      <td>False</td>\n",
       "      <td>False</td>\n",
       "      <td>False</td>\n",
       "      <td>True</td>\n",
       "      <td>True</td>\n",
       "      <td>False</td>\n",
       "      <td>True</td>\n",
       "      <td>True</td>\n",
       "      <td>True</td>\n",
       "      <td>True</td>\n",
       "      <td>...</td>\n",
       "      <td>False</td>\n",
       "      <td>False</td>\n",
       "      <td>False</td>\n",
       "      <td>False</td>\n",
       "      <td>False</td>\n",
       "      <td>False</td>\n",
       "      <td>False</td>\n",
       "      <td>False</td>\n",
       "      <td>False</td>\n",
       "      <td>False</td>\n",
       "    </tr>\n",
       "    <tr>\n",
       "      <th>1</th>\n",
       "      <td>False</td>\n",
       "      <td>False</td>\n",
       "      <td>False</td>\n",
       "      <td>True</td>\n",
       "      <td>True</td>\n",
       "      <td>False</td>\n",
       "      <td>True</td>\n",
       "      <td>True</td>\n",
       "      <td>True</td>\n",
       "      <td>True</td>\n",
       "      <td>...</td>\n",
       "      <td>False</td>\n",
       "      <td>False</td>\n",
       "      <td>False</td>\n",
       "      <td>False</td>\n",
       "      <td>False</td>\n",
       "      <td>False</td>\n",
       "      <td>False</td>\n",
       "      <td>False</td>\n",
       "      <td>False</td>\n",
       "      <td>False</td>\n",
       "    </tr>\n",
       "    <tr>\n",
       "      <th>2</th>\n",
       "      <td>False</td>\n",
       "      <td>False</td>\n",
       "      <td>False</td>\n",
       "      <td>True</td>\n",
       "      <td>True</td>\n",
       "      <td>False</td>\n",
       "      <td>True</td>\n",
       "      <td>True</td>\n",
       "      <td>True</td>\n",
       "      <td>True</td>\n",
       "      <td>...</td>\n",
       "      <td>False</td>\n",
       "      <td>False</td>\n",
       "      <td>False</td>\n",
       "      <td>False</td>\n",
       "      <td>False</td>\n",
       "      <td>False</td>\n",
       "      <td>False</td>\n",
       "      <td>False</td>\n",
       "      <td>False</td>\n",
       "      <td>False</td>\n",
       "    </tr>\n",
       "    <tr>\n",
       "      <th>3</th>\n",
       "      <td>False</td>\n",
       "      <td>False</td>\n",
       "      <td>False</td>\n",
       "      <td>True</td>\n",
       "      <td>True</td>\n",
       "      <td>False</td>\n",
       "      <td>True</td>\n",
       "      <td>True</td>\n",
       "      <td>True</td>\n",
       "      <td>True</td>\n",
       "      <td>...</td>\n",
       "      <td>False</td>\n",
       "      <td>False</td>\n",
       "      <td>False</td>\n",
       "      <td>False</td>\n",
       "      <td>False</td>\n",
       "      <td>False</td>\n",
       "      <td>False</td>\n",
       "      <td>False</td>\n",
       "      <td>False</td>\n",
       "      <td>False</td>\n",
       "    </tr>\n",
       "    <tr>\n",
       "      <th>4</th>\n",
       "      <td>False</td>\n",
       "      <td>False</td>\n",
       "      <td>False</td>\n",
       "      <td>True</td>\n",
       "      <td>True</td>\n",
       "      <td>False</td>\n",
       "      <td>True</td>\n",
       "      <td>True</td>\n",
       "      <td>True</td>\n",
       "      <td>True</td>\n",
       "      <td>...</td>\n",
       "      <td>False</td>\n",
       "      <td>False</td>\n",
       "      <td>False</td>\n",
       "      <td>False</td>\n",
       "      <td>False</td>\n",
       "      <td>False</td>\n",
       "      <td>False</td>\n",
       "      <td>False</td>\n",
       "      <td>False</td>\n",
       "      <td>False</td>\n",
       "    </tr>\n",
       "    <tr>\n",
       "      <th>...</th>\n",
       "      <td>...</td>\n",
       "      <td>...</td>\n",
       "      <td>...</td>\n",
       "      <td>...</td>\n",
       "      <td>...</td>\n",
       "      <td>...</td>\n",
       "      <td>...</td>\n",
       "      <td>...</td>\n",
       "      <td>...</td>\n",
       "      <td>...</td>\n",
       "      <td>...</td>\n",
       "      <td>...</td>\n",
       "      <td>...</td>\n",
       "      <td>...</td>\n",
       "      <td>...</td>\n",
       "      <td>...</td>\n",
       "      <td>...</td>\n",
       "      <td>...</td>\n",
       "      <td>...</td>\n",
       "      <td>...</td>\n",
       "      <td>...</td>\n",
       "    </tr>\n",
       "    <tr>\n",
       "      <th>258</th>\n",
       "      <td>False</td>\n",
       "      <td>False</td>\n",
       "      <td>False</td>\n",
       "      <td>True</td>\n",
       "      <td>True</td>\n",
       "      <td>False</td>\n",
       "      <td>True</td>\n",
       "      <td>True</td>\n",
       "      <td>True</td>\n",
       "      <td>True</td>\n",
       "      <td>...</td>\n",
       "      <td>False</td>\n",
       "      <td>False</td>\n",
       "      <td>False</td>\n",
       "      <td>False</td>\n",
       "      <td>False</td>\n",
       "      <td>False</td>\n",
       "      <td>False</td>\n",
       "      <td>False</td>\n",
       "      <td>False</td>\n",
       "      <td>False</td>\n",
       "    </tr>\n",
       "    <tr>\n",
       "      <th>259</th>\n",
       "      <td>False</td>\n",
       "      <td>False</td>\n",
       "      <td>False</td>\n",
       "      <td>True</td>\n",
       "      <td>True</td>\n",
       "      <td>False</td>\n",
       "      <td>True</td>\n",
       "      <td>True</td>\n",
       "      <td>True</td>\n",
       "      <td>True</td>\n",
       "      <td>...</td>\n",
       "      <td>False</td>\n",
       "      <td>False</td>\n",
       "      <td>False</td>\n",
       "      <td>False</td>\n",
       "      <td>False</td>\n",
       "      <td>False</td>\n",
       "      <td>False</td>\n",
       "      <td>False</td>\n",
       "      <td>False</td>\n",
       "      <td>False</td>\n",
       "    </tr>\n",
       "    <tr>\n",
       "      <th>260</th>\n",
       "      <td>False</td>\n",
       "      <td>False</td>\n",
       "      <td>False</td>\n",
       "      <td>True</td>\n",
       "      <td>True</td>\n",
       "      <td>False</td>\n",
       "      <td>True</td>\n",
       "      <td>True</td>\n",
       "      <td>True</td>\n",
       "      <td>True</td>\n",
       "      <td>...</td>\n",
       "      <td>False</td>\n",
       "      <td>False</td>\n",
       "      <td>False</td>\n",
       "      <td>False</td>\n",
       "      <td>False</td>\n",
       "      <td>False</td>\n",
       "      <td>False</td>\n",
       "      <td>False</td>\n",
       "      <td>False</td>\n",
       "      <td>False</td>\n",
       "    </tr>\n",
       "    <tr>\n",
       "      <th>261</th>\n",
       "      <td>False</td>\n",
       "      <td>False</td>\n",
       "      <td>False</td>\n",
       "      <td>True</td>\n",
       "      <td>True</td>\n",
       "      <td>False</td>\n",
       "      <td>True</td>\n",
       "      <td>True</td>\n",
       "      <td>True</td>\n",
       "      <td>True</td>\n",
       "      <td>...</td>\n",
       "      <td>False</td>\n",
       "      <td>False</td>\n",
       "      <td>False</td>\n",
       "      <td>False</td>\n",
       "      <td>False</td>\n",
       "      <td>False</td>\n",
       "      <td>False</td>\n",
       "      <td>False</td>\n",
       "      <td>False</td>\n",
       "      <td>False</td>\n",
       "    </tr>\n",
       "    <tr>\n",
       "      <th>262</th>\n",
       "      <td>False</td>\n",
       "      <td>False</td>\n",
       "      <td>False</td>\n",
       "      <td>True</td>\n",
       "      <td>True</td>\n",
       "      <td>False</td>\n",
       "      <td>True</td>\n",
       "      <td>True</td>\n",
       "      <td>True</td>\n",
       "      <td>True</td>\n",
       "      <td>...</td>\n",
       "      <td>False</td>\n",
       "      <td>False</td>\n",
       "      <td>False</td>\n",
       "      <td>False</td>\n",
       "      <td>False</td>\n",
       "      <td>False</td>\n",
       "      <td>False</td>\n",
       "      <td>False</td>\n",
       "      <td>False</td>\n",
       "      <td>False</td>\n",
       "    </tr>\n",
       "  </tbody>\n",
       "</table>\n",
       "<p>263 rows × 1007 columns</p>\n",
       "</div>"
      ],
      "text/plain": [
       "     Unnamed: 0  country_code  country_name  region_code  region_name  \\\n",
       "0         False         False         False         True         True   \n",
       "1         False         False         False         True         True   \n",
       "2         False         False         False         True         True   \n",
       "3         False         False         False         True         True   \n",
       "4         False         False         False         True         True   \n",
       "..          ...           ...           ...          ...          ...   \n",
       "258       False         False         False         True         True   \n",
       "259       False         False         False         True         True   \n",
       "260       False         False         False         True         True   \n",
       "261       False         False         False         True         True   \n",
       "262       False         False         False         True         True   \n",
       "\n",
       "     jurisdiction  01Jan2020  02Jan2020  03Jan2020  04Jan2020  ...  18Sep2022  \\\n",
       "0           False       True       True       True       True  ...      False   \n",
       "1           False       True       True       True       True  ...      False   \n",
       "2           False       True       True       True       True  ...      False   \n",
       "3           False       True       True       True       True  ...      False   \n",
       "4           False       True       True       True       True  ...      False   \n",
       "..            ...        ...        ...        ...        ...  ...        ...   \n",
       "258         False       True       True       True       True  ...      False   \n",
       "259         False       True       True       True       True  ...      False   \n",
       "260         False       True       True       True       True  ...      False   \n",
       "261         False       True       True       True       True  ...      False   \n",
       "262         False       True       True       True       True  ...      False   \n",
       "\n",
       "     19Sep2022  20Sep2022  21Sep2022  22Sep2022  23Sep2022  24Sep2022  \\\n",
       "0        False      False      False      False      False      False   \n",
       "1        False      False      False      False      False      False   \n",
       "2        False      False      False      False      False      False   \n",
       "3        False      False      False      False      False      False   \n",
       "4        False      False      False      False      False      False   \n",
       "..         ...        ...        ...        ...        ...        ...   \n",
       "258      False      False      False      False      False      False   \n",
       "259      False      False      False      False      False      False   \n",
       "260      False      False      False      False      False      False   \n",
       "261      False      False      False      False      False      False   \n",
       "262      False      False      False      False      False      False   \n",
       "\n",
       "     25Sep2022  26Sep2022  27Sep2022  \n",
       "0        False      False      False  \n",
       "1        False      False      False  \n",
       "2        False      False      False  \n",
       "3        False      False      False  \n",
       "4        False      False      False  \n",
       "..         ...        ...        ...  \n",
       "258      False      False      False  \n",
       "259      False      False      False  \n",
       "260      False      False      False  \n",
       "261      False      False      False  \n",
       "262      False      False      False  \n",
       "\n",
       "[263 rows x 1007 columns]"
      ]
     },
     "execution_count": 28,
     "metadata": {},
     "output_type": "execute_result"
    }
   ],
   "source": [
    "df_raw_cases.isna()"
   ]
  },
  {
   "cell_type": "markdown",
   "id": "e122911e-70c8-4131-bf2f-8db270b3ac93",
   "metadata": {
    "tags": []
   },
   "source": [
    "## TENSORFLOW & RNN MODEL"
   ]
  },
  {
   "cell_type": "markdown",
   "id": "f636afbb-aab0-4500-897b-311961289203",
   "metadata": {
    "tags": []
   },
   "source": [
    "### Recurrent Neural Network (sequences data) modeling"
   ]
  },
  {
   "cell_type": "markdown",
   "id": "b78f081b-7ee6-405b-8e13-04bf267ac2e3",
   "metadata": {
    "tags": []
   },
   "source": [
    "### Samples/Sequences, Observations, Features"
   ]
  },
  {
   "cell_type": "markdown",
   "id": "b6427dc3-25b3-4a5a-abba-20e92d67ab1b",
   "metadata": {},
   "source": [
    "X.shape = (n_SEQUENCES, n_OBSERVATIONS, n_FEATURES) and y = RNN(X) where $X_{i,j}^{t}$\n",
    "\n",
    "with $_{i}$ is the sample/sequence, $_{j}$ is the feature measured and  $^{t}$ is the time at which the observation is seen"
   ]
  },
  {
   "cell_type": "markdown",
   "id": "8f8151dc-1f0e-4981-91a0-c1164230af26",
   "metadata": {},
   "source": [
    "\n",
    "\n",
    "### Prerequisites:\n",
    "\n",
    "- **retrieve dataset** from Sumedha & Alberto\n",
    "\n",
    "    - **clean dataset**: \n",
    "        \n",
    "        - **drop first lines == 0** *(before Covid arrived)*\n",
    "        \n",
    "        - **check Nan**: \n",
    "- **strategy 1 country by country** sequences split as follow:\n",
    "\n",
    "- **strategy 2 one sequence per country**:\n",
    "    - **split X train, set** \n",
    "    - **Pad sequences**\n",
    "    - **create one csv per country**"
   ]
  },
  {
   "cell_type": "markdown",
   "id": "32848eaa-a889-47ee-972c-e9f2e54214cc",
   "metadata": {},
   "source": [
    "## Training strategies:\n",
    "- Get NB dataset (cleaned) from Alberto & Sumedha\n",
    "- 1/ Indicator in precentage %\n",
    "- 2/ Indicator as categorical labels\n",
    "- Run same RNN model in parallel with Kim & Thomas\n",
    "- Identify best dataset\n",
    "- Parameters to fit:\n",
    "    - increase **nb of sequences**\n",
    "    - train series modulation (ex: [50, 150, 200, 300, 400 nb of days = n_obs]) < take time to compute\n",
    "    - **learning_rate** in Optimizer(parameters)\n",
    "    - model layers architecture (**simple** -> complex) (less data -> more data) (print(loss) function check lecture)\n",
    "        > LSTM\n",
    "        > Dense\n",
    "       (> LSTM\n",
    "        > LSTM\n",
    "        > Dense)\n",
    "     >> **try to overfit** the model with the loss (train over val) or (early_stopping)\n",
    "     >> **(X_val, y_val)**"
   ]
  },
  {
   "cell_type": "markdown",
   "id": "30a4cdbb-56aa-4522-84a6-833471a7b34a",
   "metadata": {},
   "source": [
    "### Feature Selection"
   ]
  },
  {
   "cell_type": "markdown",
   "id": "d74ee15a-c507-4049-9489-1f546a1f0a8a",
   "metadata": {
    "tags": []
   },
   "source": [
    "### Time Series **Analysis** & **Preparation** to training"
   ]
  },
  {
   "cell_type": "markdown",
   "id": "6775435d-8b7a-4742-bcb2-a76e1c2ffb1c",
   "metadata": {},
   "source": [
    "# Alberto's RNN model #4 Starting"
   ]
  },
  {
   "cell_type": "code",
   "execution_count": 29,
   "id": "648961ed-ee19-4342-b137-8f5029082404",
   "metadata": {},
   "outputs": [
    {
     "data": {
      "text/plain": [
       "(200, 70, 20)"
      ]
     },
     "execution_count": 29,
     "metadata": {},
     "output_type": "execute_result"
    }
   ],
   "source": [
    "# Alberto train set\n",
    "n_seq = 200 ## nb of sequences (samples)\n",
    "n_obs = 70 # maxi = 96 (stay around 70 or more test_split)\n",
    "n_feat = 20 #  X_train.shape[1] # 20 feature:\n",
    "n_pred = 1 # nb of days where we can predict new daily deaths\n",
    "n_seq, n_obs, n_feat"
   ]
  },
  {
   "cell_type": "markdown",
   "id": "3245d337-90d7-47b1-a4ee-b508e8731c39",
   "metadata": {
    "tags": []
   },
   "source": [
    "### Train Splitting\n",
    "\n",
    "Split the dataset into training, validation, and test datasplit the dataset into training, validation, and test data"
   ]
  },
  {
   "cell_type": "code",
   "execution_count": 30,
   "id": "4fe70c0f",
   "metadata": {},
   "outputs": [
    {
     "data": {
      "text/plain": [
       "(2, 1, 2, 1, 2, 1)"
      ]
     },
     "execution_count": 30,
     "metadata": {},
     "output_type": "execute_result"
    }
   ],
   "source": [
    "# Alberto train set\n",
    "X_train, y_train, X_val, y_val, X_test, y_test = train_test_set('France', split_train=0.7, split_val=0.9)\n",
    "np.ndim(X_train), np.ndim(y_train), np.ndim(X_val), np.ndim(y_val), np.ndim(X_test), np.ndim(y_test)"
   ]
  },
  {
   "cell_type": "markdown",
   "id": "33a4fba2-9562-49eb-9b94-7c5ab57fd163",
   "metadata": {
    "tags": []
   },
   "source": [
    "#### Create sequences (`X`,`y`)"
   ]
  },
  {
   "cell_type": "markdown",
   "id": "6a3e6437-7538-4c29-b8d9-d00d4d804064",
   "metadata": {
    "tags": []
   },
   "source": [
    "##### Generates an entire dataset of multiple subsamples with shape $(X, y)$"
   ]
  },
  {
   "cell_type": "code",
   "execution_count": 31,
   "id": "55b0cc4b",
   "metadata": {},
   "outputs": [],
   "source": [
    "def subsample_sequence(X, y, X_len, y_len) -> pd.DataFrame:\n",
    "    \"\"\"\n",
    "    Given the initial dataframe `df`, return a shorter dataframe sequence of length `length` (eg n_obs).\n",
    "    This shorter sequence should be selected at random\n",
    "    \"\"\"\n",
    "    X_y_len = X_len + y_len\n",
    "    print('_len + y_len',  X_len,  y_len)\n",
    "    print('X.shape[0] >= X_y_len', X.shape[0], X_y_len)\n",
    "    if X.shape[0] >= X_y_len:\n",
    "        last_possible = X.shape[0] - X_y_len\n",
    "    else:\n",
    "        last_possible = X.shape[0]\n",
    "        print('X_y_len = ?', X.shape[0])\n",
    "    # How to split sequences? we could do it manually...\n",
    "    print('X.shape[0]', X.shape[0])\n",
    "    random_start = np.random.randint(0, last_possible)\n",
    "    # X start and y end\n",
    "    X_sample = X[random_start : random_start + X_len]\n",
    "    y_sample = y[random_start + X_len : (random_start + X_y_len)]\n",
    "    print(\"X[random_start : random_start + X_len]\", f\"X[{random_start} : {random_start + X_len}]\")\n",
    "    print(\"y[random_start : random_start + X_y_len]\", f\"y[{random_start} : {(random_start + X_y_len)}]\")\n",
    "    \n",
    "    return np.array(X_sample), np.array(y_sample)"
   ]
  },
  {
   "cell_type": "code",
   "execution_count": 32,
   "id": "1993c868-606c-4d31-ac8d-997bc85d63d3",
   "metadata": {},
   "outputs": [
    {
     "name": "stdout",
     "output_type": "stream",
     "text": [
      "_len + y_len 70 1\n",
      "X.shape[0] >= X_y_len 665 71\n",
      "X.shape[0] 665\n",
      "X[random_start : random_start + X_len] X[498 : 568]\n",
      "y[random_start : random_start + X_y_len] y[498 : 569]\n"
     ]
    },
    {
     "data": {
      "text/plain": [
       "((70, 9), (1,))"
      ]
     },
     "execution_count": 32,
     "metadata": {},
     "output_type": "execute_result"
    }
   ],
   "source": [
    "# Test it\n",
    "(X_sample, y_sample) = subsample_sequence(X_train, y_train, X_len=n_obs, y_len=n_pred) # n_seq = 200, n_obs = 150\n",
    "X_sample.shape, y_sample.shape"
   ]
  },
  {
   "cell_type": "markdown",
   "id": "12cb0927-e52b-4d41-8dcb-6ca6f204a1f5",
   "metadata": {
    "tags": []
   },
   "source": [
    "##### **get_X_y(df, n_sequences, length)**\n",
    "\n",
    "function to generates an entire dataset of multiple subsamples suitable for RNN, that is, $(X, y)$ of shape:\n",
    "\n",
    "```python\n",
    "X.shape = (n_sequences, length, n_features)\n",
    "y.shape = (n_sequences, )\n",
    "```"
   ]
  },
  {
   "cell_type": "code",
   "execution_count": null,
   "id": "8d2b3715",
   "metadata": {},
   "outputs": [],
   "source": [
    "# no use\n",
    "def get_X_y(df, n_sequences, length, feature='VNM') -> tuple:\n",
    "    '''Return a list of samples (X, y)'''\n",
    "    X, y = [], []\n",
    "\n",
    "    for i in range(n_sequences):\n",
    "        (xi, yi) = split_subsample_sequence(df, length, feature=feature)\n",
    "        X.append(xi)\n",
    "        y.append(yi)\n",
    "        \n",
    "    X = np.array(X)\n",
    "    y = np.array(y)\n",
    "\n",
    "    return X, y"
   ]
  },
  {
   "cell_type": "markdown",
   "id": "9b15128c-961a-471e-b864-589455120c15",
   "metadata": {},
   "source": [
    "def get_X_y(X_train, y_train, X_test, y_test, X_len, y_len, n_seq_train, X_val=np.array(range(1)), y_val=np.array(range(1))) -> tuple:\n",
    "    '''Return a list of samples (X, y)'''\n",
    "    X_train_list = X_val_list = X_test_list = y_list = y_val = y_test = []\n",
    "    # train sequences splitting\n",
    "    for i in range(n_sequences):\n",
    "        # print('X_len', X_len, 'y_len', y_len)\n",
    "        (x_tainr_i, y_train_i) = subsample_sequence(X, y, X_len=X_len, y_len=y_len)\n",
    "        X_list.append(xi)\n",
    "        y_list.append(yi)\n",
    "    X_train_array = np.array(X_list)\n",
    "    y_train_array = np.array(y_list) \n",
    "\n",
    "    if X_val==np.array(range(1)) and y_val==np.array(range(1)):\n",
    "        # val sequences splitting (train / val /test)        \n",
    "        n_seq_val = n_seq_train // 5 # number of sequences in test set ?\n",
    "        n_seq_test = n_seq_train // 10 # number of sequences in test set ?\n",
    "        for i in range(n_s_train):\n",
    "            # print('X_len', X_len, 'y_len', y_len)\n",
    "            (xi, yi) = subsample_sequence(X, y, X_len=X_len, y_len=y_len)\n",
    "            X_list.append(xi)\n",
    "            y_list.append(yi)\n",
    "        X_val_array = np.array(X_list)\n",
    "        y_val_array = np.n_seq_test(y_list) \n",
    "        for i in range(n_seq_val):\n",
    "            # print('X_len', X_len, 'y_len', y_len)\n",
    "            (xi, yi) = subsample_sequence(X, y, X_len=X_len, y_len=y_len)\n",
    "            X_list.append(xi)\n",
    "            y_list.append(yi)\n",
    "        X_test_array = np.array(X_list)\n",
    "        y_test_array = np.array(y_list) \n",
    "        return X_train_array, y_train_array, X_val_array, y_val_array, X_test_array, y_test_array\n",
    "    else:\n",
    "        # test sequences splitting (train / test)\n",
    "        n_seq_test = n_seq_train // 5 # number of sequences in test set ?\n",
    "        for i in range(n_sequences):\n",
    "            # print('X_len', X_len, 'y_len', y_len)\n",
    "            (x_tainr_i, y_train_i) = subsample_sequence(X, y, X_len=X_len, y_len=y_len)\n",
    "            X_list.append(xi)\n",
    "            y_list.append(yi)\n",
    "        X_test_array = np.array(X_list)\n",
    "        y_test_array = np.array(y_list)        \n",
    "        return X_train_array, y_train_array, X_test_array, y_test_array"
   ]
  },
  {
   "cell_type": "code",
   "execution_count": null,
   "id": "3cde1f94-64b6-472d-8007-5a91ec085172",
   "metadata": {},
   "outputs": [],
   "source": [
    "def get_X_y_2(X, y, X_len, y_len, n_sequences) -> tuple:\n",
    "    '''Return a list of samples (X, y)'''\n",
    "    X_list, y_list = [], []\n",
    "\n",
    "    for i in range(n_sequences):\n",
    "        (xi, yi) = subsample_sequence(X, y, X_len=X_len, y_len=y_len)\n",
    "        X_list.append(xi)\n",
    "        y_list.append(yi)\n",
    "        \n",
    "    X = np.array(X_list)\n",
    "    y = np.array(y_list)\n",
    "\n",
    "    return X, y"
   ]
  },
  {
   "cell_type": "code",
   "execution_count": 33,
   "id": "a9096e3f-477e-45ae-a9a2-bdb1c8163ff9",
   "metadata": {},
   "outputs": [
    {
     "data": {
      "text/plain": [
       "(200, 40, 20)"
      ]
     },
     "execution_count": 33,
     "metadata": {},
     "output_type": "execute_result"
    }
   ],
   "source": [
    "n_seq_val = n_seq // 5 # number of sequences in test set ?\n",
    "n_seq_test = n_seq // 10 # number of sequences in test set ?\n",
    "n_seq, n_seq_val, n_seq_test"
   ]
  },
  {
   "cell_type": "code",
   "execution_count": 34,
   "id": "1682240c-818e-4e96-9a2a-8b596cd235bd",
   "metadata": {},
   "outputs": [
    {
     "data": {
      "text/plain": [
       "((96, 9), (96,))"
      ]
     },
     "execution_count": 34,
     "metadata": {},
     "output_type": "execute_result"
    }
   ],
   "source": [
    "X_test.shape, y_test.shape"
   ]
  },
  {
   "cell_type": "code",
   "execution_count": 35,
   "id": "c3af4e7e-d602-4fcd-a36a-942ab4dc0b72",
   "metadata": {
    "tags": []
   },
   "outputs": [
    {
     "ename": "NameError",
     "evalue": "name 'get_X_y_2' is not defined",
     "output_type": "error",
     "traceback": [
      "\u001b[0;31m---------------------------------------------------------------------------\u001b[0m",
      "\u001b[0;31mNameError\u001b[0m                                 Traceback (most recent call last)",
      "\u001b[0;32m/var/folders/hz/t9cq46wj2zl48zr3_0lc0rw80000gn/T/ipykernel_34623/1658742715.py\u001b[0m in \u001b[0;36m<module>\u001b[0;34m\u001b[0m\n\u001b[0;32m----> 1\u001b[0;31m \u001b[0mX_test\u001b[0m\u001b[0;34m,\u001b[0m \u001b[0my_test\u001b[0m \u001b[0;34m=\u001b[0m \u001b[0mget_X_y_2\u001b[0m\u001b[0;34m(\u001b[0m\u001b[0mX_test\u001b[0m\u001b[0;34m,\u001b[0m \u001b[0my_test\u001b[0m\u001b[0;34m,\u001b[0m \u001b[0mX_len\u001b[0m\u001b[0;34m=\u001b[0m\u001b[0mn_obs\u001b[0m\u001b[0;34m,\u001b[0m \u001b[0my_len\u001b[0m\u001b[0;34m=\u001b[0m\u001b[0mn_pred\u001b[0m\u001b[0;34m,\u001b[0m \u001b[0mn_sequences\u001b[0m\u001b[0;34m=\u001b[0m\u001b[0mn_seq_test\u001b[0m\u001b[0;34m)\u001b[0m\u001b[0;34m\u001b[0m\u001b[0;34m\u001b[0m\u001b[0m\n\u001b[0m\u001b[1;32m      2\u001b[0m \u001b[0mprint\u001b[0m\u001b[0;34m(\u001b[0m\u001b[0;34m'X_test.shape, y_test.shape, n_seq_test, n_obs, n_feat'\u001b[0m\u001b[0;34m)\u001b[0m\u001b[0;34m\u001b[0m\u001b[0;34m\u001b[0m\u001b[0m\n\u001b[1;32m      3\u001b[0m \u001b[0mX_test\u001b[0m\u001b[0;34m.\u001b[0m\u001b[0mshape\u001b[0m\u001b[0;34m,\u001b[0m \u001b[0my_test\u001b[0m\u001b[0;34m.\u001b[0m\u001b[0mshape\u001b[0m\u001b[0;34m,\u001b[0m \u001b[0mn_seq_test\u001b[0m\u001b[0;34m,\u001b[0m \u001b[0mn_obs\u001b[0m\u001b[0;34m,\u001b[0m \u001b[0mn_feat\u001b[0m\u001b[0;34m\u001b[0m\u001b[0;34m\u001b[0m\u001b[0m\n",
      "\u001b[0;31mNameError\u001b[0m: name 'get_X_y_2' is not defined"
     ]
    }
   ],
   "source": [
    "X_test, y_test = get_X_y_2(X_test, y_test, X_len=n_obs, y_len=n_pred, n_sequences=n_seq_test)\n",
    "print('X_test.shape, y_test.shape, n_seq_test, n_obs, n_feat')\n",
    "X_test.shape, y_test.shape, n_seq_test, n_obs, n_feat"
   ]
  },
  {
   "cell_type": "code",
   "execution_count": 36,
   "id": "497196a7-2d6a-4663-82a9-c8873c4ad0c8",
   "metadata": {
    "tags": []
   },
   "outputs": [
    {
     "ename": "NameError",
     "evalue": "name 'get_X_y_2' is not defined",
     "output_type": "error",
     "traceback": [
      "\u001b[0;31m---------------------------------------------------------------------------\u001b[0m",
      "\u001b[0;31mNameError\u001b[0m                                 Traceback (most recent call last)",
      "\u001b[0;32m/var/folders/hz/t9cq46wj2zl48zr3_0lc0rw80000gn/T/ipykernel_34623/3076378127.py\u001b[0m in \u001b[0;36m<module>\u001b[0;34m\u001b[0m\n\u001b[0;32m----> 1\u001b[0;31m \u001b[0mX_val\u001b[0m\u001b[0;34m,\u001b[0m \u001b[0my_val\u001b[0m \u001b[0;34m=\u001b[0m \u001b[0mget_X_y_2\u001b[0m\u001b[0;34m(\u001b[0m\u001b[0mX_val\u001b[0m\u001b[0;34m,\u001b[0m \u001b[0my_val\u001b[0m\u001b[0;34m,\u001b[0m \u001b[0mX_len\u001b[0m\u001b[0;34m=\u001b[0m\u001b[0mn_obs\u001b[0m\u001b[0;34m,\u001b[0m \u001b[0my_len\u001b[0m\u001b[0;34m=\u001b[0m\u001b[0mn_pred\u001b[0m\u001b[0;34m,\u001b[0m \u001b[0mn_sequences\u001b[0m\u001b[0;34m=\u001b[0m\u001b[0mn_seq_val\u001b[0m\u001b[0;34m)\u001b[0m\u001b[0;34m\u001b[0m\u001b[0;34m\u001b[0m\u001b[0m\n\u001b[0m\u001b[1;32m      2\u001b[0m \u001b[0mprint\u001b[0m\u001b[0;34m(\u001b[0m\u001b[0;34m'X_val.shape, y_val.shape, n_seq, n_seq_val, n_seq_test, n_obs, n_feat'\u001b[0m\u001b[0;34m)\u001b[0m\u001b[0;34m\u001b[0m\u001b[0;34m\u001b[0m\u001b[0m\n\u001b[1;32m      3\u001b[0m \u001b[0mX_val\u001b[0m\u001b[0;34m.\u001b[0m\u001b[0mshape\u001b[0m\u001b[0;34m,\u001b[0m \u001b[0my_val\u001b[0m\u001b[0;34m.\u001b[0m\u001b[0mshape\u001b[0m\u001b[0;34m,\u001b[0m \u001b[0mn_seq\u001b[0m\u001b[0;34m,\u001b[0m \u001b[0mn_seq_val\u001b[0m\u001b[0;34m,\u001b[0m \u001b[0mn_seq_test\u001b[0m\u001b[0;34m,\u001b[0m \u001b[0mn_obs\u001b[0m\u001b[0;34m,\u001b[0m \u001b[0mn_feat\u001b[0m\u001b[0;34m\u001b[0m\u001b[0;34m\u001b[0m\u001b[0m\n",
      "\u001b[0;31mNameError\u001b[0m: name 'get_X_y_2' is not defined"
     ]
    }
   ],
   "source": [
    "X_val, y_val = get_X_y_2(X_val, y_val, X_len=n_obs, y_len=n_pred, n_sequences=n_seq_val)\n",
    "print('X_val.shape, y_val.shape, n_seq, n_seq_val, n_seq_test, n_obs, n_feat')\n",
    "X_val.shape, y_val.shape, n_seq, n_seq_val, n_seq_test, n_obs, n_feat"
   ]
  },
  {
   "cell_type": "markdown",
   "id": "7a422c04-e3ef-4daf-b870-060c559ad2bb",
   "metadata": {},
   "source": [
    "X_train, y_train, X_val, y_val, X_test, y_test = train_test_set('United States', split_train=0.7, split_val=0.9)"
   ]
  },
  {
   "cell_type": "markdown",
   "id": "f46e2fa4-2cf1-4ad1-bd39-6b48cd2d478d",
   "metadata": {
    "tags": []
   },
   "source": [
    "X_train, y_train = get_X_y(X_train, y_train, X_test, y_test, X_len=n_obs, y_len=n_pred, n_seq_train=n_seq_test, X_val=X_val, y_val=y_val)\n",
    "X_train.shape, y_train.shape, n_seq, n_seq_val, n_seq_test, n_obs, n_feat"
   ]
  },
  {
   "cell_type": "code",
   "execution_count": null,
   "id": "7826c700-4273-4cd3-b7d7-4c3cca2b3582",
   "metadata": {
    "tags": []
   },
   "outputs": [],
   "source": [
    "X_train, y_train = get_X_y_2(X_train, y_train, X_len=n_obs, y_len=n_pred, n_sequences=n_seq)\n",
    "X_train.shape, y_train.shape, n_seq, n_obs, n_feat"
   ]
  },
  {
   "cell_type": "markdown",
   "id": "39f2a397-4b64-4358-8355-2a243e990afa",
   "metadata": {
    "tags": []
   },
   "source": [
    "X_val, y_val = get_X_y_2(X_val, y_val, X_len=n_obs, y_len=n_pred, n_sequences=n_seq_val)\n",
    "X_val.shape, y_val.shape, n_seq_val, n_obs, n_feat"
   ]
  },
  {
   "cell_type": "code",
   "execution_count": null,
   "id": "ec27cfac",
   "metadata": {},
   "outputs": [],
   "source": [
    "np.ndim(X_train), np.ndim(y_train), np.ndim(X_val), np.ndim(y_val), np.ndim(X_test), np.ndim(y_test)"
   ]
  },
  {
   "cell_type": "code",
   "execution_count": null,
   "id": "661159e6-4eb3-48cc-b11d-fff40fb81a26",
   "metadata": {
    "tags": []
   },
   "outputs": [],
   "source": [
    "# Alberto train set\n",
    "# 3. Training\n",
    "def train_rnn_model(model, patience=2, epochs=200):\n",
    "    es = EarlyStopping(monitor = 'val_loss',\n",
    "                    patience = patience,\n",
    "                    verbose = 1,\n",
    "                    restore_best_weights = True)\n",
    "    # The fit\n",
    "    history =  model.fit(X_train, y_train, \n",
    "            validation_split=0.1, # Auto split for validation data\n",
    "                ## validation_data = (X_val, y_val), # To be created manually if needed\n",
    "            batch_size = 16,\n",
    "            epochs = epochs,\n",
    "            callbacks = [es],\n",
    "            verbose=1)\n",
    "    return history\n",
    "\n",
    "\n",
    "# print(type(overfit_es), overfit_es)\n",
    "# if overfit_es:\n",
    "#     print(\"early stopping\")\n",
    "#     history = train_rnn_model(patience=overfit_es)\n",
    "# else:\n",
    "# print(\"No early stopping\")\n",
    "# history = train_rnn_model()"
   ]
  },
  {
   "cell_type": "markdown",
   "id": "efe229ed-38be-485e-9314-5a3c04da8847",
   "metadata": {
    "tags": []
   },
   "source": [
    "##### How to split sequences?"
   ]
  },
  {
   "cell_type": "markdown",
   "id": "c49128bf-f5e8-4319-8635-fa1f63c29ceb",
   "metadata": {},
   "source": [
    "\n",
    "\n",
    "- randomly or\n",
    "\n",
    "- manually"
   ]
  },
  {
   "cell_type": "markdown",
   "id": "ad867c99-9dd9-4dc5-9cda-de741bf57ca2",
   "metadata": {
    "tags": []
   },
   "source": [
    "##### **train_rnn_model(model, patience=2, epochs=200):**\n",
    "\n",
    "function to generates an entire dataset of multiple subsamples suitable for RNN, that is, $(X, y)$ of shape:\n",
    "\n",
    "```python\n",
    "X.shape = (n_sequences, length, n_features)\n",
    "y.shape = (n_sequences, )\n",
    "```"
   ]
  },
  {
   "cell_type": "markdown",
   "id": "61ece011-197d-439e-b405-ee2370c9773d",
   "metadata": {
    "tags": []
   },
   "source": [
    "### Model #4 Training"
   ]
  },
  {
   "cell_type": "code",
   "execution_count": null,
   "id": "3dc24c32-f615-4696-b4e0-01e7d7281ab7",
   "metadata": {
    "tags": []
   },
   "outputs": [],
   "source": [
    "# 3. Training\n",
    "def train_rnn_model(model, patience=20, epochs=200):\n",
    "    \"\"\" function that train a RNN model with hyperparameters:\n",
    "    - patience by default 2 to early stop\n",
    "    - epochs by default 200 to train over several epochs\n",
    "    - valisation data by default (X_val, y_val)=(0, 0) in case of auto split\n",
    "    \"\"\"\n",
    "    es = EarlyStopping(monitor = 'val_loss',\n",
    "                    patience = patience,\n",
    "                    verbose = 0,\n",
    "                    restore_best_weights = True)\n",
    "    # The fit\n",
    "    history =  model.fit(X_train,\n",
    "            y_train, \n",
    "             # Auto split for validation data\n",
    "            # [print(f'validation_data=(X_val, y_val),') if (X_val!=0 or y_val!=0) else print(f'validation_split=0.1,')],\n",
    "            validation_data=(X_val, y_val),\n",
    "            batch_size = 16,\n",
    "            epochs = epochs,\n",
    "            callbacks = [es],\n",
    "            verbose=1)\n",
    "    return history\n",
    "\n",
    "\n",
    "# print(type(overfit_es), overfit_es)\n",
    "# if overfit_es:\n",
    "#     print(\"early stopping\")\n",
    "#     history = train_rnn_model(patience=overfit_es)\n",
    "# else:\n",
    "# print(\"No early stopping\")\n",
    "# history = train_rnn_model()"
   ]
  },
  {
   "cell_type": "code",
   "execution_count": null,
   "id": "f844bf09",
   "metadata": {},
   "outputs": [],
   "source": [
    "X_val.shape"
   ]
  },
  {
   "cell_type": "code",
   "execution_count": null,
   "id": "3a7bd6eb",
   "metadata": {},
   "outputs": [],
   "source": [
    "# Alberto model #4 test \n",
    "# Normalization layer not necessary as X_train already train\n",
    "normalizer = Normalization()  # Instantiate a \"normalizer\" layer\n",
    "normalizer.adapt(X_train) # \"Fit\" it on the train set\n",
    "# 1. The Architecture\n",
    "\"\"\"   - 3rd model layers architecture (simple -> complex) (less data -> more data) (print(loss) function check lecture)\n",
    "> LSTM\n",
    "\"\"\"\n",
    "rnn_model_4 = Sequential()\n",
    "# rnn_model_4.add(normalizer) # Using the Normalization layer to standardize the datapoints during the forward pass\n",
    "# Input len(train) (input_shape=(?,?))\n",
    "rnn_model_4.add(LSTM(units=20, activation='relu', input_shape=(X_train.shape[1], X_train.shape[2])))  ## , input_shape=(?,?))) without a Normalizer layer\n",
    "# output return sequences = True\n",
    "rnn_model_4.add(Dense(10, activation = 'relu')) ## add 1 or more 'relu' layers\n",
    "# Output 10 only, no more RNN just dropout()\n",
    "# rnn_model_3.add(layers.Dropout(0.3)) ## if RNN model over-fit\n",
    "rnn_model_4.add(Dense(n_pred, activation = 'linear'))\n",
    "#ValueError: Input 0 of layer \"lstm_1\" is incompatible with the layer:\n",
    "#     >>> expected ndim=3, found ndim=2. Full shape received: (None, 20)#\n",
    "# 2. Compiling with 'rmsprop' rather than 'adam' (recommended)\n",
    "optimizer = RMSprop(\n",
    "                learning_rate=0.001,\n",
    "                rho=0.9,\n",
    "                momentum=0.0,\n",
    "                epsilon=1e-07,\n",
    "                centered=False\n",
    "            )\n",
    "rnn_model_4.compile(loss='mse',\n",
    "              optimizer= optimizer, # optimizer='rmsprop'    <- adapt learning rate\n",
    "                 metrics='mape')  # Recommended optimizer for RNNs\n",
    "rnn_model_4.summary()\n",
    "\n"
   ]
  },
  {
   "cell_type": "code",
   "execution_count": null,
   "id": "e8cd997f",
   "metadata": {},
   "outputs": [],
   "source": [
    "# 3. Training\n",
    "history = train_rnn_model(model=rnn_model_4, epochs=200, patience=3)\n",
    "plt.plot(history.history['mape'])\n",
    "plt.plot(history.history['val_mape'])\n",
    "plt.show();\n",
    "\n",
    "# 4. Evaluating\n",
    "# The prediction (one per sequence/city)\n",
    "# y_pred = rnn_model.predict(X_test) \n",
    "# print(y_pred.shape)\n",
    "# Distribution of the predictions\n",
    "# pd.DataFrame(y_pred).mean().sort_values(ascending=False)"
   ]
  },
  {
   "cell_type": "markdown",
   "id": "0d5f87f4-a522-43df-9486-ac6e4930ae60",
   "metadata": {},
   "source": [
    "# Alberto model #4 End Of the Road..."
   ]
  },
  {
   "cell_type": "code",
   "execution_count": null,
   "id": "8884eb78",
   "metadata": {
    "tags": []
   },
   "outputs": [],
   "source": [
    "# 3. Training\n",
    "def train_rnn_model(model, patience=20, epochs=200):\n",
    "    es = EarlyStopping(monitor = 'val_loss',\n",
    "                    patience = patience,\n",
    "                    verbose = 0,\n",
    "                    restore_best_weights = True)\n",
    "    # The fit\n",
    "    history =  model.fit(X_train,\n",
    "            y_train, \n",
    "            validation_split=0.1, # Auto split for validation data\n",
    "                ## validation_data = (X_val, y_val), # To be created manually if needed\n",
    "            batch_size = 16,\n",
    "            epochs = epochs,\n",
    "            callbacks = [es],\n",
    "            verbose=1)\n",
    "    return history\n",
    "\n",
    "\n",
    "# print(type(overfit_es), overfit_es)\n",
    "# if overfit_es:\n",
    "#     print(\"early stopping\")\n",
    "#     history = train_rnn_model(patience=overfit_es)\n",
    "# else:\n",
    "# print(\"No early stopping\")\n",
    "# history = train_rnn_model()"
   ]
  },
  {
   "cell_type": "code",
   "execution_count": null,
   "id": "ce50f5c4-faa0-4355-a1fd-a28b28062623",
   "metadata": {},
   "outputs": [],
   "source": [
    "# 0. The Normalization Layer\n",
    "normalizer = Normalization()  # Instantiate a \"normalizer\" layer\n",
    "normalizer.adapt(X_train) # \"Fit\" it on the train set"
   ]
  },
  {
   "cell_type": "markdown",
   "id": "cd1a652e-f059-4adf-bf05-62b7120a24d2",
   "metadata": {
    "tags": []
   },
   "source": [
    "### RNN model #3 architecture "
   ]
  },
  {
   "cell_type": "code",
   "execution_count": null,
   "id": "50d57380-7866-4ec5-8e40-b86653234646",
   "metadata": {},
   "outputs": [],
   "source": [
    "# 1. The Architecture\n",
    "\"\"\"   - 3rd model layers architecture (simple -> complex) (less data -> more data) (print(loss) function check lecture)\n",
    "> LSTM\n",
    "\"\"\"\n",
    "rnn_model_3 = Sequential()\n",
    "rnn_model_3.add(normalizer) # Using the Normalization layer to standardize the datapoints during the forward pass\n",
    "# Input len(train) (input_shape=(?,?))\n",
    "rnn_model_3.add(LSTM(units=30, activation='tanh'))  ## , input_shape=(?,?))) without a Normalizer layer\n",
    "# output return sequences = True\n",
    "rnn_model_3.add(Dense(10, activation = 'relu')) ## add 1 or more 'relu' layers\n",
    "# Output 10 only, no more RNN just dropout()\n",
    "# rnn_model_3.add(layers.Dropout(0.3)) ## if RNN model over-fit\n",
    "rnn_model_3.add(Dense(n_pred, activation = 'linear'))"
   ]
  },
  {
   "cell_type": "markdown",
   "id": "1e901218-eb1c-4d85-b40e-9beda6c3c548",
   "metadata": {
    "jp-MarkdownHeadingCollapsed": true,
    "tags": []
   },
   "source": [
    "### Model #1 evaluating"
   ]
  },
  {
   "cell_type": "code",
   "execution_count": null,
   "id": "db1267f1-8a86-4f8b-82f5-01478bc0d350",
   "metadata": {
    "tags": []
   },
   "outputs": [],
   "source": [
    "# 4. Evaluating\n",
    "# The prediction (one per sequence/city)\n",
    "y_pred = rnn_model.predict(X_test) \n",
    "print(y_pred.shape)\n",
    "# Distribution of the predictions\n",
    "pd.DataFrame(y_pred).mean().sort_values(ascending=False)"
   ]
  },
  {
   "cell_type": "markdown",
   "id": "06c615d0-d83c-4b7d-b076-b914179fb0ac",
   "metadata": {
    "tags": []
   },
   "source": [
    "### Time Series Forecasting with model #1"
   ]
  },
  {
   "cell_type": "markdown",
   "id": "e8cbe63f-114d-4717-a404-0aa7b96de1b9",
   "metadata": {
    "tags": []
   },
   "source": [
    "### Compile model #3 with 'rmsprop'"
   ]
  },
  {
   "cell_type": "code",
   "execution_count": null,
   "id": "9524eb0a-0117-4006-af85-9f8235e96cd1",
   "metadata": {},
   "outputs": [],
   "source": [
    "# 2. Compiling with 'rmsprop' rather than 'adam' (recommended)\n",
    "optimizer = RMSprop(\n",
    "                learning_rate=0.001,\n",
    "                rho=0.9,\n",
    "                momentum=0.0,\n",
    "                epsilon=1e-07,\n",
    "                centered=False\n",
    "            )\n",
    "rnn_model_3.compile(loss='mse',\n",
    "              optimizer= optimizer, # optimizer='rmsprop'    <- adapt learning rate\n",
    "                 metrics='mape')  # Recommended optimizer for RNNs\n",
    "rnn_model_3.summary()"
   ]
  },
  {
   "cell_type": "code",
   "execution_count": null,
   "id": "8a685f57-01a6-4405-8b38-0cc3c7fa5489",
   "metadata": {},
   "outputs": [],
   "source": [
    "rnn_model.summary()"
   ]
  },
  {
   "cell_type": "markdown",
   "id": "739df8e1-5a54-4634-a074-e644a6a796a4",
   "metadata": {
    "tags": []
   },
   "source": [
    "### Train model #2"
   ]
  },
  {
   "cell_type": "code",
   "execution_count": null,
   "id": "571254c8",
   "metadata": {},
   "outputs": [],
   "source": [
    "history = train_rnn_model(rnn_model, patience=5, epochs=200)\n",
    "plt.plot(history.history['mape'])\n",
    "plt.plot(history.history['val_mape'])\n",
    "plt.show();\n",
    "type(history)"
   ]
  },
  {
   "cell_type": "code",
   "execution_count": null,
   "id": "d5d3333e",
   "metadata": {},
   "outputs": [],
   "source": [
    "trai### Train model #1n_series = [50, 150, 200, 300, 400]\n",
    "overfit_es =   [2, 6, 6, 5, 6 ]\n",
    "print('type(overfit_es), overfit_es', type(overfit_es), overfit_es)\n",
    "# if overfit_es:\n",
    "#     print(\"early stopping\")\n",
    "#     history = train_rnn_model(patience=overfit_es)\n",
    "# else:\n",
    "# print(\"No early stopping\")\n",
    "for i in range(len(train_series)):\n",
    "    history = train_rnn_model(model=rnn_model_2, epochs=train_series[i], patience=overfit_es[i])\n",
    "    plt.plot(history.history['mape'])\n",
    "    plt.plot(history.history['val_mape'])\n",
    "    plt.show();"
   ]
  },
  {
   "cell_type": "markdown",
   "id": "a1950356",
   "metadata": {
    "tags": []
   },
   "source": [
    "### RNN model #3 architecture "
   ]
  },
  {
   "cell_type": "markdown",
   "id": "2b325a69",
   "metadata": {},
   "source": [
    "#### 🚀 The **LSTM (= Long Short Term Memory)** with their ability to *avoid the vanishing gradient problem*, should be preferred over a SimpleRNN."
   ]
  },
  {
   "cell_type": "code",
   "execution_count": null,
   "id": "a2ad1973",
   "metadata": {},
   "outputs": [],
   "source": [
    "# 1. The Architecture\n",
    "\"\"\"   - 3rd model layers architecture (simple -> complex) (less data -> more data) (print(loss) function check lecture)\n",
    "> LSTM\n",
    "\"\"\"\n",
    "rnn_model_3 = Sequential()\n",
    "rnn_model_3.add(normalizer) # Using the Normalization layer to standardize the datapoints during the forward pass\n",
    "# Input len(train) (input_shape=(?,?))\n",
    "rnn_model_3.add(LSTM(units=30, activation='tanh'))  ## , input_shape=(?,?))) without a Normalizer layer\n",
    "# output return sequences = True\n",
    "rnn_model_3.add(Dense(10, activation = 'relu')) ## add 1 or more 'relu' layers\n",
    "# Output 10 only, no more RNN just dropout()\n",
    "# rnn_model_3.add(layers.Dropout(0.3)) ## if RNN model over-fit\n",
    "rnn_model_3.add(Dense(n_pred, activation = 'linear'))"
   ]
  },
  {
   "cell_type": "markdown",
   "id": "83ae1226",
   "metadata": {
    "tags": []
   },
   "source": [
    "### Compile model #3 with 'rmsprop'"
   ]
  },
  {
   "cell_type": "code",
   "execution_count": null,
   "id": "47f878a5",
   "metadata": {},
   "outputs": [],
   "source": [
    "# 2. Compiling with 'rmsprop' rather than 'adam' (recommended)\n",
    "optimizer = RMSprop(\n",
    "                learning_rate=0.001,\n",
    "                rho=0.9,\n",
    "                momentum=0.0,\n",
    "                epsilon=1e-07,\n",
    "                centered=False\n",
    "            )\n",
    "rnn_model_3.compile(loss='mse',\n",
    "              optimizer= optimizer, # optimizer='rmsprop'    <- adapt learning rate\n",
    "                 metrics='mape')  # Recommended optimizer for RNNs\n",
    "rnn_model_3.summary()"
   ]
  },
  {
   "cell_type": "markdown",
   "id": "0f1470a9",
   "metadata": {
    "tags": []
   },
   "source": [
    "### Train model #2"
   ]
  },
  {
   "cell_type": "markdown",
   "id": "1b1673f1",
   "metadata": {
    "tags": []
   },
   "source": [
    "### RNN model #3 architecture "
   ]
  },
  {
   "cell_type": "code",
   "execution_count": null,
   "id": "92739ee1",
   "metadata": {},
   "outputs": [],
   "source": [
    "# 1. The Architecture\n",
    "\"\"\"   - 3rd model layers architecture (simple -> complex) (less data -> more data) (print(loss) function check lecture)\n",
    "> LSTM\n",
    "\"\"\"\n",
    "rnn_model_3 = Sequential()\n",
    "rnn_model_3.add(normalizer) # Using the Normalization layer to standardize the datapoints during the forward pass\n",
    "# Input len(train) (input_shape=(?,?))\n",
    "rnn_model_3.add(LSTM(units=30, activation='tanh'))  ## , input_shape=(?,?))) without a Normalizer layer\n",
    "# output return sequences = True\n",
    "rnn_model_3.add(Dense(10, activation = 'relu')) ## add 1 or more 'relu' layers\n",
    "# Output 10 only, no more RNN just dropout()\n",
    "# rnn_model_3.add(layers.Dropout(0.3)) ## if RNN model over-fit\n",
    "rnn_model_3.add(Dense(n_pred, activation = 'linear'))"
   ]
  },
  {
   "cell_type": "markdown",
   "id": "50c972bc",
   "metadata": {
    "tags": []
   },
   "source": [
    "### Compile model #3 with 'rmsprop'"
   ]
  },
  {
   "cell_type": "code",
   "execution_count": null,
   "id": "58f0a9e2",
   "metadata": {},
   "outputs": [],
   "source": [
    "# 2. Compiling with 'rmsprop' rather than 'adam' (recommended)\n",
    "optimizer = RMSprop(\n",
    "                learning_rate=0.001,\n",
    "                rho=0.9,\n",
    "                momentum=0.0,\n",
    "                epsilon=1e-07,\n",
    "                centered=False\n",
    "            )\n",
    "rnn_model_3.compile(loss='mse',\n",
    "              optimizer= optimizer, # optimizer='rmsprop'    <- adapt learning rate\n",
    "                 metrics='mape')  # Recommended optimizer for RNNs\n",
    "rnn_model_3.summary()"
   ]
  },
  {
   "cell_type": "markdown",
   "id": "fe8cc51a-a8a3-4a61-9c9e-96317f159d50",
   "metadata": {
    "tags": []
   },
   "source": [
    "### Train model #3"
   ]
  },
  {
   "cell_type": "code",
   "execution_count": null,
   "id": "8ecee49a",
   "metadata": {
    "tags": []
   },
   "outputs": [],
   "source": [
    "# 3. Training\n",
    "from typing import overload\n",
    "\n",
    "def train_rnn_model(rnn_model_3, patience=2, epochs=200, (X_val, y_val)=(0, 0)):\n",
    "    es = EarlyStopping(monitor = 'val_loss',\n",
    "                    patience = patience,\n",
    "                    verbose = 0,\n",
    "                    restore_best_weights = True)\n",
    "    # The fit\n",
    "    history =  rnn_model_3.fit(X_train, y_train, \n",
    "            validation_split=0.1, # Auto split for validation data\n",
    "                ## validation_data = (X_val, y_val), # To be created manually if needed\n",
    "            batch_size = 16,\n",
    "            epochs = epochs,\n",
    "            callbacks = [es],\n",
    "            verbose=1)\n",
    "    return history\n",
    "\n",
    "\n",
    "print(type(overfit_es), overfit_es)\n",
    "# if overfit_es:\n",
    "#     print(\"early stopping\")\n",
    "#     history = train_rnn_model(patience=overfit_es)\n",
    "# else:\n",
    "# print(\"No early stopping\")\n",
    "# history = train_rnn_model()"
   ]
  },
  {
   "cell_type": "markdown",
   "id": "b923f50a",
   "metadata": {
    "tags": []
   },
   "source": [
    "### Train model #2"
   ]
  },
  {
   "cell_type": "code",
   "execution_count": null,
   "id": "5ae6e92e",
   "metadata": {},
   "outputs": [],
   "source": [
    "# min(history.history['mape'])\n",
    "\n",
    "# print(\"adjust early stopping\")\n",
    "# overfit_es = [d[0]+1 for d in enumerate(history.history['mape']) if d[1] == min(history.history['mape'])][0]\n",
    "# overfit_es"
   ]
  },
  {
   "cell_type": "code",
   "execution_count": null,
   "id": "2c43e359-c428-43f9-9369-f0804a5acdac",
   "metadata": {
    "tags": []
   },
   "outputs": [],
   "source": [
    "min(history.history['mape']), max(history.history['mape']), history.history['mape'] # blue line"
   ]
  },
  {
   "cell_type": "code",
   "execution_count": null,
   "id": "b13f6eb0-e734-48c4-a455-49949ea62a75",
   "metadata": {
    "tags": []
   },
   "outputs": [],
   "source": [
    "max(history.history['val_mape']), history.history['val_mape'] # orange line"
   ]
  },
  {
   "cell_type": "markdown",
   "id": "daba3da5-6613-418e-9919-2f7d50e0078e",
   "metadata": {
    "jp-MarkdownHeadingCollapsed": true,
    "tags": []
   },
   "source": [
    "### Model #1 evaluating"
   ]
  },
  {
   "cell_type": "code",
   "execution_count": null,
   "id": "c6ed1ac5-3b8a-4049-abe8-9431de2121c7",
   "metadata": {
    "tags": []
   },
   "outputs": [],
   "source": [
    "# 4. Evaluating\n",
    "# The prediction (one per sequence/city)\n",
    "y_pred = rnn_model.predict(X_test) \n",
    "print(y_pred.shape)\n",
    "# Distribution of the predictions\n",
    "pd.DataFrame(y_pred).mean().sort_values(ascending=False)"
   ]
  },
  {
   "cell_type": "markdown",
   "id": "32232f29-fc87-49fc-9f6f-11dcb25a9f92",
   "metadata": {
    "tags": []
   },
   "source": [
    "### Time Series Forecasting with model #1"
   ]
  },
  {
   "cell_type": "code",
   "execution_count": null,
   "id": "13a68310-d512-4825-a2c4-21cb68e5f687",
   "metadata": {},
   "outputs": [],
   "source": [
    "# Check your code below\n",
    "assert y_pred.shape == (n_seq_test, n_pred)\n",
    "# Distribution of the real values y_train\n",
    "pd.DataFrame(y_train).mean().sort_values(ascending=False)"
   ]
  },
  {
   "cell_type": "code",
   "execution_count": null,
   "id": "2c8cad73-73e8-4211-908a-3789b7a03497",
   "metadata": {},
   "outputs": [],
   "source": [
    "# Distribution of the real values y_train\n",
    "pd.DataFrame(y_train).mean().sort_values(ascending=False)"
   ]
  },
  {
   "cell_type": "code",
   "execution_count": null,
   "id": "0cd17d07",
   "metadata": {},
   "outputs": [],
   "source": [
    "trai### Train model #1n_series = [50, 150, 200, 300, 400]\n",
    "overfit_es =   [2, 6, 6, 5, 6 ]\n",
    "print('type(overfit_es), overfit_es', type(overfit_es), overfit_es)\n",
    "# if overfit_es:\n",
    "#     print(\"early stopping\")\n",
    "#     history = train_rnn_model(patience=overfit_es)\n",
    "# else:\n",
    "# print(\"No early stopping\")\n",
    "for i in range(len(train_series)):\n",
    "    history = train_rnn_model(model=rnn_model_2, epochs=train_series[i], patience=overfit_es[i])\n",
    "    plt.plot(history.history['mape'])\n",
    "    plt.plot(history.history['val_mape'])\n",
    "    plt.show();"
   ]
  },
  {
   "cell_type": "code",
   "execution_count": null,
   "id": "8f576952-8105-43b3-9d97-39d19277c207",
   "metadata": {
    "tags": []
   },
   "outputs": [],
   "source": []
  },
  {
   "cell_type": "code",
   "execution_count": null,
   "id": "39c6cdfe",
   "metadata": {},
   "outputs": [],
   "source": []
  },
  {
   "cell_type": "code",
   "execution_count": null,
   "id": "7d3557ab-55e0-4ae2-a289-212d608dc237",
   "metadata": {},
   "outputs": [],
   "source": [
    "def train_rnn(X_val=0, y_val=0):\n",
    "    [print(f'validation_data=(X_val, y_val),') if (X_val!=0 or y_val!=0) else print(f'validation_split=0.1,')]\n",
    "    return True\n",
    "\n",
    "train_rnn(),train_rnn((1),(0))\n",
    "    "
   ]
  }
 ],
 "metadata": {
  "kernelspec": {
   "display_name": "Python 3.8.12 64-bit ('shims')",
   "language": "python",
   "name": "python3"
  },
  "language_info": {
   "codemirror_mode": {
    "name": "ipython",
    "version": 3
   },
   "file_extension": ".py",
   "mimetype": "text/x-python",
   "name": "python",
   "nbconvert_exporter": "python",
   "pygments_lexer": "ipython3",
   "version": "3.8.12"
  },
  "toc": {
   "base_numbering": 1,
   "nav_menu": {},
   "number_sections": true,
   "sideBar": true,
   "skip_h1_title": false,
   "title_cell": "Table of Contents",
   "title_sidebar": "Contents",
   "toc_cell": false,
   "toc_position": {},
   "toc_section_display": true,
   "toc_window_display": false
  },
  "vscode": {
   "interpreter": {
    "hash": "9c7d4b3da1e137aeabc4fd6b55dede4bb1c85dbdc50880a4fde3d2604903e3dc"
   }
  }
 },
 "nbformat": 4,
 "nbformat_minor": 5
}
