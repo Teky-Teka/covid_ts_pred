{
 "cells": [
  {
   "cell_type": "markdown",
   "metadata": {},
   "source": [
    "# COVID-19 Mortality Prediction with Support Vector Regression Model"
   ]
  },
  {
   "cell_type": "markdown",
   "metadata": {},
   "source": [
    "### Dependencies importing"
   ]
  },
  {
   "cell_type": "code",
   "execution_count": 85,
   "metadata": {},
   "outputs": [
    {
     "name": "stdout",
     "output_type": "stream",
     "text": [
      "The autoreload extension is already loaded. To reload it, use:\n",
      "  %reload_ext autoreload\n"
     ]
    }
   ],
   "source": [
    "# Auto reload imported module every time a jupyter cell is executed\n",
    "%load_ext autoreload\n",
    "%autoreload 2\n",
    "### TBE -> To Be Engineering...\n",
    "# covid_ts_pred package\n",
    "from covid_ts_pred.c_eng.engineering import *"
   ]
  },
  {
   "cell_type": "code",
   "execution_count": 86,
   "metadata": {},
   "outputs": [],
   "source": [
    "# python for data science\n",
    "import pandas as pd\n",
    "import numpy as np\n",
    "import itertools\n",
    "\n",
    "# dataviz\n",
    "import matplotlib.pyplot as plt\n",
    "%matplotlib inline\n",
    "\n",
    "import plotly.express as px\n",
    "import plotly.graph_objects as go\n",
    "from plotly.subplots import make_subplots\n",
    "\n",
    "from statsmodels.graphics.tsaplots import plot_acf, plot_pacf\n",
    "\n",
    "import seaborn as sns "
   ]
  },
  {
   "cell_type": "code",
   "execution_count": 87,
   "metadata": {},
   "outputs": [],
   "source": [
    " #sklearn preproc\n",
    "\n",
    "from sklearn.preprocessing import MinMaxScaler\n",
    "from sklearn.pipeline import Pipeline, make_pipeline\n",
    "from sklearn.compose import ColumnTransformer, make_column_transformer, make_column_selector\n",
    "from sklearn.impute import SimpleImputer, KNNImputer\n",
    "from sklearn.preprocessing import RobustScaler, OneHotEncoder, OrdinalEncoder\n",
    "from sklearn.metrics import make_scorer\n",
    "from sklearn.model_selection import RandomizedSearchCV\n",
    "from sklearn.svm import SVR\n",
    "from sklearn.model_selection import GridSearchCV, RandomizedSearchCV\n",
    "from sklearn.metrics import mean_absolute_percentage_error\n",
    "\n",
    "import pickle"
   ]
  },
  {
   "cell_type": "code",
   "execution_count": 114,
   "metadata": {},
   "outputs": [],
   "source": [
    "### TBE done!\n",
    "country='France'"
   ]
  },
  {
   "cell_type": "code",
   "execution_count": 115,
   "metadata": {},
   "outputs": [],
   "source": [
    "data_index = pd.read_csv(get_csv_out_path(f'index_{country}.csv'))"
   ]
  },
  {
   "cell_type": "code",
   "execution_count": 90,
   "metadata": {},
   "outputs": [
    {
     "data": {
      "text/html": [
       "<div>\n",
       "<style scoped>\n",
       "    .dataframe tbody tr th:only-of-type {\n",
       "        vertical-align: middle;\n",
       "    }\n",
       "\n",
       "    .dataframe tbody tr th {\n",
       "        vertical-align: top;\n",
       "    }\n",
       "\n",
       "    .dataframe thead th {\n",
       "        text-align: right;\n",
       "    }\n",
       "</style>\n",
       "<table border=\"1\" class=\"dataframe\">\n",
       "  <thead>\n",
       "    <tr style=\"text-align: right;\">\n",
       "      <th></th>\n",
       "      <th>date</th>\n",
       "      <th>containment_and_health</th>\n",
       "      <th>stringency</th>\n",
       "      <th>economics_sup</th>\n",
       "      <th>total_cases</th>\n",
       "      <th>new_cases</th>\n",
       "      <th>total_deaths</th>\n",
       "      <th>new_deaths</th>\n",
       "      <th>gov_response</th>\n",
       "      <th>total_vaccinations</th>\n",
       "      <th>people_vaccinated</th>\n",
       "      <th>people_fully_vaccinated</th>\n",
       "      <th>total_boosters</th>\n",
       "    </tr>\n",
       "  </thead>\n",
       "  <tbody>\n",
       "    <tr>\n",
       "      <th>0</th>\n",
       "      <td>2020-02-15</td>\n",
       "      <td>0.026779</td>\n",
       "      <td>0.0124</td>\n",
       "      <td>0.0</td>\n",
       "      <td>12.0</td>\n",
       "      <td>1.0</td>\n",
       "      <td>1.0</td>\n",
       "      <td>1.0</td>\n",
       "      <td>0.023775</td>\n",
       "      <td>0.0</td>\n",
       "      <td>0.0</td>\n",
       "      <td>0.0</td>\n",
       "      <td>0.0</td>\n",
       "    </tr>\n",
       "    <tr>\n",
       "      <th>1</th>\n",
       "      <td>2020-02-16</td>\n",
       "      <td>0.026779</td>\n",
       "      <td>0.0124</td>\n",
       "      <td>0.0</td>\n",
       "      <td>12.0</td>\n",
       "      <td>0.0</td>\n",
       "      <td>1.0</td>\n",
       "      <td>0.0</td>\n",
       "      <td>0.023775</td>\n",
       "      <td>0.0</td>\n",
       "      <td>0.0</td>\n",
       "      <td>0.0</td>\n",
       "      <td>0.0</td>\n",
       "    </tr>\n",
       "    <tr>\n",
       "      <th>2</th>\n",
       "      <td>2020-02-17</td>\n",
       "      <td>0.026779</td>\n",
       "      <td>0.0124</td>\n",
       "      <td>0.0</td>\n",
       "      <td>12.0</td>\n",
       "      <td>0.0</td>\n",
       "      <td>1.0</td>\n",
       "      <td>0.0</td>\n",
       "      <td>0.023775</td>\n",
       "      <td>0.0</td>\n",
       "      <td>0.0</td>\n",
       "      <td>0.0</td>\n",
       "      <td>0.0</td>\n",
       "    </tr>\n",
       "    <tr>\n",
       "      <th>3</th>\n",
       "      <td>2020-02-18</td>\n",
       "      <td>0.026779</td>\n",
       "      <td>0.0124</td>\n",
       "      <td>0.0</td>\n",
       "      <td>12.0</td>\n",
       "      <td>0.0</td>\n",
       "      <td>1.0</td>\n",
       "      <td>0.0</td>\n",
       "      <td>0.023775</td>\n",
       "      <td>0.0</td>\n",
       "      <td>0.0</td>\n",
       "      <td>0.0</td>\n",
       "      <td>0.0</td>\n",
       "    </tr>\n",
       "    <tr>\n",
       "      <th>4</th>\n",
       "      <td>2020-02-19</td>\n",
       "      <td>0.026779</td>\n",
       "      <td>0.0124</td>\n",
       "      <td>0.0</td>\n",
       "      <td>12.0</td>\n",
       "      <td>0.0</td>\n",
       "      <td>1.0</td>\n",
       "      <td>0.0</td>\n",
       "      <td>0.023775</td>\n",
       "      <td>0.0</td>\n",
       "      <td>0.0</td>\n",
       "      <td>0.0</td>\n",
       "      <td>0.0</td>\n",
       "    </tr>\n",
       "  </tbody>\n",
       "</table>\n",
       "</div>"
      ],
      "text/plain": [
       "         date  containment_and_health  stringency  economics_sup  total_cases  \\\n",
       "0  2020-02-15                0.026779      0.0124            0.0         12.0   \n",
       "1  2020-02-16                0.026779      0.0124            0.0         12.0   \n",
       "2  2020-02-17                0.026779      0.0124            0.0         12.0   \n",
       "3  2020-02-18                0.026779      0.0124            0.0         12.0   \n",
       "4  2020-02-19                0.026779      0.0124            0.0         12.0   \n",
       "\n",
       "   new_cases  total_deaths  new_deaths  gov_response  total_vaccinations  \\\n",
       "0        1.0           1.0         1.0      0.023775                 0.0   \n",
       "1        0.0           1.0         0.0      0.023775                 0.0   \n",
       "2        0.0           1.0         0.0      0.023775                 0.0   \n",
       "3        0.0           1.0         0.0      0.023775                 0.0   \n",
       "4        0.0           1.0         0.0      0.023775                 0.0   \n",
       "\n",
       "   people_vaccinated  people_fully_vaccinated  total_boosters  \n",
       "0                0.0                      0.0             0.0  \n",
       "1                0.0                      0.0             0.0  \n",
       "2                0.0                      0.0             0.0  \n",
       "3                0.0                      0.0             0.0  \n",
       "4                0.0                      0.0             0.0  "
      ]
     },
     "execution_count": 90,
     "metadata": {},
     "output_type": "execute_result"
    }
   ],
   "source": [
    "data_index.head()"
   ]
  },
  {
   "cell_type": "code",
   "execution_count": 116,
   "metadata": {},
   "outputs": [],
   "source": [
    "data_index=data_index.set_index('date')"
   ]
  },
  {
   "cell_type": "code",
   "execution_count": 117,
   "metadata": {},
   "outputs": [
    {
     "data": {
      "text/html": [
       "<div>\n",
       "<style scoped>\n",
       "    .dataframe tbody tr th:only-of-type {\n",
       "        vertical-align: middle;\n",
       "    }\n",
       "\n",
       "    .dataframe tbody tr th {\n",
       "        vertical-align: top;\n",
       "    }\n",
       "\n",
       "    .dataframe thead th {\n",
       "        text-align: right;\n",
       "    }\n",
       "</style>\n",
       "<table border=\"1\" class=\"dataframe\">\n",
       "  <thead>\n",
       "    <tr style=\"text-align: right;\">\n",
       "      <th></th>\n",
       "      <th>containment_and_health</th>\n",
       "      <th>stringency</th>\n",
       "      <th>economics_sup</th>\n",
       "      <th>total_cases</th>\n",
       "      <th>new_cases</th>\n",
       "      <th>total_deaths</th>\n",
       "      <th>new_deaths</th>\n",
       "      <th>gov_response</th>\n",
       "      <th>total_vaccinations</th>\n",
       "      <th>people_vaccinated</th>\n",
       "      <th>...</th>\n",
       "      <th>day-1</th>\n",
       "      <th>day-2</th>\n",
       "      <th>day-3</th>\n",
       "      <th>day-4</th>\n",
       "      <th>day-5</th>\n",
       "      <th>day-6</th>\n",
       "      <th>day-7</th>\n",
       "      <th>day-8</th>\n",
       "      <th>day-9</th>\n",
       "      <th>day-10</th>\n",
       "    </tr>\n",
       "    <tr>\n",
       "      <th>date</th>\n",
       "      <th></th>\n",
       "      <th></th>\n",
       "      <th></th>\n",
       "      <th></th>\n",
       "      <th></th>\n",
       "      <th></th>\n",
       "      <th></th>\n",
       "      <th></th>\n",
       "      <th></th>\n",
       "      <th></th>\n",
       "      <th></th>\n",
       "      <th></th>\n",
       "      <th></th>\n",
       "      <th></th>\n",
       "      <th></th>\n",
       "      <th></th>\n",
       "      <th></th>\n",
       "      <th></th>\n",
       "      <th></th>\n",
       "      <th></th>\n",
       "      <th></th>\n",
       "    </tr>\n",
       "  </thead>\n",
       "  <tbody>\n",
       "    <tr>\n",
       "      <th>2020-02-25</th>\n",
       "      <td>0.037264</td>\n",
       "      <td>0.030978</td>\n",
       "      <td>0.0</td>\n",
       "      <td>14.0</td>\n",
       "      <td>2.0</td>\n",
       "      <td>1.0</td>\n",
       "      <td>0.0</td>\n",
       "      <td>0.033083</td>\n",
       "      <td>0.0</td>\n",
       "      <td>0.0</td>\n",
       "      <td>...</td>\n",
       "      <td>1.0</td>\n",
       "      <td>1.0</td>\n",
       "      <td>1.0</td>\n",
       "      <td>1.0</td>\n",
       "      <td>1.0</td>\n",
       "      <td>1.0</td>\n",
       "      <td>1.0</td>\n",
       "      <td>1.0</td>\n",
       "      <td>1.0</td>\n",
       "      <td>1.0</td>\n",
       "    </tr>\n",
       "    <tr>\n",
       "      <th>2020-02-26</th>\n",
       "      <td>0.037264</td>\n",
       "      <td>0.030978</td>\n",
       "      <td>0.0</td>\n",
       "      <td>18.0</td>\n",
       "      <td>4.0</td>\n",
       "      <td>2.0</td>\n",
       "      <td>1.0</td>\n",
       "      <td>0.033083</td>\n",
       "      <td>0.0</td>\n",
       "      <td>0.0</td>\n",
       "      <td>...</td>\n",
       "      <td>1.0</td>\n",
       "      <td>1.0</td>\n",
       "      <td>1.0</td>\n",
       "      <td>1.0</td>\n",
       "      <td>1.0</td>\n",
       "      <td>1.0</td>\n",
       "      <td>1.0</td>\n",
       "      <td>1.0</td>\n",
       "      <td>1.0</td>\n",
       "      <td>1.0</td>\n",
       "    </tr>\n",
       "    <tr>\n",
       "      <th>2020-02-27</th>\n",
       "      <td>0.037264</td>\n",
       "      <td>0.030978</td>\n",
       "      <td>0.0</td>\n",
       "      <td>38.0</td>\n",
       "      <td>20.0</td>\n",
       "      <td>2.0</td>\n",
       "      <td>0.0</td>\n",
       "      <td>0.033083</td>\n",
       "      <td>0.0</td>\n",
       "      <td>0.0</td>\n",
       "      <td>...</td>\n",
       "      <td>2.0</td>\n",
       "      <td>1.0</td>\n",
       "      <td>1.0</td>\n",
       "      <td>1.0</td>\n",
       "      <td>1.0</td>\n",
       "      <td>1.0</td>\n",
       "      <td>1.0</td>\n",
       "      <td>1.0</td>\n",
       "      <td>1.0</td>\n",
       "      <td>1.0</td>\n",
       "    </tr>\n",
       "    <tr>\n",
       "      <th>2020-02-28</th>\n",
       "      <td>0.037264</td>\n",
       "      <td>0.030978</td>\n",
       "      <td>0.0</td>\n",
       "      <td>57.0</td>\n",
       "      <td>19.0</td>\n",
       "      <td>2.0</td>\n",
       "      <td>0.0</td>\n",
       "      <td>0.033083</td>\n",
       "      <td>0.0</td>\n",
       "      <td>0.0</td>\n",
       "      <td>...</td>\n",
       "      <td>2.0</td>\n",
       "      <td>2.0</td>\n",
       "      <td>1.0</td>\n",
       "      <td>1.0</td>\n",
       "      <td>1.0</td>\n",
       "      <td>1.0</td>\n",
       "      <td>1.0</td>\n",
       "      <td>1.0</td>\n",
       "      <td>1.0</td>\n",
       "      <td>1.0</td>\n",
       "    </tr>\n",
       "    <tr>\n",
       "      <th>2020-02-29</th>\n",
       "      <td>0.063456</td>\n",
       "      <td>0.077435</td>\n",
       "      <td>0.0</td>\n",
       "      <td>100.0</td>\n",
       "      <td>43.0</td>\n",
       "      <td>2.0</td>\n",
       "      <td>0.0</td>\n",
       "      <td>0.056342</td>\n",
       "      <td>0.0</td>\n",
       "      <td>0.0</td>\n",
       "      <td>...</td>\n",
       "      <td>2.0</td>\n",
       "      <td>2.0</td>\n",
       "      <td>2.0</td>\n",
       "      <td>1.0</td>\n",
       "      <td>1.0</td>\n",
       "      <td>1.0</td>\n",
       "      <td>1.0</td>\n",
       "      <td>1.0</td>\n",
       "      <td>1.0</td>\n",
       "      <td>1.0</td>\n",
       "    </tr>\n",
       "  </tbody>\n",
       "</table>\n",
       "<p>5 rows × 22 columns</p>\n",
       "</div>"
      ],
      "text/plain": [
       "            containment_and_health  stringency  economics_sup  total_cases  \\\n",
       "date                                                                         \n",
       "2020-02-25                0.037264    0.030978            0.0         14.0   \n",
       "2020-02-26                0.037264    0.030978            0.0         18.0   \n",
       "2020-02-27                0.037264    0.030978            0.0         38.0   \n",
       "2020-02-28                0.037264    0.030978            0.0         57.0   \n",
       "2020-02-29                0.063456    0.077435            0.0        100.0   \n",
       "\n",
       "            new_cases  total_deaths  new_deaths  gov_response  \\\n",
       "date                                                            \n",
       "2020-02-25        2.0           1.0         0.0      0.033083   \n",
       "2020-02-26        4.0           2.0         1.0      0.033083   \n",
       "2020-02-27       20.0           2.0         0.0      0.033083   \n",
       "2020-02-28       19.0           2.0         0.0      0.033083   \n",
       "2020-02-29       43.0           2.0         0.0      0.056342   \n",
       "\n",
       "            total_vaccinations  people_vaccinated  ...  day-1  day-2  day-3  \\\n",
       "date                                               ...                        \n",
       "2020-02-25                 0.0                0.0  ...    1.0    1.0    1.0   \n",
       "2020-02-26                 0.0                0.0  ...    1.0    1.0    1.0   \n",
       "2020-02-27                 0.0                0.0  ...    2.0    1.0    1.0   \n",
       "2020-02-28                 0.0                0.0  ...    2.0    2.0    1.0   \n",
       "2020-02-29                 0.0                0.0  ...    2.0    2.0    2.0   \n",
       "\n",
       "            day-4  day-5  day-6  day-7  day-8  day-9  day-10  \n",
       "date                                                          \n",
       "2020-02-25    1.0    1.0    1.0    1.0    1.0    1.0     1.0  \n",
       "2020-02-26    1.0    1.0    1.0    1.0    1.0    1.0     1.0  \n",
       "2020-02-27    1.0    1.0    1.0    1.0    1.0    1.0     1.0  \n",
       "2020-02-28    1.0    1.0    1.0    1.0    1.0    1.0     1.0  \n",
       "2020-02-29    1.0    1.0    1.0    1.0    1.0    1.0     1.0  \n",
       "\n",
       "[5 rows x 22 columns]"
      ]
     },
     "execution_count": 117,
     "metadata": {},
     "output_type": "execute_result"
    }
   ],
   "source": [
    "data_index['day-1']=data_index['total_deaths'].shift(periods=1)\n",
    "data_index['day-2']=data_index['total_deaths'].shift(periods=2)\n",
    "data_index['day-3']=data_index['total_deaths'].shift(periods=3)\n",
    "data_index['day-4']=data_index['total_deaths'].shift(periods=4)\n",
    "data_index['day-5']=data_index['total_deaths'].shift(periods=5)\n",
    "data_index['day-6']=data_index['total_deaths'].shift(periods=6)\n",
    "data_index['day-7']=data_index['total_deaths'].shift(periods=7)\n",
    "data_index['day-8']=data_index['total_deaths'].shift(periods=8)\n",
    "data_index['day-9']=data_index['total_deaths'].shift(periods=9)\n",
    "data_index['day-10']=data_index['total_deaths'].shift(periods=10)\n",
    "data_index = data_index.iloc[10: , :]\n",
    "data_index.head()"
   ]
  },
  {
   "cell_type": "code",
   "execution_count": 118,
   "metadata": {},
   "outputs": [],
   "source": [
    "data_index=data_index.fillna(0)"
   ]
  },
  {
   "cell_type": "code",
   "execution_count": 94,
   "metadata": {},
   "outputs": [
    {
     "data": {
      "text/html": [
       "<div>\n",
       "<style scoped>\n",
       "    .dataframe tbody tr th:only-of-type {\n",
       "        vertical-align: middle;\n",
       "    }\n",
       "\n",
       "    .dataframe tbody tr th {\n",
       "        vertical-align: top;\n",
       "    }\n",
       "\n",
       "    .dataframe thead th {\n",
       "        text-align: right;\n",
       "    }\n",
       "</style>\n",
       "<table border=\"1\" class=\"dataframe\">\n",
       "  <thead>\n",
       "    <tr style=\"text-align: right;\">\n",
       "      <th></th>\n",
       "      <th>containment_and_health</th>\n",
       "      <th>stringency</th>\n",
       "      <th>economics_sup</th>\n",
       "      <th>total_cases</th>\n",
       "      <th>new_cases</th>\n",
       "      <th>total_deaths</th>\n",
       "      <th>new_deaths</th>\n",
       "      <th>gov_response</th>\n",
       "      <th>total_vaccinations</th>\n",
       "      <th>people_vaccinated</th>\n",
       "      <th>...</th>\n",
       "      <th>day-1</th>\n",
       "      <th>day-2</th>\n",
       "      <th>day-3</th>\n",
       "      <th>day-4</th>\n",
       "      <th>day-5</th>\n",
       "      <th>day-6</th>\n",
       "      <th>day-7</th>\n",
       "      <th>day-8</th>\n",
       "      <th>day-9</th>\n",
       "      <th>day-10</th>\n",
       "    </tr>\n",
       "    <tr>\n",
       "      <th>date</th>\n",
       "      <th></th>\n",
       "      <th></th>\n",
       "      <th></th>\n",
       "      <th></th>\n",
       "      <th></th>\n",
       "      <th></th>\n",
       "      <th></th>\n",
       "      <th></th>\n",
       "      <th></th>\n",
       "      <th></th>\n",
       "      <th></th>\n",
       "      <th></th>\n",
       "      <th></th>\n",
       "      <th></th>\n",
       "      <th></th>\n",
       "      <th></th>\n",
       "      <th></th>\n",
       "      <th></th>\n",
       "      <th></th>\n",
       "      <th></th>\n",
       "      <th></th>\n",
       "    </tr>\n",
       "  </thead>\n",
       "  <tbody>\n",
       "    <tr>\n",
       "      <th>2020-02-25</th>\n",
       "      <td>0.037264</td>\n",
       "      <td>0.030978</td>\n",
       "      <td>0.0</td>\n",
       "      <td>14.0</td>\n",
       "      <td>2.0</td>\n",
       "      <td>1.0</td>\n",
       "      <td>0.0</td>\n",
       "      <td>0.033083</td>\n",
       "      <td>0.0</td>\n",
       "      <td>0.0</td>\n",
       "      <td>...</td>\n",
       "      <td>1.0</td>\n",
       "      <td>1.0</td>\n",
       "      <td>1.0</td>\n",
       "      <td>1.0</td>\n",
       "      <td>1.0</td>\n",
       "      <td>1.0</td>\n",
       "      <td>1.0</td>\n",
       "      <td>1.0</td>\n",
       "      <td>1.0</td>\n",
       "      <td>1.0</td>\n",
       "    </tr>\n",
       "    <tr>\n",
       "      <th>2020-02-26</th>\n",
       "      <td>0.037264</td>\n",
       "      <td>0.030978</td>\n",
       "      <td>0.0</td>\n",
       "      <td>18.0</td>\n",
       "      <td>4.0</td>\n",
       "      <td>2.0</td>\n",
       "      <td>1.0</td>\n",
       "      <td>0.033083</td>\n",
       "      <td>0.0</td>\n",
       "      <td>0.0</td>\n",
       "      <td>...</td>\n",
       "      <td>1.0</td>\n",
       "      <td>1.0</td>\n",
       "      <td>1.0</td>\n",
       "      <td>1.0</td>\n",
       "      <td>1.0</td>\n",
       "      <td>1.0</td>\n",
       "      <td>1.0</td>\n",
       "      <td>1.0</td>\n",
       "      <td>1.0</td>\n",
       "      <td>1.0</td>\n",
       "    </tr>\n",
       "    <tr>\n",
       "      <th>2020-02-27</th>\n",
       "      <td>0.037264</td>\n",
       "      <td>0.030978</td>\n",
       "      <td>0.0</td>\n",
       "      <td>38.0</td>\n",
       "      <td>20.0</td>\n",
       "      <td>2.0</td>\n",
       "      <td>0.0</td>\n",
       "      <td>0.033083</td>\n",
       "      <td>0.0</td>\n",
       "      <td>0.0</td>\n",
       "      <td>...</td>\n",
       "      <td>2.0</td>\n",
       "      <td>1.0</td>\n",
       "      <td>1.0</td>\n",
       "      <td>1.0</td>\n",
       "      <td>1.0</td>\n",
       "      <td>1.0</td>\n",
       "      <td>1.0</td>\n",
       "      <td>1.0</td>\n",
       "      <td>1.0</td>\n",
       "      <td>1.0</td>\n",
       "    </tr>\n",
       "    <tr>\n",
       "      <th>2020-02-28</th>\n",
       "      <td>0.037264</td>\n",
       "      <td>0.030978</td>\n",
       "      <td>0.0</td>\n",
       "      <td>57.0</td>\n",
       "      <td>19.0</td>\n",
       "      <td>2.0</td>\n",
       "      <td>0.0</td>\n",
       "      <td>0.033083</td>\n",
       "      <td>0.0</td>\n",
       "      <td>0.0</td>\n",
       "      <td>...</td>\n",
       "      <td>2.0</td>\n",
       "      <td>2.0</td>\n",
       "      <td>1.0</td>\n",
       "      <td>1.0</td>\n",
       "      <td>1.0</td>\n",
       "      <td>1.0</td>\n",
       "      <td>1.0</td>\n",
       "      <td>1.0</td>\n",
       "      <td>1.0</td>\n",
       "      <td>1.0</td>\n",
       "    </tr>\n",
       "    <tr>\n",
       "      <th>2020-02-29</th>\n",
       "      <td>0.063456</td>\n",
       "      <td>0.077435</td>\n",
       "      <td>0.0</td>\n",
       "      <td>100.0</td>\n",
       "      <td>43.0</td>\n",
       "      <td>2.0</td>\n",
       "      <td>0.0</td>\n",
       "      <td>0.056342</td>\n",
       "      <td>0.0</td>\n",
       "      <td>0.0</td>\n",
       "      <td>...</td>\n",
       "      <td>2.0</td>\n",
       "      <td>2.0</td>\n",
       "      <td>2.0</td>\n",
       "      <td>1.0</td>\n",
       "      <td>1.0</td>\n",
       "      <td>1.0</td>\n",
       "      <td>1.0</td>\n",
       "      <td>1.0</td>\n",
       "      <td>1.0</td>\n",
       "      <td>1.0</td>\n",
       "    </tr>\n",
       "  </tbody>\n",
       "</table>\n",
       "<p>5 rows × 22 columns</p>\n",
       "</div>"
      ],
      "text/plain": [
       "            containment_and_health  stringency  economics_sup  total_cases  \\\n",
       "date                                                                         \n",
       "2020-02-25                0.037264    0.030978            0.0         14.0   \n",
       "2020-02-26                0.037264    0.030978            0.0         18.0   \n",
       "2020-02-27                0.037264    0.030978            0.0         38.0   \n",
       "2020-02-28                0.037264    0.030978            0.0         57.0   \n",
       "2020-02-29                0.063456    0.077435            0.0        100.0   \n",
       "\n",
       "            new_cases  total_deaths  new_deaths  gov_response  \\\n",
       "date                                                            \n",
       "2020-02-25        2.0           1.0         0.0      0.033083   \n",
       "2020-02-26        4.0           2.0         1.0      0.033083   \n",
       "2020-02-27       20.0           2.0         0.0      0.033083   \n",
       "2020-02-28       19.0           2.0         0.0      0.033083   \n",
       "2020-02-29       43.0           2.0         0.0      0.056342   \n",
       "\n",
       "            total_vaccinations  people_vaccinated  ...  day-1  day-2  day-3  \\\n",
       "date                                               ...                        \n",
       "2020-02-25                 0.0                0.0  ...    1.0    1.0    1.0   \n",
       "2020-02-26                 0.0                0.0  ...    1.0    1.0    1.0   \n",
       "2020-02-27                 0.0                0.0  ...    2.0    1.0    1.0   \n",
       "2020-02-28                 0.0                0.0  ...    2.0    2.0    1.0   \n",
       "2020-02-29                 0.0                0.0  ...    2.0    2.0    2.0   \n",
       "\n",
       "            day-4  day-5  day-6  day-7  day-8  day-9  day-10  \n",
       "date                                                          \n",
       "2020-02-25    1.0    1.0    1.0    1.0    1.0    1.0     1.0  \n",
       "2020-02-26    1.0    1.0    1.0    1.0    1.0    1.0     1.0  \n",
       "2020-02-27    1.0    1.0    1.0    1.0    1.0    1.0     1.0  \n",
       "2020-02-28    1.0    1.0    1.0    1.0    1.0    1.0     1.0  \n",
       "2020-02-29    1.0    1.0    1.0    1.0    1.0    1.0     1.0  \n",
       "\n",
       "[5 rows x 22 columns]"
      ]
     },
     "execution_count": 94,
     "metadata": {},
     "output_type": "execute_result"
    }
   ],
   "source": [
    "data_index.head()"
   ]
  },
  {
   "cell_type": "code",
   "execution_count": 119,
   "metadata": {},
   "outputs": [
    {
     "data": {
      "text/plain": [
       "Text(0.5, 0, 'Date')"
      ]
     },
     "execution_count": 119,
     "metadata": {},
     "output_type": "execute_result"
    },
    {
     "data": {
      "image/png": "[encoded data removed]",
      "text/plain": [
       "<Figure size 1224x504 with 1 Axes>"
      ]
     },
     "metadata": {
      "needs_background": "light"
     },
     "output_type": "display_data"
    }
   ],
   "source": [
    "fig, ax = plt.subplots(1, figsize=(17,7))\n",
    "plt.plot(data_index.index,data_index['new_deaths']);\n",
    "ax.set_title(\"Covid 19 calculation for different countries\", size=10)\n",
    "ax.set_ylabel(\"Number of death cases\", size=10)\n",
    "ax.set_xlabel(\"Date\", size=13)"
   ]
  },
  {
   "cell_type": "code",
   "execution_count": 96,
   "metadata": {},
   "outputs": [
    {
     "data": {
      "text/plain": [
       "Text(0.5, 0, 'Date')"
      ]
     },
     "execution_count": 96,
     "metadata": {},
     "output_type": "execute_result"
    },
    {
     "data": {
      "image/png": "[encoded data removed]",
      "text/plain": [
       "<Figure size 1224x504 with 1 Axes>"
      ]
     },
     "metadata": {
      "needs_background": "light"
     },
     "output_type": "display_data"
    }
   ],
   "source": [
    "fig, ax = plt.subplots(1, figsize=(17,7))\n",
    "plt.plot(data_index.index,np.log(data_index['total_deaths']));\n",
    "ax.set_title(\"Covid 19 calculation for different countries\", size=10)\n",
    "ax.set_ylabel(\"Number of death cases\", size=10)\n",
    "ax.set_xlabel(\"Date\", size=13)"
   ]
  },
  {
   "cell_type": "code",
   "execution_count": 97,
   "metadata": {},
   "outputs": [
    {
     "data": {
      "text/plain": [
       "<AxesSubplot:xlabel='new_deaths', ylabel='Count'>"
      ]
     },
     "execution_count": 97,
     "metadata": {},
     "output_type": "execute_result"
    },
    {
     "data": {
      "image/png": "[encoded data removed]",
      "text/plain": [
       "<Figure size 1080x216 with 1 Axes>"
      ]
     },
     "metadata": {
      "needs_background": "light"
     },
     "output_type": "display_data"
    }
   ],
   "source": [
    "\n",
    "plt.figure(figsize=(15,3))\n",
    "sns.histplot(data_index['new_deaths'])"
   ]
  },
  {
   "cell_type": "markdown",
   "metadata": {},
   "source": [
    "# splitting of data into x and y"
   ]
  },
  {
   "cell_type": "code",
   "execution_count": 98,
   "metadata": {},
   "outputs": [],
   "source": [
    "X=data_index.drop(columns=['total_deaths','new_deaths','new_cases'])\n",
    "y=data_index['total_deaths']"
   ]
  },
  {
   "cell_type": "markdown",
   "metadata": {},
   "source": [
    "## scaling data"
   ]
  },
  {
   "cell_type": "code",
   "execution_count": 99,
   "metadata": {},
   "outputs": [],
   "source": [
    "scaler = MinMaxScaler()\n",
    "scaler.fit(X)\n",
    "X=scaler.transform(X)"
   ]
  },
  {
   "cell_type": "markdown",
   "metadata": {},
   "source": [
    "# splitting data into train and test set"
   ]
  },
  {
   "cell_type": "code",
   "execution_count": 100,
   "metadata": {},
   "outputs": [],
   "source": [
    "n = len(X)\n",
    "X_train = X[0:int(n-50)]\n",
    "X_test=X[int(n-50):]\n",
    "y_train=y[0:int(n-50)]\n",
    "y_test=y[int(n-50):]"
   ]
  },
  {
   "cell_type": "markdown",
   "metadata": {},
   "source": [
    "# Model"
   ]
  },
  {
   "cell_type": "code",
   "execution_count": 101,
   "metadata": {},
   "outputs": [],
   "source": [
    "model =SVR(C=5, coef0=10, epsilon=0.05, kernel='poly')"
   ]
  },
  {
   "cell_type": "code",
   "execution_count": 102,
   "metadata": {},
   "outputs": [
    {
     "name": "stdout",
     "output_type": "stream",
     "text": [
      "Fitting 2 folds for each of 24 candidates, totalling 48 fits\n",
      "[CV] END .............C=5, coef0=0.01, degree=3, kernel=poly; total time=   0.0s\n",
      "[CV] END .............C=5, coef0=0.01, degree=3, kernel=poly; total time=   0.0s\n",
      "[CV] END .............C=5, coef0=0.01, degree=8, kernel=poly; total time=   0.0s\n",
      "[CV] END ..............C=5, coef0=0.01, degree=3, kernel=rbf; total time=   0.0s\n",
      "[CV] END ..............C=5, coef0=0.01, degree=3, kernel=rbf; total time=   0.0s\n",
      "[CV] END ..............C=5, coef0=0.5, degree=3, kernel=poly; total time=   0.0s\n",
      "[CV] END ..............C=5, coef0=0.5, degree=3, kernel=poly; total time=   0.0s\n",
      "[CV] END ..............C=5, coef0=0.01, degree=8, kernel=rbf; total time=   0.0s\n",
      "[CV] END ..............C=5, coef0=0.01, degree=8, kernel=rbf; total time=   0.0s\n",
      "[CV] END ...............C=5, coef0=0.5, degree=3, kernel=rbf; total time=   0.0s\n",
      "[CV] END ...............C=5, coef0=0.5, degree=3, kernel=rbf; total time=   0.0s\n",
      "[CV] END ..............C=5, coef0=0.5, degree=8, kernel=poly; total time=   0.0s\n",
      "[CV] END ...............C=5, coef0=0.5, degree=8, kernel=rbf; total time=   0.0s\n",
      "[CV] END ...............C=5, coef0=10, degree=3, kernel=poly; total time=   0.0s\n",
      "[CV] END ...............C=5, coef0=0.5, degree=8, kernel=rbf; total time=   0.0s\n",
      "[CV] END ................C=5, coef0=10, degree=3, kernel=rbf; total time=   0.0s\n",
      "[CV] END .............C=6, coef0=0.01, degree=3, kernel=poly; total time=   0.0s\n",
      "[CV] END ...............C=5, coef0=10, degree=3, kernel=poly; total time=   0.0s\n",
      "[CV] END .............C=6, coef0=0.01, degree=3, kernel=poly; total time=   0.0s\n",
      "[CV] END ................C=5, coef0=10, degree=3, kernel=rbf; total time=   0.0s\n",
      "[CV] END ................C=5, coef0=10, degree=8, kernel=rbf; total time=   0.1s\n",
      "[CV] END ..............C=6, coef0=0.01, degree=3, kernel=rbf; total time=   0.1s\n",
      "[CV] END ..............C=6, coef0=0.5, degree=3, kernel=poly; total time=   0.0s\n",
      "[CV] END ..............C=6, coef0=0.01, degree=8, kernel=rbf; total time=   0.0s\n",
      "[CV] END ..............C=6, coef0=0.5, degree=3, kernel=poly; total time=   0.0s\n",
      "[CV] END ................C=5, coef0=10, degree=8, kernel=rbf; total time=   0.0s\n",
      "[CV] END ..............C=6, coef0=0.01, degree=3, kernel=rbf; total time=   0.0s\n",
      "[CV] END ...............C=6, coef0=0.5, degree=3, kernel=rbf; total time=   0.0s\n",
      "[CV] END ..............C=6, coef0=0.01, degree=8, kernel=rbf; total time=   0.1s\n",
      "[CV] END ...............C=6, coef0=0.5, degree=8, kernel=rbf; total time=   0.0s\n",
      "[CV] END ...............C=6, coef0=10, degree=3, kernel=poly; total time=   0.0s\n",
      "[CV] END ...............C=6, coef0=0.5, degree=3, kernel=rbf; total time=   0.0s\n",
      "[CV] END ...............C=6, coef0=10, degree=3, kernel=poly; total time=   0.0s\n",
      "[CV] END ...............C=6, coef0=0.5, degree=8, kernel=rbf; total time=   0.0s\n",
      "[CV] END ................C=6, coef0=10, degree=8, kernel=rbf; total time=   0.0s\n",
      "[CV] END ................C=6, coef0=10, degree=3, kernel=rbf; total time=   0.1s\n",
      "[CV] END ................C=6, coef0=10, degree=3, kernel=rbf; total time=   0.0s\n",
      "[CV] END ................C=6, coef0=10, degree=8, kernel=rbf; total time=   0.1s\n",
      "[CV] END ...............C=6, coef0=10, degree=8, kernel=poly; total time=  25.3s\n",
      "[CV] END ..............C=6, coef0=0.5, degree=8, kernel=poly; total time=  32.9s\n",
      "[CV] END ..............C=6, coef0=0.5, degree=8, kernel=poly; total time=   0.0s\n",
      "[CV] END ...............C=5, coef0=10, degree=8, kernel=poly; total time=  34.5s\n",
      "[CV] END ..............C=5, coef0=0.5, degree=8, kernel=poly; total time=  37.4s\n",
      "[CV] END .............C=5, coef0=0.01, degree=8, kernel=poly; total time=  39.8s\n",
      "[CV] END .............C=6, coef0=0.01, degree=8, kernel=poly; total time=  41.8s\n",
      "[CV] END .............C=6, coef0=0.01, degree=8, kernel=poly; total time=   0.0s\n",
      "[CV] END ...............C=6, coef0=10, degree=8, kernel=poly; total time=  23.5s\n",
      "[CV] END ...............C=5, coef0=10, degree=8, kernel=poly; total time=  31.6s\n"
     ]
    }
   ],
   "source": [
    "param={'kernel' : ('poly', 'rbf'),'C' : [5,6],'degree' : [3,8],'coef0' : [0.01,0.5,10]}\n",
    "grid_search = GridSearchCV(model, param_grid = param, \n",
    "                      cv = 2, n_jobs = -1, verbose = 2)\n",
    "grid_search.fit(X_train,y_train)\n",
    "best=grid_search.best_estimator_"
   ]
  },
  {
   "cell_type": "code",
   "execution_count": 103,
   "metadata": {},
   "outputs": [
    {
     "data": {
      "text/plain": [
       "SVR(C=6, coef0=10, epsilon=0.05, kernel='poly')"
      ]
     },
     "execution_count": 103,
     "metadata": {},
     "output_type": "execute_result"
    }
   ],
   "source": [
    "best"
   ]
  },
  {
   "cell_type": "markdown",
   "metadata": {},
   "source": [
    "## fitting the model for train and test set"
   ]
  },
  {
   "cell_type": "code",
   "execution_count": 104,
   "metadata": {},
   "outputs": [
    {
     "data": {
      "text/plain": [
       "SVR(C=6, coef0=10, epsilon=0.05, kernel='poly')"
      ]
     },
     "execution_count": 104,
     "metadata": {},
     "output_type": "execute_result"
    }
   ],
   "source": [
    "model=best\n",
    "best_model=model.fit(X_train,y_train)\n",
    "best_model"
   ]
  },
  {
   "cell_type": "code",
   "execution_count": 106,
   "metadata": {},
   "outputs": [
    {
     "data": {
      "text/plain": [
       "SVR(C=6, coef0=10, epsilon=0.05, kernel='poly')"
      ]
     },
     "execution_count": 106,
     "metadata": {},
     "output_type": "execute_result"
    }
   ],
   "source": [
    "best_model"
   ]
  },
  {
   "cell_type": "code",
   "execution_count": 107,
   "metadata": {},
   "outputs": [
    {
     "data": {
      "text/plain": [
       "'France'"
      ]
     },
     "execution_count": 107,
     "metadata": {},
     "output_type": "execute_result"
    }
   ],
   "source": [
    "country"
   ]
  },
  {
   "cell_type": "code",
   "execution_count": 108,
   "metadata": {},
   "outputs": [],
   "source": [
    "with open(get_best_models_path(f'model_{country}.pkl'),'wb') as f:\n",
    "    pickle.dump(best_model, f)"
   ]
  },
  {
   "cell_type": "code",
   "execution_count": 109,
   "metadata": {},
   "outputs": [],
   "source": [
    "model_load=pickle.load(open(get_best_models_path(f'model_{country}.pkl'),'rb'))"
   ]
  },
  {
   "cell_type": "code",
   "execution_count": 110,
   "metadata": {},
   "outputs": [
    {
     "data": {
      "text/plain": [
       "SVR(C=6, coef0=10, epsilon=0.05, kernel='poly')"
      ]
     },
     "execution_count": 110,
     "metadata": {},
     "output_type": "execute_result"
    }
   ],
   "source": [
    "model_load"
   ]
  },
  {
   "cell_type": "markdown",
   "metadata": {},
   "source": [
    "## prediction"
   ]
  },
  {
   "cell_type": "code",
   "execution_count": 111,
   "metadata": {},
   "outputs": [],
   "source": [
    "y_pred=best_model.predict(X_test)"
   ]
  },
  {
   "cell_type": "markdown",
   "metadata": {},
   "source": [
    "## evaluating model performance"
   ]
  },
  {
   "cell_type": "code",
   "execution_count": 113,
   "metadata": {},
   "outputs": [
    {
     "data": {
      "text/plain": [
       "(0.004744032132830774, 10, 'France')"
      ]
     },
     "execution_count": 113,
     "metadata": {},
     "output_type": "execute_result"
    }
   ],
   "source": [
    "score=mean_absolute_percentage_error(y_test, y_pred)\n",
    "n_pred=10\n",
    "c=country\n",
    "score, n_pred, c"
   ]
  },
  {
   "cell_type": "code",
   "execution_count": null,
   "metadata": {},
   "outputs": [
    {
     "data": {
      "text/plain": [
       "(50,)"
      ]
     },
     "execution_count": 54,
     "metadata": {},
     "output_type": "execute_result"
    }
   ],
   "source": [
    "y_pred.shape"
   ]
  },
  {
   "cell_type": "code",
   "execution_count": null,
   "metadata": {},
   "outputs": [
    {
     "data": {
      "text/plain": [
       "Text(0.5, 0, 'Date')"
      ]
     },
     "execution_count": 58,
     "metadata": {},
     "output_type": "execute_result"
    },
    {
     "data": {
      "image/png": "[encoded data removed]",
      "text/plain": [
       "<Figure size 1700x700 with 1 Axes>"
      ]
     },
     "metadata": {},
     "output_type": "display_data"
    }
   ],
   "source": [
    "fig, ax = plt.subplots(1, figsize=(17,7))\n",
    "plt.plot(y_test.index[:20],y_pred[:20],color='r');\n",
    "plt.plot(y_test.index[:20],y_test[:20]);\n",
    "ax.set_title(\"Covid 19 calculation for different countries\", size=10)\n",
    "ax.set_ylabel(\"Number of death cases\", size=10)\n",
    "ax.set_xlabel(\"Date\", size=13)"
   ]
  }
 ],
 "metadata": {
  "kernelspec": {
   "display_name": "Python 3.8.12 64-bit ('shims')",
   "language": "python",
   "name": "python3"
  },
  "language_info": {
   "codemirror_mode": {
    "name": "ipython",
    "version": 3
   },
   "file_extension": ".py",
   "mimetype": "text/x-python",
   "name": "python",
   "nbconvert_exporter": "python",
   "pygments_lexer": "ipython3",
   "version": "3.8.12"
  },
  "toc": {
   "base_numbering": 1,
   "nav_menu": {},
   "number_sections": true,
   "sideBar": true,
   "skip_h1_title": false,
   "title_cell": "Table of Contents",
   "title_sidebar": "Contents",
   "toc_cell": false,
   "toc_position": {},
   "toc_section_display": true,
   "toc_window_display": false
  },
  "vscode": {
   "interpreter": {
    "hash": "9c7d4b3da1e137aeabc4fd6b55dede4bb1c85dbdc50880a4fde3d2604903e3dc"
   }
  }
 },
 "nbformat": 4,
 "nbformat_minor": 4
}
