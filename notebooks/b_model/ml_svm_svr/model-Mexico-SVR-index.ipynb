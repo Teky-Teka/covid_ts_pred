{
 "cells": [
  {
   "cell_type": "markdown",
   "metadata": {},
   "source": [
    "# COVID-19 Mortality Prediction with Support Vector Regression Model"
   ]
  },
  {
   "cell_type": "markdown",
   "metadata": {},
   "source": [
    "### Dependencies importing"
   ]
  },
  {
   "cell_type": "code",
   "execution_count": 1,
   "metadata": {},
   "outputs": [
    {
     "name": "stdout",
     "output_type": "stream",
     "text": [
      "project env_path /Users/tekyteka/code/Teky-Teka/covid_ts_pred/.env\n",
      "project env_path /Users/tekyteka/code/Teky-Teka/covid_ts_pred/covid_ts_pred/.env\n"
     ]
    }
   ],
   "source": [
    "# Auto reload imported module every time a jupyter cell is executed\n",
    "%load_ext autoreload\n",
    "%autoreload 2\n",
    "### TBE -> To Be Engineering...\n",
    "# covid_ts_pred package\n",
    "from covid_ts_pred.c_eng.engineering import *"
   ]
  },
  {
   "cell_type": "code",
   "execution_count": 2,
   "metadata": {},
   "outputs": [],
   "source": [
    "import pandas as pd\n",
    "import numpy as np\n",
    "import itertools\n",
    "import matplotlib.pyplot as plt\n",
    "%matplotlib inline\n",
    "import plotly.express as px\n",
    "import seaborn as sns \n",
    "from statsmodels.graphics.tsaplots import plot_acf, plot_pacf\n",
    "import plotly.graph_objects as go\n",
    "from plotly.subplots import make_subplots"
   ]
  },
  {
   "cell_type": "code",
   "execution_count": 3,
   "metadata": {},
   "outputs": [],
   "source": [
    " #sklearn preproc\n",
    "from sklearn.preprocessing import MinMaxScaler, StandardScaler\n",
    "from sklearn.pipeline import Pipeline, make_pipeline\n",
    "from sklearn.compose import ColumnTransformer, make_column_transformer, make_column_selector\n",
    "from sklearn.impute import SimpleImputer, KNNImputer\n",
    "from sklearn.preprocessing import RobustScaler, OneHotEncoder, OrdinalEncoder\n",
    "from sklearn.metrics import make_scorer\n",
    "from sklearn.model_selection import RandomizedSearchCV\n",
    "from sklearn.svm import SVR\n",
    "from sklearn.model_selection import GridSearchCV, RandomizedSearchCV\n",
    "from sklearn.metrics import mean_absolute_percentage_error\n",
    "import pickle\n"
   ]
  },
  {
   "cell_type": "code",
   "execution_count": 4,
   "metadata": {},
   "outputs": [],
   "source": [
    "### TBE done!\n",
    "country='Mexico'"
   ]
  },
  {
   "cell_type": "code",
   "execution_count": 5,
   "metadata": {},
   "outputs": [],
   "source": [
    "### TBE done!\n",
    "data_index = pd.read_csv(get_csv_out_path(f'index_{country}.csv'))"
   ]
  },
  {
   "cell_type": "code",
   "execution_count": 6,
   "metadata": {},
   "outputs": [
    {
     "data": {
      "text/html": [
       "<div>\n",
       "<style scoped>\n",
       "    .dataframe tbody tr th:only-of-type {\n",
       "        vertical-align: middle;\n",
       "    }\n",
       "\n",
       "    .dataframe tbody tr th {\n",
       "        vertical-align: top;\n",
       "    }\n",
       "\n",
       "    .dataframe thead th {\n",
       "        text-align: right;\n",
       "    }\n",
       "</style>\n",
       "<table border=\"1\" class=\"dataframe\">\n",
       "  <thead>\n",
       "    <tr style=\"text-align: right;\">\n",
       "      <th></th>\n",
       "      <th>date</th>\n",
       "      <th>containment_and_health</th>\n",
       "      <th>stringency</th>\n",
       "      <th>economics_sup</th>\n",
       "      <th>total_cases</th>\n",
       "      <th>new_cases</th>\n",
       "      <th>total_deaths</th>\n",
       "      <th>new_deaths</th>\n",
       "      <th>gov_response</th>\n",
       "      <th>total_vaccinations</th>\n",
       "      <th>people_vaccinated</th>\n",
       "      <th>people_fully_vaccinated</th>\n",
       "      <th>total_boosters</th>\n",
       "    </tr>\n",
       "  </thead>\n",
       "  <tbody>\n",
       "    <tr>\n",
       "      <th>0</th>\n",
       "      <td>2020-03-19</td>\n",
       "      <td>0.016765</td>\n",
       "      <td>0.006104</td>\n",
       "      <td>0.0</td>\n",
       "      <td>164.0</td>\n",
       "      <td>46.0</td>\n",
       "      <td>1.0</td>\n",
       "      <td>1.0</td>\n",
       "      <td>0.015438</td>\n",
       "      <td>0.0</td>\n",
       "      <td>0.0</td>\n",
       "      <td>0.0</td>\n",
       "      <td>0.0</td>\n",
       "    </tr>\n",
       "    <tr>\n",
       "      <th>1</th>\n",
       "      <td>2020-03-20</td>\n",
       "      <td>0.016765</td>\n",
       "      <td>0.006104</td>\n",
       "      <td>0.0</td>\n",
       "      <td>203.0</td>\n",
       "      <td>39.0</td>\n",
       "      <td>2.0</td>\n",
       "      <td>1.0</td>\n",
       "      <td>0.015438</td>\n",
       "      <td>0.0</td>\n",
       "      <td>0.0</td>\n",
       "      <td>0.0</td>\n",
       "      <td>0.0</td>\n",
       "    </tr>\n",
       "    <tr>\n",
       "      <th>2</th>\n",
       "      <td>2020-03-21</td>\n",
       "      <td>0.024498</td>\n",
       "      <td>0.018291</td>\n",
       "      <td>0.0</td>\n",
       "      <td>251.0</td>\n",
       "      <td>48.0</td>\n",
       "      <td>2.0</td>\n",
       "      <td>0.0</td>\n",
       "      <td>0.022575</td>\n",
       "      <td>0.0</td>\n",
       "      <td>0.0</td>\n",
       "      <td>0.0</td>\n",
       "      <td>0.0</td>\n",
       "    </tr>\n",
       "    <tr>\n",
       "      <th>3</th>\n",
       "      <td>2020-03-22</td>\n",
       "      <td>0.024498</td>\n",
       "      <td>0.018291</td>\n",
       "      <td>0.0</td>\n",
       "      <td>316.0</td>\n",
       "      <td>65.0</td>\n",
       "      <td>3.0</td>\n",
       "      <td>1.0</td>\n",
       "      <td>0.022575</td>\n",
       "      <td>0.0</td>\n",
       "      <td>0.0</td>\n",
       "      <td>0.0</td>\n",
       "      <td>0.0</td>\n",
       "    </tr>\n",
       "    <tr>\n",
       "      <th>4</th>\n",
       "      <td>2020-03-23</td>\n",
       "      <td>0.039964</td>\n",
       "      <td>0.042686</td>\n",
       "      <td>0.0</td>\n",
       "      <td>367.0</td>\n",
       "      <td>51.0</td>\n",
       "      <td>4.0</td>\n",
       "      <td>1.0</td>\n",
       "      <td>0.036827</td>\n",
       "      <td>0.0</td>\n",
       "      <td>0.0</td>\n",
       "      <td>0.0</td>\n",
       "      <td>0.0</td>\n",
       "    </tr>\n",
       "  </tbody>\n",
       "</table>\n",
       "</div>"
      ],
      "text/plain": [
       "         date  containment_and_health  stringency  economics_sup  total_cases  \\\n",
       "0  2020-03-19                0.016765    0.006104            0.0        164.0   \n",
       "1  2020-03-20                0.016765    0.006104            0.0        203.0   \n",
       "2  2020-03-21                0.024498    0.018291            0.0        251.0   \n",
       "3  2020-03-22                0.024498    0.018291            0.0        316.0   \n",
       "4  2020-03-23                0.039964    0.042686            0.0        367.0   \n",
       "\n",
       "   new_cases  total_deaths  new_deaths  gov_response  total_vaccinations  \\\n",
       "0       46.0           1.0         1.0      0.015438                 0.0   \n",
       "1       39.0           2.0         1.0      0.015438                 0.0   \n",
       "2       48.0           2.0         0.0      0.022575                 0.0   \n",
       "3       65.0           3.0         1.0      0.022575                 0.0   \n",
       "4       51.0           4.0         1.0      0.036827                 0.0   \n",
       "\n",
       "   people_vaccinated  people_fully_vaccinated  total_boosters  \n",
       "0                0.0                      0.0             0.0  \n",
       "1                0.0                      0.0             0.0  \n",
       "2                0.0                      0.0             0.0  \n",
       "3                0.0                      0.0             0.0  \n",
       "4                0.0                      0.0             0.0  "
      ]
     },
     "execution_count": 6,
     "metadata": {},
     "output_type": "execute_result"
    }
   ],
   "source": [
    "data_index.head()"
   ]
  },
  {
   "cell_type": "code",
   "execution_count": 7,
   "metadata": {},
   "outputs": [],
   "source": [
    "data_index=data_index.set_index('date')"
   ]
  },
  {
   "cell_type": "code",
   "execution_count": 8,
   "metadata": {},
   "outputs": [
    {
     "data": {
      "text/html": [
       "<div>\n",
       "<style scoped>\n",
       "    .dataframe tbody tr th:only-of-type {\n",
       "        vertical-align: middle;\n",
       "    }\n",
       "\n",
       "    .dataframe tbody tr th {\n",
       "        vertical-align: top;\n",
       "    }\n",
       "\n",
       "    .dataframe thead th {\n",
       "        text-align: right;\n",
       "    }\n",
       "</style>\n",
       "<table border=\"1\" class=\"dataframe\">\n",
       "  <thead>\n",
       "    <tr style=\"text-align: right;\">\n",
       "      <th></th>\n",
       "      <th>containment_and_health</th>\n",
       "      <th>stringency</th>\n",
       "      <th>economics_sup</th>\n",
       "      <th>total_cases</th>\n",
       "      <th>new_cases</th>\n",
       "      <th>total_deaths</th>\n",
       "      <th>new_deaths</th>\n",
       "      <th>gov_response</th>\n",
       "      <th>total_vaccinations</th>\n",
       "      <th>people_vaccinated</th>\n",
       "      <th>...</th>\n",
       "      <th>day-1</th>\n",
       "      <th>day-2</th>\n",
       "      <th>day-3</th>\n",
       "      <th>day-4</th>\n",
       "      <th>day-5</th>\n",
       "      <th>day-6</th>\n",
       "      <th>day-7</th>\n",
       "      <th>day-8</th>\n",
       "      <th>day-9</th>\n",
       "      <th>day-10</th>\n",
       "    </tr>\n",
       "    <tr>\n",
       "      <th>date</th>\n",
       "      <th></th>\n",
       "      <th></th>\n",
       "      <th></th>\n",
       "      <th></th>\n",
       "      <th></th>\n",
       "      <th></th>\n",
       "      <th></th>\n",
       "      <th></th>\n",
       "      <th></th>\n",
       "      <th></th>\n",
       "      <th></th>\n",
       "      <th></th>\n",
       "      <th></th>\n",
       "      <th></th>\n",
       "      <th></th>\n",
       "      <th></th>\n",
       "      <th></th>\n",
       "      <th></th>\n",
       "      <th></th>\n",
       "      <th></th>\n",
       "      <th></th>\n",
       "    </tr>\n",
       "  </thead>\n",
       "  <tbody>\n",
       "    <tr>\n",
       "      <th>2020-03-29</th>\n",
       "      <td>0.101848</td>\n",
       "      <td>0.140290</td>\n",
       "      <td>0.0</td>\n",
       "      <td>993.0</td>\n",
       "      <td>145.0</td>\n",
       "      <td>20.0</td>\n",
       "      <td>4.0</td>\n",
       "      <td>0.093835</td>\n",
       "      <td>0.0</td>\n",
       "      <td>0.0</td>\n",
       "      <td>...</td>\n",
       "      <td>16.0</td>\n",
       "      <td>12.0</td>\n",
       "      <td>8.0</td>\n",
       "      <td>6.0</td>\n",
       "      <td>5.0</td>\n",
       "      <td>4.0</td>\n",
       "      <td>3.0</td>\n",
       "      <td>2.0</td>\n",
       "      <td>2.0</td>\n",
       "      <td>1.0</td>\n",
       "    </tr>\n",
       "    <tr>\n",
       "      <th>2020-03-30</th>\n",
       "      <td>0.127645</td>\n",
       "      <td>0.180956</td>\n",
       "      <td>0.0</td>\n",
       "      <td>1094.0</td>\n",
       "      <td>101.0</td>\n",
       "      <td>28.0</td>\n",
       "      <td>8.0</td>\n",
       "      <td>0.117573</td>\n",
       "      <td>0.0</td>\n",
       "      <td>0.0</td>\n",
       "      <td>...</td>\n",
       "      <td>20.0</td>\n",
       "      <td>16.0</td>\n",
       "      <td>12.0</td>\n",
       "      <td>8.0</td>\n",
       "      <td>6.0</td>\n",
       "      <td>5.0</td>\n",
       "      <td>4.0</td>\n",
       "      <td>3.0</td>\n",
       "      <td>2.0</td>\n",
       "      <td>2.0</td>\n",
       "    </tr>\n",
       "    <tr>\n",
       "      <th>2020-03-31</th>\n",
       "      <td>0.127645</td>\n",
       "      <td>0.180956</td>\n",
       "      <td>0.0</td>\n",
       "      <td>1215.0</td>\n",
       "      <td>121.0</td>\n",
       "      <td>29.0</td>\n",
       "      <td>1.0</td>\n",
       "      <td>0.117573</td>\n",
       "      <td>0.0</td>\n",
       "      <td>0.0</td>\n",
       "      <td>...</td>\n",
       "      <td>28.0</td>\n",
       "      <td>20.0</td>\n",
       "      <td>16.0</td>\n",
       "      <td>12.0</td>\n",
       "      <td>8.0</td>\n",
       "      <td>6.0</td>\n",
       "      <td>5.0</td>\n",
       "      <td>4.0</td>\n",
       "      <td>3.0</td>\n",
       "      <td>2.0</td>\n",
       "    </tr>\n",
       "    <tr>\n",
       "      <th>2020-04-01</th>\n",
       "      <td>0.127645</td>\n",
       "      <td>0.180956</td>\n",
       "      <td>0.0</td>\n",
       "      <td>1378.0</td>\n",
       "      <td>163.0</td>\n",
       "      <td>37.0</td>\n",
       "      <td>8.0</td>\n",
       "      <td>0.117573</td>\n",
       "      <td>0.0</td>\n",
       "      <td>0.0</td>\n",
       "      <td>...</td>\n",
       "      <td>29.0</td>\n",
       "      <td>28.0</td>\n",
       "      <td>20.0</td>\n",
       "      <td>16.0</td>\n",
       "      <td>12.0</td>\n",
       "      <td>8.0</td>\n",
       "      <td>6.0</td>\n",
       "      <td>5.0</td>\n",
       "      <td>4.0</td>\n",
       "      <td>3.0</td>\n",
       "    </tr>\n",
       "    <tr>\n",
       "      <th>2020-04-02</th>\n",
       "      <td>0.127645</td>\n",
       "      <td>0.180956</td>\n",
       "      <td>0.0</td>\n",
       "      <td>1510.0</td>\n",
       "      <td>132.0</td>\n",
       "      <td>50.0</td>\n",
       "      <td>13.0</td>\n",
       "      <td>0.117573</td>\n",
       "      <td>0.0</td>\n",
       "      <td>0.0</td>\n",
       "      <td>...</td>\n",
       "      <td>37.0</td>\n",
       "      <td>29.0</td>\n",
       "      <td>28.0</td>\n",
       "      <td>20.0</td>\n",
       "      <td>16.0</td>\n",
       "      <td>12.0</td>\n",
       "      <td>8.0</td>\n",
       "      <td>6.0</td>\n",
       "      <td>5.0</td>\n",
       "      <td>4.0</td>\n",
       "    </tr>\n",
       "  </tbody>\n",
       "</table>\n",
       "<p>5 rows × 22 columns</p>\n",
       "</div>"
      ],
      "text/plain": [
       "            containment_and_health  stringency  economics_sup  total_cases  \\\n",
       "date                                                                         \n",
       "2020-03-29                0.101848    0.140290            0.0        993.0   \n",
       "2020-03-30                0.127645    0.180956            0.0       1094.0   \n",
       "2020-03-31                0.127645    0.180956            0.0       1215.0   \n",
       "2020-04-01                0.127645    0.180956            0.0       1378.0   \n",
       "2020-04-02                0.127645    0.180956            0.0       1510.0   \n",
       "\n",
       "            new_cases  total_deaths  new_deaths  gov_response  \\\n",
       "date                                                            \n",
       "2020-03-29      145.0          20.0         4.0      0.093835   \n",
       "2020-03-30      101.0          28.0         8.0      0.117573   \n",
       "2020-03-31      121.0          29.0         1.0      0.117573   \n",
       "2020-04-01      163.0          37.0         8.0      0.117573   \n",
       "2020-04-02      132.0          50.0        13.0      0.117573   \n",
       "\n",
       "            total_vaccinations  people_vaccinated  ...  day-1  day-2  day-3  \\\n",
       "date                                               ...                        \n",
       "2020-03-29                 0.0                0.0  ...   16.0   12.0    8.0   \n",
       "2020-03-30                 0.0                0.0  ...   20.0   16.0   12.0   \n",
       "2020-03-31                 0.0                0.0  ...   28.0   20.0   16.0   \n",
       "2020-04-01                 0.0                0.0  ...   29.0   28.0   20.0   \n",
       "2020-04-02                 0.0                0.0  ...   37.0   29.0   28.0   \n",
       "\n",
       "            day-4  day-5  day-6  day-7  day-8  day-9  day-10  \n",
       "date                                                          \n",
       "2020-03-29    6.0    5.0    4.0    3.0    2.0    2.0     1.0  \n",
       "2020-03-30    8.0    6.0    5.0    4.0    3.0    2.0     2.0  \n",
       "2020-03-31   12.0    8.0    6.0    5.0    4.0    3.0     2.0  \n",
       "2020-04-01   16.0   12.0    8.0    6.0    5.0    4.0     3.0  \n",
       "2020-04-02   20.0   16.0   12.0    8.0    6.0    5.0     4.0  \n",
       "\n",
       "[5 rows x 22 columns]"
      ]
     },
     "execution_count": 8,
     "metadata": {},
     "output_type": "execute_result"
    }
   ],
   "source": [
    "data_index['day-1']=data_index['total_deaths'].shift(periods=1)\n",
    "data_index['day-2']=data_index['total_deaths'].shift(periods=2)\n",
    "data_index['day-3']=data_index['total_deaths'].shift(periods=3)\n",
    "data_index['day-4']=data_index['total_deaths'].shift(periods=4)\n",
    "data_index['day-5']=data_index['total_deaths'].shift(periods=5)\n",
    "data_index['day-6']=data_index['total_deaths'].shift(periods=6)\n",
    "data_index['day-7']=data_index['total_deaths'].shift(periods=7)\n",
    "data_index['day-8']=data_index['total_deaths'].shift(periods=8)\n",
    "data_index['day-9']=data_index['total_deaths'].shift(periods=9)\n",
    "data_index['day-10']=data_index['total_deaths'].shift(periods=10)\n",
    "data_index = data_index.iloc[10: , :]\n",
    "data_index.head()"
   ]
  },
  {
   "cell_type": "code",
   "execution_count": 9,
   "metadata": {},
   "outputs": [],
   "source": [
    "data_index=data_index.fillna(0)"
   ]
  },
  {
   "cell_type": "code",
   "execution_count": 10,
   "metadata": {},
   "outputs": [
    {
     "data": {
      "text/html": [
       "<div>\n",
       "<style scoped>\n",
       "    .dataframe tbody tr th:only-of-type {\n",
       "        vertical-align: middle;\n",
       "    }\n",
       "\n",
       "    .dataframe tbody tr th {\n",
       "        vertical-align: top;\n",
       "    }\n",
       "\n",
       "    .dataframe thead th {\n",
       "        text-align: right;\n",
       "    }\n",
       "</style>\n",
       "<table border=\"1\" class=\"dataframe\">\n",
       "  <thead>\n",
       "    <tr style=\"text-align: right;\">\n",
       "      <th></th>\n",
       "      <th>containment_and_health</th>\n",
       "      <th>stringency</th>\n",
       "      <th>economics_sup</th>\n",
       "      <th>total_cases</th>\n",
       "      <th>new_cases</th>\n",
       "      <th>total_deaths</th>\n",
       "      <th>new_deaths</th>\n",
       "      <th>gov_response</th>\n",
       "      <th>total_vaccinations</th>\n",
       "      <th>people_vaccinated</th>\n",
       "      <th>...</th>\n",
       "      <th>day-1</th>\n",
       "      <th>day-2</th>\n",
       "      <th>day-3</th>\n",
       "      <th>day-4</th>\n",
       "      <th>day-5</th>\n",
       "      <th>day-6</th>\n",
       "      <th>day-7</th>\n",
       "      <th>day-8</th>\n",
       "      <th>day-9</th>\n",
       "      <th>day-10</th>\n",
       "    </tr>\n",
       "    <tr>\n",
       "      <th>date</th>\n",
       "      <th></th>\n",
       "      <th></th>\n",
       "      <th></th>\n",
       "      <th></th>\n",
       "      <th></th>\n",
       "      <th></th>\n",
       "      <th></th>\n",
       "      <th></th>\n",
       "      <th></th>\n",
       "      <th></th>\n",
       "      <th></th>\n",
       "      <th></th>\n",
       "      <th></th>\n",
       "      <th></th>\n",
       "      <th></th>\n",
       "      <th></th>\n",
       "      <th></th>\n",
       "      <th></th>\n",
       "      <th></th>\n",
       "      <th></th>\n",
       "      <th></th>\n",
       "    </tr>\n",
       "  </thead>\n",
       "  <tbody>\n",
       "    <tr>\n",
       "      <th>2020-03-29</th>\n",
       "      <td>0.101848</td>\n",
       "      <td>0.140290</td>\n",
       "      <td>0.0</td>\n",
       "      <td>993.0</td>\n",
       "      <td>145.0</td>\n",
       "      <td>20.0</td>\n",
       "      <td>4.0</td>\n",
       "      <td>0.093835</td>\n",
       "      <td>0.0</td>\n",
       "      <td>0.0</td>\n",
       "      <td>...</td>\n",
       "      <td>16.0</td>\n",
       "      <td>12.0</td>\n",
       "      <td>8.0</td>\n",
       "      <td>6.0</td>\n",
       "      <td>5.0</td>\n",
       "      <td>4.0</td>\n",
       "      <td>3.0</td>\n",
       "      <td>2.0</td>\n",
       "      <td>2.0</td>\n",
       "      <td>1.0</td>\n",
       "    </tr>\n",
       "    <tr>\n",
       "      <th>2020-03-30</th>\n",
       "      <td>0.127645</td>\n",
       "      <td>0.180956</td>\n",
       "      <td>0.0</td>\n",
       "      <td>1094.0</td>\n",
       "      <td>101.0</td>\n",
       "      <td>28.0</td>\n",
       "      <td>8.0</td>\n",
       "      <td>0.117573</td>\n",
       "      <td>0.0</td>\n",
       "      <td>0.0</td>\n",
       "      <td>...</td>\n",
       "      <td>20.0</td>\n",
       "      <td>16.0</td>\n",
       "      <td>12.0</td>\n",
       "      <td>8.0</td>\n",
       "      <td>6.0</td>\n",
       "      <td>5.0</td>\n",
       "      <td>4.0</td>\n",
       "      <td>3.0</td>\n",
       "      <td>2.0</td>\n",
       "      <td>2.0</td>\n",
       "    </tr>\n",
       "    <tr>\n",
       "      <th>2020-03-31</th>\n",
       "      <td>0.127645</td>\n",
       "      <td>0.180956</td>\n",
       "      <td>0.0</td>\n",
       "      <td>1215.0</td>\n",
       "      <td>121.0</td>\n",
       "      <td>29.0</td>\n",
       "      <td>1.0</td>\n",
       "      <td>0.117573</td>\n",
       "      <td>0.0</td>\n",
       "      <td>0.0</td>\n",
       "      <td>...</td>\n",
       "      <td>28.0</td>\n",
       "      <td>20.0</td>\n",
       "      <td>16.0</td>\n",
       "      <td>12.0</td>\n",
       "      <td>8.0</td>\n",
       "      <td>6.0</td>\n",
       "      <td>5.0</td>\n",
       "      <td>4.0</td>\n",
       "      <td>3.0</td>\n",
       "      <td>2.0</td>\n",
       "    </tr>\n",
       "    <tr>\n",
       "      <th>2020-04-01</th>\n",
       "      <td>0.127645</td>\n",
       "      <td>0.180956</td>\n",
       "      <td>0.0</td>\n",
       "      <td>1378.0</td>\n",
       "      <td>163.0</td>\n",
       "      <td>37.0</td>\n",
       "      <td>8.0</td>\n",
       "      <td>0.117573</td>\n",
       "      <td>0.0</td>\n",
       "      <td>0.0</td>\n",
       "      <td>...</td>\n",
       "      <td>29.0</td>\n",
       "      <td>28.0</td>\n",
       "      <td>20.0</td>\n",
       "      <td>16.0</td>\n",
       "      <td>12.0</td>\n",
       "      <td>8.0</td>\n",
       "      <td>6.0</td>\n",
       "      <td>5.0</td>\n",
       "      <td>4.0</td>\n",
       "      <td>3.0</td>\n",
       "    </tr>\n",
       "    <tr>\n",
       "      <th>2020-04-02</th>\n",
       "      <td>0.127645</td>\n",
       "      <td>0.180956</td>\n",
       "      <td>0.0</td>\n",
       "      <td>1510.0</td>\n",
       "      <td>132.0</td>\n",
       "      <td>50.0</td>\n",
       "      <td>13.0</td>\n",
       "      <td>0.117573</td>\n",
       "      <td>0.0</td>\n",
       "      <td>0.0</td>\n",
       "      <td>...</td>\n",
       "      <td>37.0</td>\n",
       "      <td>29.0</td>\n",
       "      <td>28.0</td>\n",
       "      <td>20.0</td>\n",
       "      <td>16.0</td>\n",
       "      <td>12.0</td>\n",
       "      <td>8.0</td>\n",
       "      <td>6.0</td>\n",
       "      <td>5.0</td>\n",
       "      <td>4.0</td>\n",
       "    </tr>\n",
       "  </tbody>\n",
       "</table>\n",
       "<p>5 rows × 22 columns</p>\n",
       "</div>"
      ],
      "text/plain": [
       "            containment_and_health  stringency  economics_sup  total_cases  \\\n",
       "date                                                                         \n",
       "2020-03-29                0.101848    0.140290            0.0        993.0   \n",
       "2020-03-30                0.127645    0.180956            0.0       1094.0   \n",
       "2020-03-31                0.127645    0.180956            0.0       1215.0   \n",
       "2020-04-01                0.127645    0.180956            0.0       1378.0   \n",
       "2020-04-02                0.127645    0.180956            0.0       1510.0   \n",
       "\n",
       "            new_cases  total_deaths  new_deaths  gov_response  \\\n",
       "date                                                            \n",
       "2020-03-29      145.0          20.0         4.0      0.093835   \n",
       "2020-03-30      101.0          28.0         8.0      0.117573   \n",
       "2020-03-31      121.0          29.0         1.0      0.117573   \n",
       "2020-04-01      163.0          37.0         8.0      0.117573   \n",
       "2020-04-02      132.0          50.0        13.0      0.117573   \n",
       "\n",
       "            total_vaccinations  people_vaccinated  ...  day-1  day-2  day-3  \\\n",
       "date                                               ...                        \n",
       "2020-03-29                 0.0                0.0  ...   16.0   12.0    8.0   \n",
       "2020-03-30                 0.0                0.0  ...   20.0   16.0   12.0   \n",
       "2020-03-31                 0.0                0.0  ...   28.0   20.0   16.0   \n",
       "2020-04-01                 0.0                0.0  ...   29.0   28.0   20.0   \n",
       "2020-04-02                 0.0                0.0  ...   37.0   29.0   28.0   \n",
       "\n",
       "            day-4  day-5  day-6  day-7  day-8  day-9  day-10  \n",
       "date                                                          \n",
       "2020-03-29    6.0    5.0    4.0    3.0    2.0    2.0     1.0  \n",
       "2020-03-30    8.0    6.0    5.0    4.0    3.0    2.0     2.0  \n",
       "2020-03-31   12.0    8.0    6.0    5.0    4.0    3.0     2.0  \n",
       "2020-04-01   16.0   12.0    8.0    6.0    5.0    4.0     3.0  \n",
       "2020-04-02   20.0   16.0   12.0    8.0    6.0    5.0     4.0  \n",
       "\n",
       "[5 rows x 22 columns]"
      ]
     },
     "execution_count": 10,
     "metadata": {},
     "output_type": "execute_result"
    }
   ],
   "source": [
    "data_index.head()"
   ]
  },
  {
   "cell_type": "code",
   "execution_count": 11,
   "metadata": {},
   "outputs": [
    {
     "data": {
      "text/plain": [
       "Text(0.5, 0, 'Date')"
      ]
     },
     "execution_count": 11,
     "metadata": {},
     "output_type": "execute_result"
    },
    {
     "data": {
      "image/png": "[encoded data removed]",
      "text/plain": [
       "<Figure size 1224x504 with 1 Axes>"
      ]
     },
     "metadata": {
      "needs_background": "light"
     },
     "output_type": "display_data"
    }
   ],
   "source": [
    "fig, ax = plt.subplots(1, figsize=(17,7))\n",
    "plt.plot(data_index.index,data_index['new_deaths']);\n",
    "ax.set_title(\"Covid 19 calculation for different countries\", size=10)\n",
    "ax.set_ylabel(\"Number of death cases\", size=10)\n",
    "ax.set_xlabel(\"Date\", size=13)"
   ]
  },
  {
   "cell_type": "code",
   "execution_count": 12,
   "metadata": {},
   "outputs": [
    {
     "data": {
      "text/plain": [
       "Text(0.5, 0, 'Date')"
      ]
     },
     "execution_count": 12,
     "metadata": {},
     "output_type": "execute_result"
    },
    {
     "data": {
      "image/png": "[encoded data removed]",
      "text/plain": [
       "<Figure size 1224x504 with 1 Axes>"
      ]
     },
     "metadata": {
      "needs_background": "light"
     },
     "output_type": "display_data"
    }
   ],
   "source": [
    "fig, ax = plt.subplots(1, figsize=(17,7))\n",
    "plt.plot(data_index.index[:925],np.log(data_index['total_deaths'][:925]));\n",
    "ax.set_title(\"Covid 19 calculation for different countries\", size=10)\n",
    "ax.set_ylabel(\"Number of death cases\", size=10)\n",
    "ax.set_xlabel(\"Date\", size=13)"
   ]
  },
  {
   "cell_type": "code",
   "execution_count": 13,
   "metadata": {},
   "outputs": [
    {
     "data": {
      "text/plain": [
       "<AxesSubplot:xlabel='new_deaths', ylabel='Count'>"
      ]
     },
     "execution_count": 13,
     "metadata": {},
     "output_type": "execute_result"
    },
    {
     "data": {
      "image/png": "[encoded data removed]",
      "text/plain": [
       "<Figure size 1080x216 with 1 Axes>"
      ]
     },
     "metadata": {
      "needs_background": "light"
     },
     "output_type": "display_data"
    }
   ],
   "source": [
    "\n",
    "plt.figure(figsize=(15,3))\n",
    "sns.histplot(data_index['new_deaths'])"
   ]
  },
  {
   "cell_type": "markdown",
   "metadata": {},
   "source": [
    "# splitting of data into x and y"
   ]
  },
  {
   "cell_type": "code",
   "execution_count": 14,
   "metadata": {},
   "outputs": [],
   "source": [
    "X=data_index.drop(columns=['total_deaths','new_deaths','new_cases'])\n",
    "y=data_index['total_deaths']"
   ]
  },
  {
   "cell_type": "markdown",
   "metadata": {},
   "source": [
    "## scaling data"
   ]
  },
  {
   "cell_type": "code",
   "execution_count": 15,
   "metadata": {},
   "outputs": [],
   "source": [
    "scaler = MinMaxScaler()\n",
    "scaler.fit(X)\n",
    "X=scaler.transform(X)"
   ]
  },
  {
   "cell_type": "code",
   "execution_count": 16,
   "metadata": {},
   "outputs": [],
   "source": [
    "n = len(X)\n",
    "X_train = X[0:int(n-15)]\n",
    "X_test=X[int(n-15):]\n",
    "y_train=y[0:int(n-15)]\n",
    "y_test=y[int(n-15):]"
   ]
  },
  {
   "cell_type": "markdown",
   "metadata": {},
   "source": [
    "# Model"
   ]
  },
  {
   "cell_type": "code",
   "execution_count": 17,
   "metadata": {},
   "outputs": [],
   "source": [
    "model =SVR(C=6, coef0=10, epsilon=0.05, kernel='poly')"
   ]
  },
  {
   "cell_type": "code",
   "execution_count": 18,
   "metadata": {},
   "outputs": [
    {
     "name": "stdout",
     "output_type": "stream",
     "text": [
      "Fitting 2 folds for each of 24 candidates, totalling 48 fits\n",
      "[CV] END .............C=5, coef0=0.01, degree=3, kernel=poly; total time=   0.0s\n",
      "[CV] END ..............C=5, coef0=0.5, degree=3, kernel=poly; total time=   0.0s\n",
      "[CV] END ..............C=5, coef0=0.5, degree=3, kernel=poly; total time=   0.0s\n",
      "[CV] END ...............C=5, coef0=0.5, degree=3, kernel=rbf; total time=   0.0s\n",
      "[CV] END ..............C=5, coef0=0.01, degree=3, kernel=rbf; total time=   0.1s\n",
      "[CV] END ...............C=5, coef0=0.5, degree=3, kernel=rbf; total time=   0.0s\n",
      "[CV] END .............C=5, coef0=0.01, degree=3, kernel=poly; total time=   0.0s\n",
      "[CV] END ..............C=5, coef0=0.5, degree=8, kernel=poly; total time=   0.0s\n",
      "[CV] END ..............C=5, coef0=0.01, degree=3, kernel=rbf; total time=   0.1s\n",
      "[CV] END .............C=5, coef0=0.01, degree=8, kernel=poly; total time=   0.1s\n",
      "[CV] END ...............C=5, coef0=0.5, degree=8, kernel=rbf; total time=   0.0s\n",
      "[CV] END ...............C=5, coef0=0.5, degree=8, kernel=rbf; total time=   0.1s\n",
      "[CV] END ...............C=5, coef0=10, degree=3, kernel=poly; total time=   0.0s\n",
      "[CV] END ...............C=5, coef0=10, degree=3, kernel=poly; total time=   0.1s\n",
      "[CV] END ..............C=5, coef0=0.01, degree=8, kernel=rbf; total time=   0.1s\n",
      "[CV] END ................C=5, coef0=10, degree=3, kernel=rbf; total time=   0.1s\n",
      "[CV] END ................C=5, coef0=10, degree=3, kernel=rbf; total time=   0.1s\n",
      "[CV] END ..............C=5, coef0=0.01, degree=8, kernel=rbf; total time=   0.1s\n",
      "[CV] END ................C=5, coef0=10, degree=8, kernel=rbf; total time=   0.0s\n",
      "[CV] END .............C=6, coef0=0.01, degree=3, kernel=poly; total time=   0.0s\n",
      "[CV] END .............C=5, coef0=0.01, degree=8, kernel=poly; total time=   0.2s\n",
      "[CV] END ................C=5, coef0=10, degree=8, kernel=rbf; total time=   0.1s\n",
      "[CV] END .............C=6, coef0=0.01, degree=3, kernel=poly; total time=   0.0s\n",
      "[CV] END .............C=6, coef0=0.01, degree=8, kernel=poly; total time=   0.0s\n",
      "[CV] END ..............C=6, coef0=0.01, degree=3, kernel=rbf; total time=   0.0s\n",
      "[CV] END ..............C=6, coef0=0.01, degree=3, kernel=rbf; total time=   0.1s\n",
      "[CV] END ..............C=6, coef0=0.5, degree=3, kernel=poly; total time=   0.0s\n",
      "[CV] END ..............C=6, coef0=0.5, degree=3, kernel=poly; total time=   0.0s\n",
      "[CV] END ..............C=6, coef0=0.01, degree=8, kernel=rbf; total time=   0.1s\n",
      "[CV] END ..............C=6, coef0=0.01, degree=8, kernel=rbf; total time=   0.1s\n",
      "[CV] END ...............C=6, coef0=0.5, degree=3, kernel=rbf; total time=   0.0s\n",
      "[CV] END ...............C=6, coef0=0.5, degree=3, kernel=rbf; total time=   0.0s\n",
      "[CV] END ..............C=6, coef0=0.5, degree=8, kernel=poly; total time=   0.0s\n",
      "[CV] END ...............C=6, coef0=0.5, degree=8, kernel=rbf; total time=   0.0s\n",
      "[CV] END ...............C=6, coef0=10, degree=3, kernel=poly; total time=   0.0s\n",
      "[CV] END ...............C=6, coef0=0.5, degree=8, kernel=rbf; total time=   0.0s\n",
      "[CV] END ...............C=6, coef0=10, degree=3, kernel=poly; total time=   0.0s\n",
      "[CV] END ................C=6, coef0=10, degree=3, kernel=rbf; total time=   0.0s\n",
      "[CV] END ................C=6, coef0=10, degree=3, kernel=rbf; total time=   0.1s\n",
      "[CV] END ................C=6, coef0=10, degree=8, kernel=rbf; total time=   0.0s\n",
      "[CV] END .............C=6, coef0=0.01, degree=8, kernel=poly; total time=   0.3s\n",
      "[CV] END ................C=6, coef0=10, degree=8, kernel=rbf; total time=   0.1s\n",
      "[CV] END ..............C=5, coef0=0.5, degree=8, kernel=poly; total time=   1.0s\n",
      "[CV] END ..............C=6, coef0=0.5, degree=8, kernel=poly; total time=   1.0s\n",
      "[CV] END ...............C=5, coef0=10, degree=8, kernel=poly; total time=  15.2s\n",
      "[CV] END ...............C=5, coef0=10, degree=8, kernel=poly; total time=  24.2s\n",
      "[CV] END ...............C=6, coef0=10, degree=8, kernel=poly; total time=  29.7s\n",
      "[CV] END ...............C=6, coef0=10, degree=8, kernel=poly; total time= 1.4min\n"
     ]
    },
    {
     "data": {
      "text/plain": [
       "SVR(C=6, coef0=10, epsilon=0.05, kernel='poly')"
      ]
     },
     "execution_count": 18,
     "metadata": {},
     "output_type": "execute_result"
    }
   ],
   "source": [
    "param={'kernel' : ('poly', 'rbf'),'C' : [5,6],'degree' : [3,8],'coef0' : [0.01,0.5,10]}\n",
    "grid_search = GridSearchCV(model, param_grid = param, \n",
    "                      cv = 2, n_jobs = -1, verbose = 2)\n",
    "grid_search.fit(X_train,y_train)\n",
    "grid_search.best_estimator_"
   ]
  },
  {
   "cell_type": "markdown",
   "metadata": {},
   "source": [
    "## fitting the model for train and test set"
   ]
  },
  {
   "cell_type": "code",
   "execution_count": 19,
   "metadata": {},
   "outputs": [
    {
     "data": {
      "text/plain": [
       "SVR(C=6, coef0=10, epsilon=0.05, kernel='poly')"
      ]
     },
     "execution_count": 19,
     "metadata": {},
     "output_type": "execute_result"
    }
   ],
   "source": [
    "model.fit(X_train,y_train)"
   ]
  },
  {
   "cell_type": "markdown",
   "metadata": {},
   "source": [
    "## prediction"
   ]
  },
  {
   "cell_type": "code",
   "execution_count": 20,
   "metadata": {},
   "outputs": [],
   "source": [
    "y_pred=model.predict(X_test)"
   ]
  },
  {
   "cell_type": "code",
   "execution_count": 21,
   "metadata": {},
   "outputs": [],
   "source": [
    "country='Mexico'"
   ]
  },
  {
   "cell_type": "code",
   "execution_count": 22,
   "metadata": {},
   "outputs": [],
   "source": [
    "path='/home/sumedha/code/covid_time_series_prediction/covid_time_series_prediction/data/models'"
   ]
  },
  {
   "cell_type": "code",
   "execution_count": 23,
   "metadata": {},
   "outputs": [
    {
     "ename": "FileNotFoundError",
     "evalue": "[Errno 2] No such file or directory: '/home/sumedha/code/covid_time_series_prediction/covid_time_series_prediction/data/models/model_Mexico.pkl'",
     "output_type": "error",
     "traceback": [
      "\u001b[0;31m---------------------------------------------------------------------------\u001b[0m",
      "\u001b[0;31mFileNotFoundError\u001b[0m                         Traceback (most recent call last)",
      "\u001b[0;32m/var/folders/hz/t9cq46wj2zl48zr3_0lc0rw80000gn/T/ipykernel_16943/3075719812.py\u001b[0m in \u001b[0;36m<module>\u001b[0;34m\u001b[0m\n\u001b[0;32m----> 1\u001b[0;31m \u001b[0;32mwith\u001b[0m \u001b[0mopen\u001b[0m\u001b[0;34m(\u001b[0m\u001b[0;34mf'{path}/model_{country}.pkl'\u001b[0m\u001b[0;34m,\u001b[0m\u001b[0;34m'wb'\u001b[0m\u001b[0;34m)\u001b[0m \u001b[0;32mas\u001b[0m \u001b[0mf\u001b[0m\u001b[0;34m:\u001b[0m\u001b[0;34m\u001b[0m\u001b[0;34m\u001b[0m\u001b[0m\n\u001b[0m\u001b[1;32m      2\u001b[0m     \u001b[0mpickle\u001b[0m\u001b[0;34m.\u001b[0m\u001b[0mdump\u001b[0m\u001b[0;34m(\u001b[0m\u001b[0mmodel\u001b[0m\u001b[0;34m,\u001b[0m \u001b[0mf\u001b[0m\u001b[0;34m)\u001b[0m\u001b[0;34m\u001b[0m\u001b[0;34m\u001b[0m\u001b[0m\n",
      "\u001b[0;31mFileNotFoundError\u001b[0m: [Errno 2] No such file or directory: '/home/sumedha/code/covid_time_series_prediction/covid_time_series_prediction/data/models/model_Mexico.pkl'"
     ]
    }
   ],
   "source": [
    "with open(f'{path}/model_{country}.pkl','wb') as f:\n",
    "    pickle.dump(model, f)"
   ]
  },
  {
   "cell_type": "markdown",
   "metadata": {},
   "source": [
    "## evaluating model performance"
   ]
  },
  {
   "cell_type": "code",
   "execution_count": null,
   "metadata": {},
   "outputs": [
    {
     "data": {
      "text/plain": [
       "0.01338378454539827"
      ]
     },
     "execution_count": 29,
     "metadata": {},
     "output_type": "execute_result"
    }
   ],
   "source": [
    "score=mean_absolute_percentage_error(y_test, y_pred)\n",
    "score"
   ]
  },
  {
   "cell_type": "code",
   "execution_count": null,
   "metadata": {},
   "outputs": [
    {
     "data": {
      "text/plain": [
       "Text(0.5, 0, 'Date')"
      ]
     },
     "execution_count": 26,
     "metadata": {},
     "output_type": "execute_result"
    },
    {
     "data": {
      "image/png": "[encoded data removed]",
      "text/plain": [
       "<Figure size 1700x700 with 1 Axes>"
      ]
     },
     "metadata": {},
     "output_type": "display_data"
    },
    {
     "name": "stdout",
     "output_type": "stream",
     "text": [
      "[CV] END .............C=5, coef0=0.01, degree=3, kernel=poly; total time=   0.0s\n",
      "[CV] END .............C=5, coef0=0.01, degree=8, kernel=poly; total time=   0.0s\n",
      "[CV] END ..............C=5, coef0=0.01, degree=8, kernel=rbf; total time=   0.0s\n",
      "[CV] END ..............C=5, coef0=0.01, degree=8, kernel=rbf; total time=   0.0s\n",
      "[CV] END ..............C=5, coef0=0.5, degree=3, kernel=poly; total time=   0.0s\n",
      "[CV] END ..............C=5, coef0=0.5, degree=3, kernel=poly; total time=   0.0s\n",
      "[CV] END ...............C=5, coef0=0.5, degree=3, kernel=rbf; total time=   0.0s\n",
      "[CV] END ...............C=5, coef0=0.5, degree=3, kernel=rbf; total time=   0.0s\n",
      "[CV] END ..............C=5, coef0=0.5, degree=8, kernel=poly; total time=   0.0s\n",
      "[CV] END ...............C=5, coef0=0.5, degree=8, kernel=rbf; total time=   0.1s\n",
      "[CV] END ...............C=5, coef0=0.5, degree=8, kernel=rbf; total time=   0.1s\n",
      "[CV] END ...............C=5, coef0=10, degree=3, kernel=poly; total time=   0.1s\n",
      "[CV] END ...............C=5, coef0=10, degree=3, kernel=poly; total time=   0.0s\n",
      "[CV] END ................C=5, coef0=10, degree=3, kernel=rbf; total time=   0.0s\n",
      "[CV] END ...............C=5, coef0=10, degree=8, kernel=poly; total time= 1.6min\n",
      "[CV] END ................C=6, coef0=10, degree=8, kernel=rbf; total time=   0.1s\n",
      "[CV] END ................C=6, coef0=10, degree=8, kernel=rbf; total time=   0.1s\n",
      "[CV] END .............C=5, coef0=0.01, degree=3, kernel=poly; total time=   0.0s\n",
      "[CV] END .............C=5, coef0=0.01, degree=8, kernel=poly; total time=   1.2s\n",
      "[CV] END ................C=5, coef0=10, degree=8, kernel=rbf; total time=   0.0s\n",
      "[CV] END ................C=5, coef0=10, degree=8, kernel=rbf; total time=   0.0s\n",
      "[CV] END .............C=6, coef0=0.01, degree=3, kernel=poly; total time=   0.0s\n",
      "[CV] END .............C=6, coef0=0.01, degree=3, kernel=poly; total time=   0.0s\n",
      "[CV] END ..............C=6, coef0=0.01, degree=3, kernel=rbf; total time=   0.0s\n",
      "[CV] END ..............C=6, coef0=0.01, degree=3, kernel=rbf; total time=   0.0s\n",
      "[CV] END .............C=6, coef0=0.01, degree=8, kernel=poly; total time=   1.7s\n",
      "[CV] END .............C=6, coef0=0.01, degree=8, kernel=poly; total time=   0.0s\n",
      "[CV] END ..............C=6, coef0=0.01, degree=8, kernel=rbf; total time=   0.0s\n",
      "[CV] END ..............C=6, coef0=0.01, degree=8, kernel=rbf; total time=   0.0s\n",
      "[CV] END ..............C=6, coef0=0.5, degree=3, kernel=poly; total time=   0.0s\n",
      "[CV] END ..............C=6, coef0=0.5, degree=3, kernel=poly; total time=   0.0s\n",
      "[CV] END ...............C=6, coef0=0.5, degree=3, kernel=rbf; total time=   0.0s\n",
      "[CV] END ...............C=6, coef0=0.5, degree=3, kernel=rbf; total time=   0.0s\n",
      "[CV] END ..............C=6, coef0=0.5, degree=8, kernel=poly; total time=   2.5s\n",
      "[CV] END ...............C=6, coef0=10, degree=8, kernel=poly; total time= 2.1min\n",
      "[CV] END ..............C=5, coef0=0.01, degree=3, kernel=rbf; total time=   0.0s\n",
      "[CV] END ................C=5, coef0=10, degree=3, kernel=rbf; total time=   0.0s\n",
      "[CV] END ...............C=5, coef0=10, degree=8, kernel=poly; total time= 2.5min\n",
      "[CV] END ..............C=5, coef0=0.01, degree=3, kernel=rbf; total time=   0.0s\n",
      "[CV] END ..............C=5, coef0=0.5, degree=8, kernel=poly; total time=   3.5s\n",
      "[CV] END ..............C=6, coef0=0.5, degree=8, kernel=poly; total time=   0.0s\n",
      "[CV] END ...............C=6, coef0=0.5, degree=8, kernel=rbf; total time=   0.0s\n",
      "[CV] END ...............C=6, coef0=0.5, degree=8, kernel=rbf; total time=   0.0s\n",
      "[CV] END ...............C=6, coef0=10, degree=3, kernel=poly; total time=   0.0s\n",
      "[CV] END ...............C=6, coef0=10, degree=3, kernel=poly; total time=   0.0s\n",
      "[CV] END ................C=6, coef0=10, degree=3, kernel=rbf; total time=   0.0s\n",
      "[CV] END ................C=6, coef0=10, degree=3, kernel=rbf; total time=   0.0s\n",
      "[CV] END ...............C=6, coef0=10, degree=8, kernel=poly; total time= 3.0min\n"
     ]
    }
   ],
   "source": [
    "fig, ax = plt.subplots(1, figsize=(17,7))\n",
    "plt.plot(y_test.index,y_pred,color='r');\n",
    "plt.plot(y_test.index,y_test);\n",
    "ax.set_title(\"Covid 19 calculation for different countries\", size=10)\n",
    "ax.set_ylabel(\"Number of death cases\", size=10)\n",
    "ax.set_xlabel(\"Date\", size=13)"
   ]
  }
 ],
 "metadata": {
  "kernelspec": {
   "display_name": "Python 3.8.12 64-bit ('shims')",
   "language": "python",
   "name": "python3"
  },
  "language_info": {
   "codemirror_mode": {
    "name": "ipython",
    "version": 3
   },
   "file_extension": ".py",
   "mimetype": "text/x-python",
   "name": "python",
   "nbconvert_exporter": "python",
   "pygments_lexer": "ipython3",
   "version": "3.8.12"
  },
  "toc": {
   "base_numbering": 1,
   "nav_menu": {},
   "number_sections": true,
   "sideBar": true,
   "skip_h1_title": false,
   "title_cell": "Table of Contents",
   "title_sidebar": "Contents",
   "toc_cell": false,
   "toc_position": {},
   "toc_section_display": true,
   "toc_window_display": false
  },
  "vscode": {
   "interpreter": {
    "hash": "9c7d4b3da1e137aeabc4fd6b55dede4bb1c85dbdc50880a4fde3d2604903e3dc"
   }
  }
 },
 "nbformat": 4,
 "nbformat_minor": 4
}
